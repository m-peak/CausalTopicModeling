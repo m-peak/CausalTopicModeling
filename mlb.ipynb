{
 "cells": [
  {
   "cell_type": "code",
   "execution_count": 1,
   "id": "potential-combination",
   "metadata": {
    "scrolled": false
   },
   "outputs": [],
   "source": [
    "########################################\n",
    "# 1. Module Installation & Data Loading\n",
    "# 1-1. Module Installation\n",
    "########################################\n",
    "import importlib.util\n",
    "import sys\n",
    "import warnings\n",
    "warnings.simplefilter(action='ignore', category=FutureWarning)\n",
    "warnings.simplefilter(action='ignore', category=DeprecationWarning)\n",
    "\n",
    "# Required Modules\n",
    "MODULES = ['pandas', 'nltk', 'gensim', 'matplotlib', 'pyLDAvis']\n",
    "\n",
    "# Install Modules (if any of them are not installed yet)\n",
    "def install_modules(modules=MODULES):\n",
    "    for module in modules:\n",
    "        if module not in sys.modules and importlib.util.find_spec(module) is None:\n",
    "            !{sys.executable} -m pip install -q {module} --upgrade\n",
    "\n",
    "# Module Installation\n",
    "install_modules()"
   ]
  },
  {
   "cell_type": "code",
   "execution_count": 2,
   "id": "clear-browser",
   "metadata": {},
   "outputs": [],
   "source": [
    "########################################\n",
    "# 1-2. Setup & Data Loading\n",
    "########################################\n",
    "import os\n",
    "import pandas as pd\n",
    "from datetime import datetime\n",
    "\n",
    "# Seed for Reproducible Results\n",
    "SEED = 2\n",
    "os.environ[\"PYTHONHASHSEED\"] = str(SEED)\n",
    "\n",
    "DATA_PATH = 'Data' # Data Folder's Name\n",
    "assert os.path.isdir(DATA_PATH)\n",
    "ARTICLES_FILE = 'articles.csv' # Data Processed Dataset\n",
    "MVPS_FILE = 'mvps.csv' # Supporting Dataset\n",
    "\n",
    "# Configure Years & Months\n",
    "MIN_MAX_MONTHS = {'min': 4, 'max': 10} # Range of Months for the Articles\n",
    "MIN_MAX_YEARS = {'min': 2011, 'max': 2021} # Range of Years for the Articles\n",
    "YEARS = [2018, 2019, 2020, 2021] # Range of Years to Evaluate\n",
    "\n",
    "# Specify Columns & Data Types\n",
    "USECOLS = ['id', 'headline', 'summary', 'created', 'source']\n",
    "DTYPES = {'id': str, 'headline': str, 'summary': str, 'created': str, 'source': str}\n",
    "COLUMNS = ['id', 'year', 'text']\n",
    "\n",
    "# Specify Columns & Data Types for Supporting Dataset\n",
    "USECOLS_SUP = ['id', 'name', 'team', 'league', 'year']\n",
    "DTYPES_SUP = {'id': int, 'name': str, 'team': str, 'league': str, 'year': int}\n",
    "\n",
    "# Load Dataframe\n",
    "def load_dataframe(file_path, usecols, dtype):\n",
    "    df = pd.read_csv(file_path, usecols=usecols, dtype=dtype)\n",
    "    return df\n",
    "\n",
    "# Concat Csvs\n",
    "def concat_csvs():\n",
    "    # Load Dataset in Data Folder (reuters.csv, mlb.csv, wsj.csv, nyt.csv, espn.csv)\n",
    "    csvs = []\n",
    "    for [r, d, f] in os.walk(DATA_PATH): # r=root directory path, d=directory names, f=file names\n",
    "        for file in f:\n",
    "            if file not in [ARTICLES_FILE, MVPS_FILE]:\n",
    "                csv = load_dataframe(('%s/%s' % (DATA_PATH, file)), USECOLS, DTYPES)\n",
    "                csvs.append(csv)\n",
    "    articles = pd.concat(csvs)\n",
    "    return articles\n",
    "\n",
    "# Articles Dataset\n",
    "articles = concat_csvs()\n",
    "\n",
    "# MVPs (Supporting) Dataset\n",
    "mvps = load_dataframe(('%s/%s' % (DATA_PATH, MVPS_FILE)), USECOLS_SUP, DTYPES_SUP)"
   ]
  },
  {
   "cell_type": "code",
   "execution_count": 3,
   "id": "legendary-region",
   "metadata": {},
   "outputs": [
    {
     "data": {
      "text/plain": [
       "year\n",
       "2011    160\n",
       "2012     45\n",
       "2013     67\n",
       "2014     70\n",
       "2015     80\n",
       "2016     59\n",
       "2017     94\n",
       "2018    269\n",
       "2019    429\n",
       "2020    107\n",
       "2021    942\n",
       "dtype: int64"
      ]
     },
     "execution_count": 3,
     "metadata": {},
     "output_type": "execute_result"
    }
   ],
   "source": [
    "########################################\n",
    "# 2. Data Cleaning & Preprocessing\n",
    "########################################\n",
    "import calendar\n",
    "import string\n",
    "import re\n",
    "import csv\n",
    "\n",
    "# Filter Created\n",
    "def filter_created(df1):\n",
    "    dfs = []\n",
    "    for year in range(MIN_MAX_YEARS['min'], MIN_MAX_YEARS['max']+1):\n",
    "        if year == MIN_MAX_YEARS['max'] and end_month < start_month:\n",
    "            break\n",
    "        \n",
    "        # Start Date\n",
    "        start_month = MIN_MAX_MONTHS['min']\n",
    "        start_month = ('0' if start_month < 10 else '') + str(start_month)\n",
    "        start_date = pd.to_datetime(str(year) + start_month + '01')\n",
    "        \n",
    "        # End Date\n",
    "        end_month = MIN_MAX_MONTHS['max']\n",
    "        if end_month < MIN_MAX_MONTHS['min']:\n",
    "            year += 1\n",
    "        end_day = calendar.monthrange(year, end_month)[1] # number of days in the month\n",
    "        end_day = ('0' if end_day < 10 else '') + str(end_day)\n",
    "        end_month = ('0' if end_month < 10 else '') + str(end_month)\n",
    "        end_date = pd.to_datetime(str(year) + end_month + end_day)\n",
    "        \n",
    "        df_ = df1[(pd.to_datetime(df1['created']) >= start_date) & (pd.to_datetime(df1['created']) <= end_date)]\n",
    "        dfs.append(df_)\n",
    "    df = pd.concat(dfs)\n",
    "    return df\n",
    "\n",
    "# Remove Duplicates\n",
    "def remove_duplicates(df1):\n",
    "    df = df1.drop_duplicates(subset=['headline', 'summary'])\n",
    "    return df\n",
    "\n",
    "# Preprocess Text\n",
    "def preprocess_text(text):\n",
    "    text = text.str.lower() # lowercase\n",
    "    text = text.apply(lambda x: re.sub(r'\\n', ' ', str(x))) # replace newline with space\n",
    "    text = text.apply(lambda x: re.sub(r'\\r', ' ', str(x))) # replace return with space\n",
    "    \n",
    "    # Replace punctuation (special characters) with a whitespace\n",
    "    dictionary = dict.fromkeys(string.punctuation, ' ') # e.g. {'=' : ' '}\n",
    "    trans_dictionary = str.maketrans(dictionary) # dictionary for translation \n",
    "    text = text.str.translate(trans_dictionary) # replace punctuation with a whitespace\n",
    "    \n",
    "    text = text.apply(lambda x: re.sub(r'\\d+', ' ', str(x))) # replace digit with a whitespace\n",
    "    text = text.apply(lambda x: re.sub(r'\\ss\\s', ' ', str(x))) # replace (whitespace)s(whitespace) with a whitespaceace\n",
    "    text = text.apply(lambda x: re.sub(r'\\s+', ' ', str(x))) # replace multiple whitespaces with a whitespace\n",
    "    text = text.apply(lambda x: re.sub(r'\\s(\\w{1})\\s(\\w{1})\\s',  r' \\1\\2 ', str(x))) # e.g. ' n y ' -> 'ny'\n",
    "    text = text.apply(lambda x: re.sub(r'(^\\w{1})\\s(\\w{1})\\s',  r'\\1\\2 ', str(x))) # e.g. 'n y ' -> 'ny'\n",
    "    text = text.apply(lambda x: re.sub(r'(\\w+)\\s([t]{1})\\s',  r'\\1\\2 ', str(x))) # e.g. 'wasn t ' -> 'wasnt'\n",
    "    text = text.str.strip() # strip the left and the right whitespace\n",
    "    return text\n",
    "\n",
    "# Concat Text (Headline and Summary)\n",
    "def concat_text(df1):\n",
    "    df1 = df1.sort_values(['created'], ascending=True)\n",
    "    df = pd.DataFrame(columns=['id', 'year', 'text'])\n",
    "    for row in df1.itertuples():\n",
    "        df = df.append({'id': row.id,\n",
    "                        'year': int(row.created[:4]),\n",
    "                        'text': str(' '.join([str(row.headline), str(row.summary)]))}, ignore_index=True)\n",
    "    return df\n",
    "\n",
    "# Concat Name\n",
    "def concat_name(df2):\n",
    "    df2 = df2.sort_values(['year'], ascending=True)\n",
    "    df = pd.DataFrame(columns=['year', 'name'])\n",
    "    for y in range(MIN_MAX_YEARS['min'], MIN_MAX_YEARS['max']+1):\n",
    "        rows = df2[df2['year'].astype(int)==y]\n",
    "        df = df.append({'year': int(y), 'name': str(';'.join(rows['name'].str.lower()))}, ignore_index=True)\n",
    "    return df\n",
    "\n",
    "# Merge Articles (& MVPs as option)\n",
    "def save_articles(df1, df2=None, file_name=ARTICLES_FILE):\n",
    "    if mvps is None:\n",
    "        df1 = pd.merge(df1, df2, how='left', on=['year'])\n",
    "        COLUMNS.append('name')\n",
    "    df = df1.sort_values(['id'], ascending=True)\n",
    "    df.to_csv('%s/%s' % (DATA_PATH, file_name), columns=COLUMNS,\n",
    "              index=False, header=True, quoting=csv.QUOTE_NONE, escapechar='')\n",
    "    return df\n",
    "\n",
    "# Preprocess Articles (& MVPs as option)\n",
    "def preprocess_articles(df1, df2=None):\n",
    "    df1 = filter_created(df1)\n",
    "    df1 = remove_duplicates(df1)\n",
    "    df1.headline = preprocess_text(df1.headline)\n",
    "    df1.summary = preprocess_text(df1.summary)\n",
    "    df1 = concat_text(df1)\n",
    "    if df2 is not None:\n",
    "        df2 = concat_name(df2)\n",
    "    df = save_articles(df1, df2) # COLUMNS=['id', 'year', 'text', 'name']\n",
    "    return df\n",
    "\n",
    "# Preprocessed Article (& MVPs as option)\n",
    "articles = preprocess_articles(articles, mvps)\n",
    "\n",
    "# Stats: Number of Articles per Year\n",
    "articles.groupby(['year']).size()"
   ]
  },
  {
   "cell_type": "code",
   "execution_count": 4,
   "id": "scheduled-gibraltar",
   "metadata": {},
   "outputs": [
    {
     "name": "stderr",
     "output_type": "stream",
     "text": [
      "[nltk_data] Downloading package wordnet to\n",
      "[nltk_data]     C:\\Users\\Masami\\AppData\\Roaming\\nltk_data...\n",
      "[nltk_data]   Package wordnet is already up-to-date!\n"
     ]
    }
   ],
   "source": [
    "########################################\n",
    "# 3. Document Processing\n",
    "########################################\n",
    "import nltk\n",
    "nltk.download('wordnet') # for lemmatizer\n",
    "import gensim\n",
    "STOP_WORDS = ['mlb', 'major', 'league', 'baseball', 'game', 'team', 'player']\n",
    "stop_words = gensim.parsing.preprocessing.STOPWORDS.union(set(STOP_WORDS))"
   ]
  },
  {
   "cell_type": "code",
   "execution_count": 5,
   "id": "6fdb44bb",
   "metadata": {},
   "outputs": [],
   "source": [
    "########################################\n",
    "# 3-1. Lemmatizer & Stemmer Test\n",
    "# Find out which method to use\n",
    "########################################\n",
    "pd.set_option('display.max_columns', None) # None=auto detect\n",
    "\n",
    "def test_lemmatizer_stemmer(text):\n",
    "    # Stop Words Removal\n",
    "    swr = [token for token in text if token not in stop_words]\n",
    "    \n",
    "    # Lemmatization\n",
    "    lemmatizer = nltk.stem.WordNetLemmatizer()\n",
    "    lemmatized = ['Lemmatizer'] + [lemmatizer.lemmatize(token) for token in swr]\n",
    "    \n",
    "    # Snowball English Stemmer\n",
    "    snowball = nltk.stem.snowball.EnglishStemmer()\n",
    "    snowballed = ['Snowball'] + [snowball.stem(token) for token in swr]\n",
    "    \n",
    "    # Porter Stemmer\n",
    "    porter = nltk.stem.porter.PorterStemmer()\n",
    "    portered = ['Porter'] + [porter.stem(token) for token in swr]\n",
    "    \n",
    "    # Lancaster Stemmer\n",
    "    lancaster = nltk.stem.lancaster.LancasterStemmer()\n",
    "    lancastered = ['Lancaster'] + [lancaster.stem(token) for token in swr]\n",
    "    \n",
    "    df = pd.DataFrame([lemmatized, snowballed, portered, lancastered], columns=[''] + swr)\n",
    "    return df\n",
    "\n",
    "def print_text_note(text, note):\n",
    "    print('Sample Text:\\n', ' '.join(text), '\\n' + note)"
   ]
  },
  {
   "cell_type": "code",
   "execution_count": 6,
   "id": "e36a65a8",
   "metadata": {
    "scrolled": true
   },
   "outputs": [
    {
     "name": "stdout",
     "output_type": "stream",
     "text": [
      "Sample Text:\n",
      " judge blocks dodgers requests a bankruptcy judge blocked a request by the los angeles dodgers to gather testimony from baseball commissioner bud selig \n",
      "NOTE: Lemmatizer groups words, Porter transforms 'los' into 'lo' and Lancaster transforms 'dodgers' into 'dodg.'\n"
     ]
    },
    {
     "data": {
      "text/html": [
       "<div>\n",
       "<style scoped>\n",
       "    .dataframe tbody tr th:only-of-type {\n",
       "        vertical-align: middle;\n",
       "    }\n",
       "\n",
       "    .dataframe tbody tr th {\n",
       "        vertical-align: top;\n",
       "    }\n",
       "\n",
       "    .dataframe thead th {\n",
       "        text-align: right;\n",
       "    }\n",
       "</style>\n",
       "<table border=\"1\" class=\"dataframe\">\n",
       "  <thead>\n",
       "    <tr style=\"text-align: right;\">\n",
       "      <th></th>\n",
       "      <th></th>\n",
       "      <th>judge</th>\n",
       "      <th>blocks</th>\n",
       "      <th>dodgers</th>\n",
       "      <th>requests</th>\n",
       "      <th>bankruptcy</th>\n",
       "      <th>judge</th>\n",
       "      <th>blocked</th>\n",
       "      <th>request</th>\n",
       "      <th>los</th>\n",
       "      <th>angeles</th>\n",
       "      <th>dodgers</th>\n",
       "      <th>gather</th>\n",
       "      <th>testimony</th>\n",
       "      <th>commissioner</th>\n",
       "      <th>bud</th>\n",
       "      <th>selig</th>\n",
       "    </tr>\n",
       "  </thead>\n",
       "  <tbody>\n",
       "    <tr>\n",
       "      <th>0</th>\n",
       "      <td>Lemmatizer</td>\n",
       "      <td>judge</td>\n",
       "      <td>block</td>\n",
       "      <td>dodger</td>\n",
       "      <td>request</td>\n",
       "      <td>bankruptcy</td>\n",
       "      <td>judge</td>\n",
       "      <td>blocked</td>\n",
       "      <td>request</td>\n",
       "      <td>los</td>\n",
       "      <td>angeles</td>\n",
       "      <td>dodger</td>\n",
       "      <td>gather</td>\n",
       "      <td>testimony</td>\n",
       "      <td>commissioner</td>\n",
       "      <td>bud</td>\n",
       "      <td>selig</td>\n",
       "    </tr>\n",
       "    <tr>\n",
       "      <th>1</th>\n",
       "      <td>Snowball</td>\n",
       "      <td>judg</td>\n",
       "      <td>block</td>\n",
       "      <td>dodger</td>\n",
       "      <td>request</td>\n",
       "      <td>bankruptci</td>\n",
       "      <td>judg</td>\n",
       "      <td>block</td>\n",
       "      <td>request</td>\n",
       "      <td>los</td>\n",
       "      <td>angel</td>\n",
       "      <td>dodger</td>\n",
       "      <td>gather</td>\n",
       "      <td>testimoni</td>\n",
       "      <td>commission</td>\n",
       "      <td>bud</td>\n",
       "      <td>selig</td>\n",
       "    </tr>\n",
       "    <tr>\n",
       "      <th>2</th>\n",
       "      <td>Porter</td>\n",
       "      <td>judg</td>\n",
       "      <td>block</td>\n",
       "      <td>dodger</td>\n",
       "      <td>request</td>\n",
       "      <td>bankruptci</td>\n",
       "      <td>judg</td>\n",
       "      <td>block</td>\n",
       "      <td>request</td>\n",
       "      <td>lo</td>\n",
       "      <td>angel</td>\n",
       "      <td>dodger</td>\n",
       "      <td>gather</td>\n",
       "      <td>testimoni</td>\n",
       "      <td>commission</td>\n",
       "      <td>bud</td>\n",
       "      <td>selig</td>\n",
       "    </tr>\n",
       "    <tr>\n",
       "      <th>3</th>\n",
       "      <td>Lancaster</td>\n",
       "      <td>judg</td>\n",
       "      <td>block</td>\n",
       "      <td>dodg</td>\n",
       "      <td>request</td>\n",
       "      <td>bankruptcy</td>\n",
       "      <td>judg</td>\n",
       "      <td>block</td>\n",
       "      <td>request</td>\n",
       "      <td>los</td>\n",
       "      <td>angel</td>\n",
       "      <td>dodg</td>\n",
       "      <td>gath</td>\n",
       "      <td>testimony</td>\n",
       "      <td>commit</td>\n",
       "      <td>bud</td>\n",
       "      <td>selig</td>\n",
       "    </tr>\n",
       "  </tbody>\n",
       "</table>\n",
       "</div>"
      ],
      "text/plain": [
       "               judge blocks dodgers requests  bankruptcy  judge  blocked  \\\n",
       "0  Lemmatizer  judge  block  dodger  request  bankruptcy  judge  blocked   \n",
       "1    Snowball   judg  block  dodger  request  bankruptci   judg    block   \n",
       "2      Porter   judg  block  dodger  request  bankruptci   judg    block   \n",
       "3   Lancaster   judg  block    dodg  request  bankruptcy   judg    block   \n",
       "\n",
       "   request  los  angeles dodgers  gather  testimony  commissioner  bud  selig  \n",
       "0  request  los  angeles  dodger  gather  testimony  commissioner  bud  selig  \n",
       "1  request  los    angel  dodger  gather  testimoni    commission  bud  selig  \n",
       "2  request   lo    angel  dodger  gather  testimoni    commission  bud  selig  \n",
       "3  request  los    angel    dodg    gath  testimony        commit  bud  selig  "
      ]
     },
     "execution_count": 6,
     "metadata": {},
     "output_type": "execute_result"
    }
   ],
   "source": [
    "########################################\n",
    "# 3-1-1. Lemmatizer & Stemmer Test1\n",
    "# Find out Lemmatizer works fine\n",
    "########################################\n",
    "sample_text1 = articles.text.values[101].split()\n",
    "note1 = \"NOTE: Lemmatizer groups words, Porter transforms 'los' into 'lo' and Lancaster transforms 'dodgers' into 'dodg.'\"\n",
    "print_text_note(sample_text1, note1)\n",
    "test_lemmatizer_stemmer(sample_text1)"
   ]
  },
  {
   "cell_type": "code",
   "execution_count": 7,
   "id": "fa08e077",
   "metadata": {},
   "outputs": [
    {
     "name": "stdout",
     "output_type": "stream",
     "text": [
      "Sample Text:\n",
      " dodging dodgers bankruptcies testimonies committed commits commissioner commissioning laud laudly generous generically \n",
      "NOTE: Snowball treats 'laud' & 'laudly' same, 'generous' and 'generically' differently. Snowball seems the best.\n"
     ]
    },
    {
     "data": {
      "text/html": [
       "<div>\n",
       "<style scoped>\n",
       "    .dataframe tbody tr th:only-of-type {\n",
       "        vertical-align: middle;\n",
       "    }\n",
       "\n",
       "    .dataframe tbody tr th {\n",
       "        vertical-align: top;\n",
       "    }\n",
       "\n",
       "    .dataframe thead th {\n",
       "        text-align: right;\n",
       "    }\n",
       "</style>\n",
       "<table border=\"1\" class=\"dataframe\">\n",
       "  <thead>\n",
       "    <tr style=\"text-align: right;\">\n",
       "      <th></th>\n",
       "      <th></th>\n",
       "      <th>dodging</th>\n",
       "      <th>dodgers</th>\n",
       "      <th>bankruptcies</th>\n",
       "      <th>testimonies</th>\n",
       "      <th>committed</th>\n",
       "      <th>commits</th>\n",
       "      <th>commissioner</th>\n",
       "      <th>commissioning</th>\n",
       "      <th>laud</th>\n",
       "      <th>laudly</th>\n",
       "      <th>generous</th>\n",
       "      <th>generically</th>\n",
       "    </tr>\n",
       "  </thead>\n",
       "  <tbody>\n",
       "    <tr>\n",
       "      <th>0</th>\n",
       "      <td>Lemmatizer</td>\n",
       "      <td>dodging</td>\n",
       "      <td>dodger</td>\n",
       "      <td>bankruptcy</td>\n",
       "      <td>testimony</td>\n",
       "      <td>committed</td>\n",
       "      <td>commits</td>\n",
       "      <td>commissioner</td>\n",
       "      <td>commissioning</td>\n",
       "      <td>laud</td>\n",
       "      <td>laudly</td>\n",
       "      <td>generous</td>\n",
       "      <td>generically</td>\n",
       "    </tr>\n",
       "    <tr>\n",
       "      <th>1</th>\n",
       "      <td>Snowball</td>\n",
       "      <td>dodg</td>\n",
       "      <td>dodger</td>\n",
       "      <td>bankruptci</td>\n",
       "      <td>testimoni</td>\n",
       "      <td>commit</td>\n",
       "      <td>commit</td>\n",
       "      <td>commission</td>\n",
       "      <td>commiss</td>\n",
       "      <td>laud</td>\n",
       "      <td>laud</td>\n",
       "      <td>generous</td>\n",
       "      <td>generic</td>\n",
       "    </tr>\n",
       "    <tr>\n",
       "      <th>2</th>\n",
       "      <td>Porter</td>\n",
       "      <td>dodg</td>\n",
       "      <td>dodger</td>\n",
       "      <td>bankruptci</td>\n",
       "      <td>testimoni</td>\n",
       "      <td>commit</td>\n",
       "      <td>commit</td>\n",
       "      <td>commission</td>\n",
       "      <td>commiss</td>\n",
       "      <td>laud</td>\n",
       "      <td>laudli</td>\n",
       "      <td>gener</td>\n",
       "      <td>gener</td>\n",
       "    </tr>\n",
       "    <tr>\n",
       "      <th>3</th>\n",
       "      <td>Lancaster</td>\n",
       "      <td>dodg</td>\n",
       "      <td>dodg</td>\n",
       "      <td>bankruptcy</td>\n",
       "      <td>testimony</td>\n",
       "      <td>commit</td>\n",
       "      <td>commit</td>\n",
       "      <td>commit</td>\n",
       "      <td>commit</td>\n",
       "      <td>laud</td>\n",
       "      <td>laud</td>\n",
       "      <td>gen</td>\n",
       "      <td>gen</td>\n",
       "    </tr>\n",
       "  </tbody>\n",
       "</table>\n",
       "</div>"
      ],
      "text/plain": [
       "               dodging dodgers bankruptcies testimonies  committed  commits  \\\n",
       "0  Lemmatizer  dodging  dodger   bankruptcy   testimony  committed  commits   \n",
       "1    Snowball     dodg  dodger   bankruptci   testimoni     commit   commit   \n",
       "2      Porter     dodg  dodger   bankruptci   testimoni     commit   commit   \n",
       "3   Lancaster     dodg    dodg   bankruptcy   testimony     commit   commit   \n",
       "\n",
       "   commissioner  commissioning  laud  laudly  generous  generically  \n",
       "0  commissioner  commissioning  laud  laudly  generous  generically  \n",
       "1    commission        commiss  laud    laud  generous      generic  \n",
       "2    commission        commiss  laud  laudli     gener        gener  \n",
       "3        commit         commit  laud    laud       gen          gen  "
      ]
     },
     "execution_count": 7,
     "metadata": {},
     "output_type": "execute_result"
    }
   ],
   "source": [
    "########################################\n",
    "# 3-1-2. lemmatizer & Stemmer Test2\n",
    "# Find out Snowball Stemmer works fine\n",
    "########################################\n",
    "sample_text2 = 'dodging dodgers bankruptcies testimonies committed commits commissioner commissioning laud laudly generous generically'.split()\n",
    "note2 = \"NOTE: Snowball treats 'laud' & 'laudly' same, 'generous' and 'generically' differently. Snowball seems the best.\"\n",
    "print_text_note(sample_text2, note2)\n",
    "test_lemmatizer_stemmer(sample_text2)"
   ]
  },
  {
   "cell_type": "code",
   "execution_count": 8,
   "id": "51fb2381",
   "metadata": {},
   "outputs": [],
   "source": [
    "########################################\n",
    "# 3-2. Vocabulary\n",
    "########################################\n",
    "# Minimum total count in the collection\n",
    "MIN_COUNT = 1 \n",
    "\n",
    "# Phrase of words `a` and `b`: (cnt(a, b) - min_count) * TotalVocabSize / (cnt(a) * cnt(b)) > threshold\n",
    "THRESHOLD = 1 # smaller: longer phrases (e.g. Los Angeles Angeles)\n",
    "    \n",
    "# Create Vocabulary\n",
    "def create_vocabulary(docs):\n",
    "    # Tokenize Word\n",
    "    docs_tokenized = [doc.split() for doc in docs]\n",
    "    \n",
    "    # Lemmatization\n",
    "    lemmatizer = nltk.stem.WordNetLemmatizer()\n",
    "    docs_lemmatized = [[lemmatizer.lemmatize(token) for token in doc] for doc in docs_tokenized]\n",
    "    \n",
    "    # Remove Stop Words\n",
    "    docs_sw_removed = [[token for token in doc if token not in stop_words] for doc in docs_lemmatized]\n",
    "\n",
    "    # Snowball English Stemming\n",
    "    stemmer = nltk.stem.snowball.EnglishStemmer()\n",
    "    docs_stemmed = [[stemmer.stem(token) for token in doc] for doc in docs_sw_removed]\n",
    "    return docs_stemmed"
   ]
  },
  {
   "cell_type": "code",
   "execution_count": 9,
   "id": "ef650559",
   "metadata": {},
   "outputs": [
    {
     "name": "stdout",
     "output_type": "stream",
     "text": [
      "Sample Processed Documents:\n",
      " [['he', 'play', 'los', 'angel', 'today'], ['he', 'play', 'los', 'angel', 'today'], ['he', 'play', 'angel', 'today']] \n",
      "NOTE: There are 3 'angel today' and 2 'los angel'. It is hard to configure MIN_COUNT. MIN_COUNT = 1 seems the best due to 'los_angel'.\n",
      "\n",
      "MIN_COUNT = 1\n",
      "['he_play', 'los_angel', 'today']\n",
      "['he_play', 'los_angel', 'today']\n",
      "['he_play', 'angel_today']\n",
      "\n",
      "MIN_COUNT = 2\n",
      "['he_play', 'los', 'angel_today']\n",
      "['he_play', 'los', 'angel_today']\n",
      "['he_play', 'angel_today']\n"
     ]
    }
   ],
   "source": [
    "########################################\n",
    "# 3-3. MIN_COUNT Test\n",
    "# Find out the value for MIN_COUNT\n",
    "########################################\n",
    "def print_vocab_note(docs, note):\n",
    "    vocab = create_vocabulary(docs)\n",
    "    print('Sample Processed Documents:\\n', vocab, '\\n' + note)\n",
    "    #print(vocab)\n",
    "    #print('\\n' + note)\n",
    "    return vocab\n",
    "\n",
    "def test_min_count(docs, min_count):\n",
    "    print('\\n' + 'MIN_COUNT = ' + str(min_count))\n",
    "    bigram = gensim.models.Phrases(docs, min_count=min_count, threshold=1).freeze()\n",
    "    for doc in docs:\n",
    "        print(bigram[doc])\n",
    "\n",
    "sample_docs = [\"He plays baseball in Los Angeles today\", \"He is playing in Los Angeles today\", \"He played with Angeles today\"]\n",
    "note = \"NOTE: There are 3 'angel today' and 2 'los angel'. It is hard to configure MIN_COUNT. MIN_COUNT = 1 seems the best due to 'los_angel'.\"\n",
    "sample_vocab = print_vocab_note(sample_docs, note)\n",
    "\n",
    "test_min_count(sample_vocab, 1) # MIN_COUNT = 1\n",
    "test_min_count(sample_vocab, 2) # MIN_COUNT = 2"
   ]
  },
  {
   "cell_type": "code",
   "execution_count": 10,
   "id": "e7bb1076",
   "metadata": {},
   "outputs": [],
   "source": [
    "########################################\n",
    "# 3-4. N-gram Model & Terms\n",
    "########################################\n",
    "# Create N-gram Model\n",
    "def create_ngram_model(docs):\n",
    "    ngram_model = gensim.models.Phrases(docs, min_count=MIN_COUNT, threshold=THRESHOLD).freeze()\n",
    "    return ngram_model\n",
    "\n",
    "# Create Trigram Terms\n",
    "def create_trigram_terms(docs):\n",
    "    # Vocabulary\n",
    "    vocab = create_vocabulary(docs)\n",
    "    \n",
    "    bigram_model = create_ngram_model(vocab)\n",
    "    bigram_terms = [bigram_model[doc] for doc in vocab]\n",
    "    trigram_model = create_ngram_model(bigram_model[vocab])\n",
    "    trigram_terms = [trigram_model[terms] for terms in bigram_terms]\n",
    "    return trigram_terms\n",
    "\n",
    "########################################\n",
    "# 3-5. Dictionary & Corpus\n",
    "########################################\n",
    "# Create Dictionary: {TermID: Term} (e.g. {0: 'apple', 1: 'banana'})\n",
    "def create_dictionary(docs):\n",
    "    # Trigram Terms\n",
    "    trigram_terms = create_trigram_terms(docs)\n",
    "\n",
    "    # Dictionary\n",
    "    dictionary = gensim.corpora.Dictionary(trigram_terms)\n",
    "    return dictionary\n",
    "\n",
    "# Create Dictionary for LDA Models\n",
    "DICTIONARY = create_dictionary(articles.text.values)\n",
    "\n",
    "# Create Corpus: [(TermID, Frequency)] (e.g. [(0, 1), (1, 2), ...])\n",
    "def create_corpus(trigram_terms, dictionary=DICTIONARY):\n",
    "    corpus = [dictionary.doc2bow(doc) for doc in trigram_terms]\n",
    "    return corpus\n",
    "\n",
    "# Create Trigram Terms & Corpus\n",
    "def create_trigram_corpus(docs):    \n",
    "    # Trigram Terms\n",
    "    trigram_terms = create_trigram_terms(docs)\n",
    "    \n",
    "    # Corpus\n",
    "    corpus = create_corpus(trigram_terms)\n",
    "    return trigram_terms, corpus"
   ]
  },
  {
   "cell_type": "code",
   "execution_count": 11,
   "id": "invisible-floor",
   "metadata": {},
   "outputs": [],
   "source": [
    "###################################\n",
    "# 4. Topic Model & Coherence Score\n",
    "###################################\n",
    "# LDA Model\n",
    "NUMS_TOPICS = {'min': 2, 'max': 10} # Range of the Numbers of Topics for a Topic Model \n",
    "NUM_TOPICS = 5 # Default Number of Topics in the Corpus\n",
    "CHUNKSIZE = 100 # Number of Documents in each Chunk\n",
    "PASSES = 10 # Number of Passes in the Corpus\n",
    "RANDOM_STATE = SEED # Seed for Reproducibility\n",
    "\n",
    "# Build LDA Model\n",
    "def build_lda_model(corpus, dictionary=DICTIONARY, num_topics=NUM_TOPICS, chunksize=CHUNKSIZE, passes=PASSES, random_state=RANDOM_STATE):\n",
    "    lda_model = gensim.models.ldamodel.LdaModel(\n",
    "        corpus=corpus,\n",
    "        id2word=dictionary,\n",
    "        num_topics=num_topics,\n",
    "        chunksize=chunksize,\n",
    "        passes=passes,\n",
    "        random_state=random_state)\n",
    "    return lda_model\n",
    "\n",
    "# Coherence (c_v: using normalized pointwise mutual information (NPMI) and the cosine similarity)\n",
    "COHERENCE = 'c_v'\n",
    "\n",
    "# Compute Coherence Score\n",
    "def compute_coherence_score(lda_model, trigram_terms, dictionary=DICTIONARY, coherence=COHERENCE):\n",
    "    coherence_model = gensim.models.CoherenceModel(model=lda_model, texts=trigram_terms, dictionary=dictionary, coherence=COHERENCE)\n",
    "    coherence_score = coherence_model.get_coherence()\n",
    "    return coherence_score\n",
    "\n",
    "# Optimize Number of Topics\n",
    "def optimize_num_topics(trigram_terms, corpus, dictionary=DICTIONARY):\n",
    "    lda_models = []\n",
    "    coherence_scores = []\n",
    "    for num_topics in range(NUMS_TOPICS['min'], NUMS_TOPICS['max']+1):\n",
    "        lda_model = build_lda_model(corpus, dictionary, num_topics)\n",
    "        lda_models.append(lda_model)\n",
    "        coherence_score = compute_coherence_score(lda_model, trigram_terms, dictionary)\n",
    "        coherence_scores.append(coherence_score)\n",
    "    return lda_models, coherence_scores"
   ]
  },
  {
   "cell_type": "code",
   "execution_count": 12,
   "id": "attractive-truck",
   "metadata": {
    "scrolled": true
   },
   "outputs": [
    {
     "data": {
      "text/html": [
       "<style>.output_area { max-width:100% !important; }</style>"
      ],
      "text/plain": [
       "<IPython.core.display.HTML object>"
      ]
     },
     "metadata": {},
     "output_type": "display_data"
    }
   ],
   "source": [
    "###################################\n",
    "# 5. Topic Model Evaluation\n",
    "###################################\n",
    "import matplotlib.pyplot as plt\n",
    "from IPython.core.display import display, HTML, Markdown\n",
    "display(HTML(\"<style>.output_area { max-width:100% !important; }</style>\"))\n",
    "\n",
    "# Save LDA Model for the year\n",
    "def save_model(year):\n",
    "    MODEL_PATH = 'Model' # Model Folder's Name\n",
    "    os.makedirs(MODEL_PATH, exist_ok=True) # Make Model Folder, if it doesn't exist\n",
    "    assert os.path.isdir(MODEL_PATH)\n",
    "    MODEL_FILE = 'topic_model_' + str(year) + '.pkl'\n",
    "    lda_model.save('%s/%s' % (MODEL_PATH, MODEL_FILE)) # to load: gensim.models.Phrases.load('%s/%s' % (MODEL_PATH, MODEL_FILE))\n",
    "\n",
    "def get_mvps(year):\n",
    "    vocab = []\n",
    "    mvps_year = mvps[mvps['year']==year].iloc[:, [1,2,3,4]]\n",
    "    names = mvps_year['name'].str.lower()\n",
    "    for name in names:\n",
    "        vocab.append(create_vocabulary([name])[0])\n",
    "    return mvps_year, vocab\n",
    "\n",
    "def print_mvps_topics(lda_model, names):\n",
    "    # the most contributing terms for the optimal number of topics\n",
    "    topics = lda_model.print_topics(num_words=300) # default=30\n",
    "    \n",
    "    for name in names:\n",
    "        full_name = '_'.join(name)\n",
    "        last_name = name[1]\n",
    "        \n",
    "        for topic in topics:\n",
    "            text = topic[1]\n",
    "            index_start = text.find(full_name) # find name by 2-gram (e.g. john_smith)\n",
    "            if index_start < 0:\n",
    "                index_start = text.find(last_name) # find name by last_name (e.g. smith)\n",
    "            if index_start > -1:\n",
    "                index_end = index_start + len(full_name) + 1\n",
    "                text_before = text[:index_start]\n",
    "                rank = text_before.count('+') + 1\n",
    "                \n",
    "                # the Top 5 Terms (abbreviate the rest of the terms)\n",
    "                i = 0\n",
    "                idx = text_before.find('+')\n",
    "                while idx > -1 and i < 4:\n",
    "                    idx = text_before.find('+', idx + 1)\n",
    "                    i += 1\n",
    "                \n",
    "                display(Markdown(f'**{name}**: {text_before[:idx]} ... **<font color=red>{text[index_start:index_end]}</font>** (**{rank}** th) ...'))\n",
    "    \n",
    "def evaluate_model(year, to_save=False):\n",
    "    # Documents for the year\n",
    "    docs = articles[articles['year']==year]['text']\n",
    "\n",
    "    trigram_terms, corpus = create_trigram_corpus(docs)\n",
    "    lda_models, coherence_scores = optimize_num_topics(trigram_terms, corpus)\n",
    "    \n",
    "    num_topics_index = coherence_scores.index(max(coherence_scores))\n",
    "    x = range(NUMS_TOPICS['min'], NUMS_TOPICS['max']+1)\n",
    "    \n",
    "    # Number of Topics Graph\n",
    "    plt.plot(x, coherence_scores)\n",
    "    plt.xticks([i for i in range(min(x), max(x)+1)])\n",
    "    plt.title(\"Number of Topics v.s. Coherence Score\")\n",
    "    plt.xlabel(\"Number of Topics\")\n",
    "    plt.ylabel(\"Coherence Score\")\n",
    "    plt.legend((\"coherence_scores\"), loc='best')\n",
    "    plt.show()\n",
    "\n",
    "    # Optimal LDA Model\n",
    "    lda_model = lda_models[num_topics_index]\n",
    "    if to_save:\n",
    "        save_model(year)\n",
    "\n",
    "    num_topics = x[num_topics_index]\n",
    "    print('Optimal Number of Topics: ' + str(num_topics))\n",
    "    print('Best Coherence Score: ' + str(coherence_scores[num_topics_index]))\n",
    "    print('MVPs in any of the ' + str(num_topics) + ' Topics:')\n",
    "    \n",
    "    # MVPs for the year\n",
    "    mvps_year, names = get_mvps(year)\n",
    "    print(mvps_year)\n",
    "    print('\\n')\n",
    "    \n",
    "    # Print MVPs mentioned in any Topic\n",
    "    print_mvps_topics(lda_model, names)\n",
    "    \n",
    "    return lda_model, corpus"
   ]
  },
  {
   "cell_type": "code",
   "execution_count": 13,
   "id": "46029258",
   "metadata": {},
   "outputs": [
    {
     "data": {
      "text/html": [
       "<style>div.output_scroll { height: 100% !important; box-shadow: none; }div.output_subarea { overflow-x: hidden !important; }.jp-CodeCell.jp-mod-outputsScrolled .jp-Cell-outputArea { overflow-y: hidden !important; max-height: 100%; box-shadow: none; }</style>"
      ],
      "text/plain": [
       "<IPython.core.display.HTML object>"
      ]
     },
     "metadata": {},
     "output_type": "display_data"
    }
   ],
   "source": [
    "###################################\n",
    "# 6. Topic Model Visualization\n",
    "###################################\n",
    "import pyLDAvis\n",
    "import pyLDAvis.gensim_models\n",
    "pyLDAvis.enable_notebook()\n",
    "\n",
    "# Remove Scrollbars and boxes\n",
    "display(HTML(\"<style>\" +\n",
    "             \"div.output_scroll { height: 100% !important; box-shadow: none; }\" +\n",
    "             \"div.output_subarea { overflow-x: hidden !important; }\" +\n",
    "             \".jp-CodeCell.jp-mod-outputsScrolled .jp-Cell-outputArea { overflow-y: hidden !important; max-height: 100%; box-shadow: none; }</style>\"))"
   ]
  },
  {
   "cell_type": "code",
   "execution_count": 14,
   "id": "covered-latitude",
   "metadata": {
    "scrolled": true
   },
   "outputs": [
    {
     "data": {
      "image/png": "[encoded data removed]",
      "text/plain": [
       "<Figure size 432x288 with 1 Axes>"
      ]
     },
     "metadata": {
      "needs_background": "light"
     },
     "output_type": "display_data"
    },
    {
     "name": "stdout",
     "output_type": "stream",
     "text": [
      "Optimal Number of Topics: 6\n",
      "Best Coherence Score: 0.5381005525076664\n",
      "MVPs in any of the 6 Topics:\n",
      "                name               team    league  year\n",
      "14      Mookie Betts     Boston Red Sox  American  2018\n",
      "15  Christian Yelich  Milwaukee Brewers  National  2018\n",
      "\n",
      "\n"
     ]
    },
    {
     "data": {
      "text/markdown": [
       "**['mooki', 'bett']**: 0.010*\"red_sox\" + 0.006*\"pitcher\" + 0.006*\"ray\" + 0.005*\"angel\" + 0.005*\"ha\"  ... **<font color=red>mooki_bett\"</font>** (**74** th) ..."
      ],
      "text/plain": [
       "<IPython.core.display.Markdown object>"
      ]
     },
     "metadata": {},
     "output_type": "display_data"
    },
    {
     "data": {
      "text/markdown": [
       "**['christian', 'yelich']**: 0.008*\"best\" + 0.003*\"sixth_inning\" + 0.003*\"playoff\" + 0.003*\"brewer\" + 0.003*\"houston_astro\"  ... **<font color=red>christian_yelich\"</font>** (**11** th) ..."
      ],
      "text/plain": [
       "<IPython.core.display.Markdown object>"
      ]
     },
     "metadata": {},
     "output_type": "display_data"
    },
    {
     "data": {
      "text/html": [
       "\n",
       "<link rel=\"stylesheet\" type=\"text/css\" href=\"https://cdn.jsdelivr.net/gh/bmabey/pyLDAvis@3.3.1/pyLDAvis/js/ldavis.v1.0.0.css\">\n",
       "\n",
       "\n",
       "<div id=\"ldavis_el2251230170588359207692160269\"></div>\n",
       "<script type=\"text/javascript\">\n",
       "\n",
       "var ldavis_el2251230170588359207692160269_data = {\"mdsDat\": {\"x\": [-0.12495152028377755, 0.024501247120755614, 0.031700268028097646, 0.026164271863123683, 0.021534478694934335, 0.021051254576866307], \"y\": [-0.004203914971471928, 0.06411401453668808, -0.08309133936466832, 0.008462454003566705, 0.013649967997602435, 0.0010688177982830986], \"topics\": [1, 2, 3, 4, 5, 6], \"cluster\": [1, 1, 1, 1, 1, 1], \"Freq\": [29.34059171615478, 19.229466910454203, 18.941896424121882, 13.206285112720268, 11.360311016193762, 7.921448820355109]}, \"tinfo\": {\"Term\": [\"dodger\", \"los_angel\", \"red_sox\", \"best\", \"pitcher\", \"ray\", \"angel\", \"brewer\", \"world_seri\", \"hit\", \"nation\", \"posit\", \"rocki\", \"astro\", \"tampa_bay\", \"nlcs\", \"reliev\", \"power\", \"houston_astro\", \"play\", \"run\", \"royal\", \"milwauke_brewer\", \"shohei_ohtani\", \"jay\", \"hitter\", \"ha\", \"oakland\", \"postseason\", \"sixth_inning\", \"pitcher\", \"ray\", \"angel\", \"rocki\", \"tampa_bay\", \"reliev\", \"postseason\", \"bullpen\", \"baltimor_oriol\", \"wild_card\", \"shohei_ohtani\", \"david_price\", \"right\", \"set\", \"pace\", \"red_sox\", \"tiebreak\", \"rest\", \"pitch_staff\", \"strategi\", \"debut\", \"avoid_sweep\", \"follow\", \"ad\", \"rais\", \"day_disabl_list\", \"drove\", \"bett\", \"lineup\", \"mooki_bett\", \"cub\", \"white_sox\", \"wa\", \"detroit_tiger\", \"run\", \"wednesday\", \"turn\", \"ha\", \"giant\", \"start\", \"yanke\", \"oriol\", \"help\", \"los_angel\", \"pitch\", \"beat\", \"time\", \"win\", \"lead\", \"hit\", \"power\", \"milwauke_brewer\", \"nlcs\", \"night\", \"bryce_harper\", \"twin\", \"walk\", \"minnesota_twin\", \"run_doubl\", \"manni_machado\", \"hit_home\", \"shine\", \"bad\", \"slug\", \"win_los\", \"eighth_inning\", \"end_new_youth_movement\", \"switch\", \"transit\", \"host\", \"mound\", \"run_homer\", \"high\", \"kauffman_stadium\", \"ball\", \"gave\", \"sunday_afternoon\", \"plate\", \"coor_field\", \"sparkl\", \"colorado_rocki\", \"hitter\", \"royal\", \"brewer\", \"th_inning\", \"kansa_citi\", \"send\", \"thursday\", \"hit\", \"star\", \"inning\", \"met\", \"lead\", \"win\", \"time\", \"boston_red_sox\", \"finish\", \"rout\", \"posit\", \"pirat\", \"post\", \"wild\", \"held\", \"new_york_yanke\", \"manag\", \"save\", \"longest\", \"lui_severino\", \"futur\", \"hernandez\", \"pitcher_jacob\", \"attend\", \"social_medium\", \"associ\", \"hire\", \"bruce_meyer\", \"second_base\", \"dugout_road\", \"surveil_oppos\", \"final_weekend\", \"playoff_pictur\", \"regular_season\", \"shape_playoff\", \"era\", \"suppos\", \"jose_rey\", \"dodger_stadium\", \"right_field\", \"astro\", \"pittsburgh_pirat\", \"won\", \"st_loui_cardin\", \"play\", \"worst\", \"nl\", \"year\", \"padr\", \"indian\", \"houston_astro\", \"nation\", \"long\", \"base_load\", \"hit\", \"blast\", \"finish\", \"san_diego\", \"met\", \"homer\", \"pitch\", \"time\", \"season\", \"best\", \"sixth_inning\", \"sport\", \"shut\", \"graf\", \"christian_yelich\", \"end\", \"continu\", \"return\", \"multipl\", \"great\", \"critic\", \"closer\", \"anderson\", \"advantag\", \"catcher\", \"went\", \"jr_hit\", \"shi_cycl\", \"hang\", \"head\", \"take\", \"cub_cruis\", \"toss_scoreless\", \"elit\", \"thought\", \"skill\", \"camargo\", \"featur\", \"run_ninth\", \"rule\", \"drive\", \"martinez\", \"houston_astro\", \"baseman\", \"remain\", \"playoff\", \"carri\", \"cincinnati_red\", \"struggl\", \"brewer\", \"ben_zobrist\", \"brewer_dodger\", \"past\", \"philli\", \"thursday_night\", \"record\", \"seri\", \"right_hander\", \"dodger\", \"open\", \"home\", \"blue_jay\", \"complet\", \"roll\", \"athlet\", \"jos_ramrez\", \"premier_slugger\", \"fascin_question\", \"matchup\", \"your\", \"prove\", \"histori\", \"hit_home_run\", \"daniel_mengden\", \"led\", \"work\", \"spring\", \"matter\", \"alex_cora\", \"boston_red_sox_manag\", \"error\", \"pinch_hitter\", \"aaron\", \"near\", \"defeat_philadelphia\", \"brought\", \"import\", \"swing\", \"los_angel\", \"world_seri\", \"away\", \"took\", \"edg\", \"nation\", \"inning\", \"divis\", \"victori\", \"marin\", \"talent\", \"singl\", \"ranger\", \"philadelphia_philli\", \"met\", \"jay\", \"oakland\", \"boston\", \"road\", \"d\", \"combin\", \"visit_los_angel_angel\", \"hit_run_home_run\", \"prospect\", \"matt_joyc\", \"matt_olson\", \"mengden\", \"stand_victori\", \"capit\", \"fourth_inning\", \"gem\", \"left_hander\", \"toronto_blue\", \"big_hit\", \"icon\", \"nicknam\", \"person\", \"magic\", \"endear\", \"monik\", \"appear\", \"move\", \"univers\", \"movement\", \"purest\", \"final\", \"design_hitter\", \"later\", \"seattl_marin\", \"washington\", \"nation\", \"padr\", \"oakland_athlet\", \"left\", \"cincinnati_red\", \"astro\", \"year\"], \"Freq\": [8.0, 9.0, 13.0, 4.0, 7.0, 7.0, 7.0, 5.0, 5.0, 11.0, 5.0, 3.0, 5.0, 3.0, 4.0, 3.0, 4.0, 3.0, 4.0, 4.0, 6.0, 4.0, 2.0, 5.0, 1.0, 3.0, 7.0, 1.0, 4.0, 2.0, 7.684884422380914, 6.9364753432763795, 6.8398349938515075, 4.9400920124442615, 4.699050445319274, 4.467043380404605, 3.9405662803466783, 3.434833014609688, 3.3021443317119155, 3.16513638228852, 4.621471934750658, 2.392540138524978, 2.380974054080732, 2.38044983167565, 2.271106733396959, 12.104771369785448, 1.9995829654450832, 1.9975217421644529, 1.8912459490996096, 1.8884808615233477, 1.8770641389751346, 1.8759498934076548, 1.8759213603358982, 1.8594199279391181, 1.8806090819871149, 1.7676210293683976, 1.766432830737385, 1.7542532852503694, 1.8619340409454381, 1.7547766341940707, 3.3685160416173847, 4.432617647022523, 4.181672483613809, 2.495852131549539, 5.626522018924896, 4.50080586544524, 3.1415791288616113, 5.792691058837463, 3.994478937123433, 5.322537077812148, 4.098532935590566, 3.6619344292587526, 3.3678140698214105, 5.330708017871137, 4.7362610647355705, 3.5281300450245334, 4.33852431098263, 4.294747591216764, 4.289242455290475, 3.2800550757115117, 2.8709305828532803, 2.751149706162981, 3.095949664928759, 2.4323209295642108, 2.357442926220719, 2.2894074890128784, 1.862946877825504, 1.8511096334054415, 1.8091110199817952, 1.5261975580977123, 1.5138180070612488, 1.5124033729652993, 1.5178720447877607, 1.4956354699194476, 1.5044399380524698, 1.3243117077485578, 1.307494001033853, 1.3073506008149138, 1.492523122253435, 1.197302811240295, 1.2051344858721165, 1.1929928856979515, 1.1972080697782812, 1.109356019879889, 1.400790775013553, 1.1082429746675502, 2.1504224321039973, 1.1019324109409505, 0.9900005733800422, 0.9897271302479864, 2.0424471239370954, 2.9266566902895534, 3.2089923532874782, 4.190887522675661, 1.7218364827415793, 1.8781318447220403, 1.7327549353396958, 2.608918633120533, 4.7992952475826876, 2.3130657582673617, 2.179616732166019, 2.5092364945016263, 2.593126862902338, 2.247933054433445, 1.9445924555733862, 1.6209161218729098, 1.5259789753288566, 1.5145053358551532, 3.240730150028191, 2.062671397711082, 1.7537591527598666, 1.7437590376026038, 1.7349395307552309, 1.6636613143576209, 1.544505117196692, 1.5425606190330536, 1.5397448090049837, 1.5362914216186672, 1.4600081665693145, 1.3503235269207812, 1.2512307163221288, 1.2512196263857678, 1.2512245134763675, 1.2511944390726768, 1.2511583497882477, 1.2511583497882477, 1.2511259258217684, 1.2511104187073654, 1.2511104187073654, 1.251041717491434, 1.251041717491434, 1.2509607985490032, 1.2508165353937986, 1.2508824171343838, 1.2508988640739023, 1.2504543267943464, 1.2407419860874007, 1.2403980100951864, 3.1990259744300515, 1.7301659710293964, 2.401790749659461, 2.125931402154658, 2.9526840902527756, 2.1454780728685208, 2.4446009114533327, 2.169359592944377, 2.107480943455328, 1.6061475886342564, 2.2449719068438885, 2.6155607388843554, 1.3575928862229125, 1.4361587885124028, 3.5489615856658543, 1.4884641914115766, 1.747550292117885, 1.358440232546903, 1.7148186268958956, 1.5624518296342, 1.604949499577221, 1.5285073201008643, 1.4890836301450971, 4.473424010759632, 1.8782106368490026, 1.5810924345113244, 1.324966541637775, 1.1613388179019424, 1.1750461672806831, 1.1662304900365186, 0.9249793324922229, 0.9314127980380906, 0.9237354793546728, 0.9828805224050333, 0.865402285873624, 0.8633113309417187, 0.8564013051119442, 0.7648004951228732, 0.7645168392079781, 0.7624530769775469, 0.7624066855735863, 0.7622753087869463, 0.754871162085325, 0.7567274734895705, 0.6967766746560118, 0.6966145668404768, 0.6965594606671281, 0.6965736795013929, 0.6965740071243022, 0.6965023887563234, 0.6883245277920361, 0.6914328173819828, 0.6833570437162418, 1.1778714562015533, 0.9236577016759987, 0.9380464411815571, 1.5829855707305782, 1.1687556763724454, 1.160422653198301, 1.6123143735735102, 1.264291171977949, 0.9093173848364386, 1.205415893631128, 1.607266621884931, 0.9573774377988918, 1.1259099385856735, 0.9244747276872778, 0.9430618892512769, 0.9658331229902881, 1.0594752202782105, 1.0210009549705854, 0.9177245163126728, 7.828485186880653, 1.652135942796548, 1.2310428378004803, 1.2145197254036615, 1.1702325173824504, 1.0831010596242672, 1.016606272684145, 0.880876543568353, 0.880876543568353, 0.8808417660190805, 0.8807798202708625, 0.8807593595733165, 0.8801545007706535, 0.8758553869325472, 0.814085217427708, 0.8115837703301976, 0.6641356980763148, 0.6615588338622297, 0.6075776517177114, 0.607470275329763, 0.6074551693602249, 0.607455056629109, 0.5997982465022468, 0.5994893068789688, 0.6043831900848601, 0.6042862413251378, 0.5970056712977794, 0.6036241714811269, 0.6029422609607077, 0.6028920392485492, 3.857107307402469, 2.308168922816836, 0.7965433539359931, 1.2518843410562335, 0.7463303220734273, 1.5489966665725823, 1.3546814783432723, 0.8657350073631358, 1.002682063434581, 0.8060744315967433, 0.817728461633181, 0.7845927283334746, 0.7853310044118719, 0.7103091231297056, 0.7262942826411811, 1.3852601581790125, 1.3498007867721253, 1.1072701628913024, 0.9070033995028597, 0.7868818900748438, 0.6313543830222178, 0.6253212590699899, 0.6235429845639994, 0.5825968433635266, 0.518341805476101, 0.518341805476101, 0.518341805476101, 0.5101833988266263, 0.47180481953692455, 0.4672996871410983, 0.4646139404267132, 0.8363420142195354, 0.8503885159135773, 0.4524914889076355, 0.35858350255216664, 0.35858350255216664, 0.35858350255216664, 0.35858350255216664, 0.35858350255216664, 0.35858350255216664, 0.3582455734063493, 0.3582455734063493, 0.3582455734063493, 0.3582455734063493, 0.35797493138517017, 0.46470366969397314, 0.686055199456196, 0.5045765183713034, 0.754455941728457, 0.4718054090853297, 0.9603441670694427, 0.7040512038258478, 0.4497833786570827, 0.5254969579529618, 0.4300493855891238, 0.4998068752577113, 0.47359099399154375], \"Total\": [8.0, 9.0, 13.0, 4.0, 7.0, 7.0, 7.0, 5.0, 5.0, 11.0, 5.0, 3.0, 5.0, 3.0, 4.0, 3.0, 4.0, 3.0, 4.0, 4.0, 6.0, 4.0, 2.0, 5.0, 1.0, 3.0, 7.0, 1.0, 4.0, 2.0, 7.920077535284612, 7.169537539536964, 7.07326464386905, 5.177017912051324, 4.93256184168246, 4.701528867444477, 4.174192578536577, 3.670136477215237, 3.5352312218903807, 3.3997306679831225, 5.029146880451935, 2.6263399923549104, 2.6137334813788526, 2.613469284447582, 2.5041174126779393, 13.398129949271322, 2.2331455131159785, 2.2319731908853213, 2.124082330058274, 2.1228013694867673, 2.1103470660035293, 2.1097112991864306, 2.109983980128083, 2.0947254957959136, 2.11880999377452, 2.0007271139677623, 2.000569452565354, 1.9874354561312626, 2.112034803417277, 1.9971587882278405, 3.8545354962371685, 5.110356307437443, 4.889183060309332, 2.8571923275674167, 6.77527676071046, 5.544039518656584, 3.807689376437824, 7.82293198392936, 5.144933213147593, 7.346799273489555, 5.6318178263497884, 4.926008851622509, 4.647088736031951, 9.381374647327666, 7.929721146418771, 5.269254114301901, 7.928961475105934, 8.171917333373157, 8.6275980817524, 11.745942859954054, 3.1188694377494732, 2.9993360861847025, 3.3999203535434814, 2.682261857914642, 2.6047950742608657, 2.5366347619235605, 2.11041156609199, 2.099073861773712, 2.0577153266874353, 1.773094383546881, 1.7617286953346853, 1.7613467508623313, 1.7724717658088047, 1.750393924635726, 1.7655225129655316, 1.5734592549751794, 1.5545715737663566, 1.5544257421170493, 1.7766338458610598, 1.4444814257857264, 1.4552994601054676, 1.4436469308781397, 1.4559136745355397, 1.3562372741041124, 1.7136078034224609, 1.3560592064433994, 2.6416483119306826, 1.3540791475449327, 1.2369249627779, 1.2369699097062528, 2.5705809583592334, 3.737489225851771, 4.30900076813737, 5.999815799859947, 2.323336285903731, 2.610908115097826, 2.385950373303058, 4.167206878831334, 11.745942859954054, 4.1865604457081185, 4.328770239978155, 5.928182496164905, 8.6275980817524, 8.171917333373157, 7.928961475105934, 4.338850472796005, 3.4688860914959854, 2.711662957394005, 3.4911661005080576, 2.3508990594632784, 2.0031607797700604, 2.000408022453226, 1.991057992033826, 1.919085656206666, 1.7941423253083881, 1.7943470755737596, 1.7927986598917534, 1.7921916595682659, 1.7096981440574384, 1.60290387246887, 1.5006196404802044, 1.5006071297340404, 1.5006209899288596, 1.5006181820682323, 1.500615830314521, 1.500615830314521, 1.5006222308687542, 1.5006317004856262, 1.5006317004856262, 1.500558086497864, 1.500558086497864, 1.500536084725249, 1.5005017603816941, 1.5006213737111638, 1.5006676725577683, 1.5006375120714102, 1.4902066102678375, 1.4901244468117485, 3.9198670360346894, 2.096251968834628, 3.067581194257292, 2.691115341473085, 4.0190848702027, 2.8065721357381648, 3.319740903991326, 3.2454405246292852, 3.222751523620098, 2.1804585659593974, 4.034881176431923, 5.306754823528384, 1.7266439478195095, 1.9178604181131707, 11.745942859954054, 2.109330335579396, 3.4688860914959854, 1.9960936118955572, 5.928182496164905, 4.9655214126841285, 7.929721146418771, 7.928961475105934, 4.88303633352588, 4.740305481793795, 2.142249916955394, 1.8452089627057526, 1.5932821259057166, 1.4228513930110909, 1.4401289468568954, 1.4323059353903969, 1.1856499376743623, 1.1948210183817514, 1.1859246495625837, 1.278333761999758, 1.125916500580639, 1.125118840593568, 1.1176867416487535, 1.025364697512133, 1.0253482932815448, 1.0256850141383518, 1.026057918067595, 1.0259033748318949, 1.016372664135299, 1.0264770605722666, 0.9571232372393921, 0.9571255455283855, 0.9571296625670795, 0.9571796133541739, 0.9571801041200876, 0.9572204786352158, 0.9486699599370118, 0.9579711054273639, 0.9486711061094355, 1.6571360141385072, 1.5390608443014129, 1.600340775257002, 4.034881176431923, 2.4474635650623506, 2.4507555726614974, 4.512876822151896, 2.914991195281118, 1.5722742853196117, 2.8480443562539777, 5.999815799859947, 1.8300428143374348, 2.9490820761136622, 1.7462488874511437, 2.093321857460971, 2.430317864318314, 3.7089188467653895, 3.9761370872337642, 2.3819671873772186, 8.097436006536762, 1.9229401281195715, 1.502868564306434, 1.4867887733690697, 1.443193986108643, 1.3563858673134799, 1.2893656055928184, 1.1473382358413629, 1.1473382358413629, 1.1472972044952887, 1.147278461751659, 1.147357001928317, 1.14754104654314, 1.148005629792744, 1.080518635020003, 1.0801483100892901, 0.933683985049119, 0.934307744441857, 0.8738020974760149, 0.8738482520388413, 0.8738689763612885, 0.8738689373417052, 0.8665242921104843, 0.8665541663780042, 0.8742470396257552, 0.8748212440468233, 0.8662498725181557, 0.8760689611892342, 0.8753411039392879, 0.8753681785658283, 9.381374647327666, 5.365565835959818, 1.3657485431592546, 2.9055861784212653, 1.2506221164990394, 5.306754823528384, 4.328770239978155, 1.7786340643470204, 3.0008835605782678, 1.9152290151809426, 3.0165379305202755, 2.7048842784271527, 2.863478872735978, 2.118489155664131, 5.928182496164905, 1.6625785656854355, 1.627992360107695, 1.4252428908192079, 1.1868917191693313, 1.0661047011969305, 0.9103453558584398, 0.9052804224893086, 0.9077488075826781, 0.8681657111958516, 0.7951871986068275, 0.7951871986068275, 0.7951871986068275, 0.8050471904298585, 0.7491986840377668, 0.7426793645783059, 0.7454006317742388, 1.358910596925915, 1.4456303766287555, 0.7741443224834836, 0.6335613558773681, 0.6335613558773681, 0.6335613558773681, 0.6335613558773681, 0.6335613558773681, 0.6335613558773681, 0.6336691633584252, 0.6336691633584252, 0.6336691633584252, 0.6336691633584252, 0.6338000206895199, 0.8910968796822706, 1.5583426040002886, 1.1144507742313952, 2.5129527669591156, 1.105047441082587, 5.306754823528384, 3.222751523620098, 1.131207418225063, 1.7196612751938105, 1.5722742853196117, 3.9198670360346894, 3.2454405246292852], \"Category\": [\"Default\", \"Default\", \"Default\", \"Default\", \"Default\", \"Default\", \"Default\", \"Default\", \"Default\", \"Default\", \"Default\", \"Default\", \"Default\", \"Default\", \"Default\", \"Default\", \"Default\", \"Default\", \"Default\", \"Default\", \"Default\", \"Default\", \"Default\", \"Default\", \"Default\", \"Default\", \"Default\", \"Default\", \"Default\", \"Default\", \"Topic1\", \"Topic1\", \"Topic1\", \"Topic1\", \"Topic1\", \"Topic1\", \"Topic1\", \"Topic1\", \"Topic1\", \"Topic1\", \"Topic1\", \"Topic1\", \"Topic1\", \"Topic1\", \"Topic1\", \"Topic1\", \"Topic1\", \"Topic1\", \"Topic1\", \"Topic1\", \"Topic1\", \"Topic1\", \"Topic1\", \"Topic1\", \"Topic1\", \"Topic1\", \"Topic1\", \"Topic1\", \"Topic1\", \"Topic1\", \"Topic1\", \"Topic1\", \"Topic1\", \"Topic1\", \"Topic1\", \"Topic1\", \"Topic1\", \"Topic1\", \"Topic1\", \"Topic1\", \"Topic1\", \"Topic1\", \"Topic1\", \"Topic1\", \"Topic1\", \"Topic1\", \"Topic1\", \"Topic1\", \"Topic1\", \"Topic1\", \"Topic2\", \"Topic2\", \"Topic2\", \"Topic2\", \"Topic2\", \"Topic2\", \"Topic2\", \"Topic2\", \"Topic2\", \"Topic2\", \"Topic2\", \"Topic2\", \"Topic2\", \"Topic2\", \"Topic2\", \"Topic2\", \"Topic2\", \"Topic2\", \"Topic2\", \"Topic2\", \"Topic2\", \"Topic2\", \"Topic2\", \"Topic2\", \"Topic2\", \"Topic2\", \"Topic2\", \"Topic2\", \"Topic2\", \"Topic2\", \"Topic2\", \"Topic2\", \"Topic2\", \"Topic2\", \"Topic2\", \"Topic2\", \"Topic2\", \"Topic2\", \"Topic2\", \"Topic2\", \"Topic2\", \"Topic2\", \"Topic2\", \"Topic2\", \"Topic2\", \"Topic2\", \"Topic2\", \"Topic2\", \"Topic3\", \"Topic3\", \"Topic3\", \"Topic3\", \"Topic3\", \"Topic3\", \"Topic3\", \"Topic3\", \"Topic3\", \"Topic3\", \"Topic3\", \"Topic3\", \"Topic3\", \"Topic3\", \"Topic3\", \"Topic3\", \"Topic3\", \"Topic3\", \"Topic3\", \"Topic3\", \"Topic3\", \"Topic3\", \"Topic3\", \"Topic3\", \"Topic3\", \"Topic3\", \"Topic3\", \"Topic3\", \"Topic3\", \"Topic3\", \"Topic3\", \"Topic3\", \"Topic3\", \"Topic3\", \"Topic3\", \"Topic3\", \"Topic3\", \"Topic3\", \"Topic3\", \"Topic3\", \"Topic3\", \"Topic3\", \"Topic3\", \"Topic3\", \"Topic3\", \"Topic3\", \"Topic3\", \"Topic3\", \"Topic3\", \"Topic3\", \"Topic3\", \"Topic3\", \"Topic3\", \"Topic4\", \"Topic4\", \"Topic4\", \"Topic4\", \"Topic4\", \"Topic4\", \"Topic4\", \"Topic4\", \"Topic4\", \"Topic4\", \"Topic4\", \"Topic4\", \"Topic4\", \"Topic4\", \"Topic4\", \"Topic4\", \"Topic4\", \"Topic4\", \"Topic4\", \"Topic4\", \"Topic4\", \"Topic4\", \"Topic4\", \"Topic4\", \"Topic4\", \"Topic4\", \"Topic4\", \"Topic4\", \"Topic4\", \"Topic4\", \"Topic4\", \"Topic4\", \"Topic4\", \"Topic4\", \"Topic4\", \"Topic4\", \"Topic4\", \"Topic4\", \"Topic4\", \"Topic4\", \"Topic4\", \"Topic4\", \"Topic4\", \"Topic4\", \"Topic4\", \"Topic4\", \"Topic4\", \"Topic4\", \"Topic4\", \"Topic5\", \"Topic5\", \"Topic5\", \"Topic5\", \"Topic5\", \"Topic5\", \"Topic5\", \"Topic5\", \"Topic5\", \"Topic5\", \"Topic5\", \"Topic5\", \"Topic5\", \"Topic5\", \"Topic5\", \"Topic5\", \"Topic5\", \"Topic5\", \"Topic5\", \"Topic5\", \"Topic5\", \"Topic5\", \"Topic5\", \"Topic5\", \"Topic5\", \"Topic5\", \"Topic5\", \"Topic5\", \"Topic5\", \"Topic5\", \"Topic5\", \"Topic5\", \"Topic5\", \"Topic5\", \"Topic5\", \"Topic5\", \"Topic5\", \"Topic5\", \"Topic5\", \"Topic5\", \"Topic5\", \"Topic5\", \"Topic5\", \"Topic5\", \"Topic5\", \"Topic6\", \"Topic6\", \"Topic6\", \"Topic6\", \"Topic6\", \"Topic6\", \"Topic6\", \"Topic6\", \"Topic6\", \"Topic6\", \"Topic6\", \"Topic6\", \"Topic6\", \"Topic6\", \"Topic6\", \"Topic6\", \"Topic6\", \"Topic6\", \"Topic6\", \"Topic6\", \"Topic6\", \"Topic6\", \"Topic6\", \"Topic6\", \"Topic6\", \"Topic6\", \"Topic6\", \"Topic6\", \"Topic6\", \"Topic6\", \"Topic6\", \"Topic6\", \"Topic6\", \"Topic6\", \"Topic6\", \"Topic6\", \"Topic6\", \"Topic6\", \"Topic6\", \"Topic6\", \"Topic6\", \"Topic6\"], \"logprob\": [30.0, 29.0, 28.0, 27.0, 26.0, 25.0, 24.0, 23.0, 22.0, 21.0, 20.0, 19.0, 18.0, 17.0, 16.0, 15.0, 14.0, 13.0, 12.0, 11.0, 10.0, 9.0, 8.0, 7.0, 6.0, 5.0, 4.0, 3.0, 2.0, 1.0, -5.092, -5.1945, -5.2085, -5.5339, -5.5839, -5.6346, -5.76, -5.8973, -5.9367, -5.9791, -5.6006, -6.2589, -6.2638, -6.264, -6.311, -4.6377, -6.4384, -6.4394, -6.4941, -6.4955, -6.5016, -6.5022, -6.5022, -6.511, -6.4997, -6.5617, -6.5623, -6.5693, -6.5097, -6.569, -5.9168, -5.6423, -5.7006, -6.2167, -5.4038, -5.627, -5.9866, -5.3747, -5.7464, -5.4593, -5.7207, -5.8333, -5.917, -5.4578, -5.576, -5.8705, -5.6638, -5.6739, -5.6752, -5.9434, -5.6541, -5.6967, -5.5787, -5.8199, -5.8512, -5.8805, -6.0866, -6.093, -6.1159, -6.286, -6.2941, -6.2951, -6.2915, -6.3062, -6.3003, -6.4279, -6.4407, -6.4408, -6.3083, -6.5287, -6.5222, -6.5323, -6.5288, -6.605, -6.3717, -6.606, -5.9431, -6.6117, -6.7188, -6.7191, -5.9946, -5.6349, -5.5428, -5.2759, -6.1654, -6.0785, -6.1591, -5.7498, -5.1403, -5.8702, -5.9296, -5.7888, -5.7559, -5.8988, -6.0437, -6.2258, -6.2861, -6.2937, -5.5179, -5.9697, -6.1319, -6.1377, -6.1427, -6.1847, -6.259, -6.2603, -6.2621, -6.2643, -6.3153, -6.3934, -6.4696, -6.4696, -6.4696, -6.4696, -6.4696, -6.4696, -6.4697, -6.4697, -6.4697, -6.4697, -6.4697, -6.4698, -6.4699, -6.4699, -6.4698, -6.4702, -6.478, -6.4783, -5.5309, -6.1455, -5.8175, -5.9395, -5.611, -5.9303, -5.7998, -5.9193, -5.9482, -6.2199, -5.885, -5.7322, -6.388, -6.3317, -5.427, -6.296, -6.1355, -6.3874, -6.1544, -6.2474, -6.2206, -6.2694, -6.2955, -4.8349, -5.7027, -5.8749, -6.0516, -6.1834, -6.1717, -6.1792, -6.411, -6.4041, -6.4123, -6.3503, -6.4776, -6.48, -6.488, -6.6012, -6.6015, -6.6042, -6.6043, -6.6045, -6.6142, -6.6118, -6.6943, -6.6945, -6.6946, -6.6946, -6.6946, -6.6947, -6.7065, -6.702, -6.7138, -6.1693, -6.4124, -6.397, -5.8737, -6.1771, -6.1842, -5.8553, -6.0985, -6.4281, -6.1462, -5.8585, -6.3766, -6.2144, -6.4115, -6.3916, -6.3678, -6.2752, -6.3122, -6.4189, -4.1247, -5.6804, -5.9746, -5.9881, -6.0252, -6.1026, -6.166, -6.3093, -6.3093, -6.3093, -6.3094, -6.3094, -6.3101, -6.315, -6.3881, -6.3912, -6.5917, -6.5956, -6.6807, -6.6809, -6.6809, -6.6809, -6.6936, -6.6941, -6.686, -6.6862, -6.6983, -6.6873, -6.6884, -6.6885, -4.8325, -5.346, -6.4099, -5.9578, -6.475, -5.7448, -5.8789, -6.3266, -6.1798, -6.398, -6.3837, -6.425, -6.4241, -6.5245, -6.5022, -5.496, -5.5219, -5.72, -5.9195, -6.0616, -6.2818, -6.2914, -6.2942, -6.3622, -6.479, -6.479, -6.479, -6.4949, -6.5731, -6.5827, -6.5884, -6.0006, -5.984, -6.6149, -6.8475, -6.8475, -6.8475, -6.8475, -6.8475, -6.8475, -6.8484, -6.8484, -6.8484, -6.8484, -6.8492, -6.5883, -6.1987, -6.5059, -6.1037, -6.5731, -5.8624, -6.1728, -6.6209, -6.4653, -6.6658, -6.5154, -6.5693], \"loglift\": [30.0, 29.0, 28.0, 27.0, 26.0, 25.0, 24.0, 23.0, 22.0, 21.0, 20.0, 19.0, 18.0, 17.0, 16.0, 15.0, 14.0, 13.0, 12.0, 11.0, 10.0, 9.0, 8.0, 7.0, 6.0, 5.0, 4.0, 3.0, 2.0, 1.0, 1.1961, 1.1932, 1.1926, 1.1794, 1.1777, 1.175, 1.1686, 1.1599, 1.158, 1.1547, 1.1417, 1.133, 1.1329, 1.1328, 1.1285, 1.1247, 1.1157, 1.1152, 1.1101, 1.1092, 1.1091, 1.1088, 1.1086, 1.107, 1.1069, 1.1023, 1.1017, 1.1014, 1.1002, 1.0968, 1.0914, 1.0839, 1.0699, 1.091, 1.0404, 1.0177, 1.0339, 0.9257, 0.9731, 0.9039, 0.9084, 0.9297, 0.9042, 0.661, 0.7108, 0.8251, 0.6232, 0.5829, 0.5273, -0.0494, 1.5659, 1.5624, 1.5551, 1.5509, 1.5489, 1.5462, 1.524, 1.523, 1.52, 1.4988, 1.4971, 1.4963, 1.4937, 1.4914, 1.4887, 1.4763, 1.4756, 1.4756, 1.4745, 1.461, 1.4601, 1.458, 1.4531, 1.4478, 1.4472, 1.4469, 1.443, 1.4427, 1.426, 1.4257, 1.4187, 1.4042, 1.354, 1.2899, 1.3491, 1.3193, 1.3288, 1.1804, 0.7537, 1.0554, 0.9626, 0.789, 0.4466, 0.358, 0.2433, 0.6641, 0.8275, 1.0663, 1.5894, 1.533, 1.5308, 1.5265, 1.5261, 1.521, 1.514, 1.5126, 1.5116, 1.5097, 1.5059, 1.4923, 1.482, 1.482, 1.482, 1.482, 1.482, 1.482, 1.482, 1.4819, 1.4819, 1.4819, 1.4819, 1.4819, 1.4818, 1.4818, 1.4817, 1.4814, 1.4806, 1.4804, 1.4606, 1.4719, 1.4191, 1.428, 1.3555, 1.3952, 1.3578, 1.261, 1.2391, 1.3581, 1.0775, 0.9563, 1.4233, 1.3746, 0.4669, 1.3152, 0.9782, 1.2789, 0.4234, 0.5075, 0.0663, 0.0176, 0.4762, 1.9665, 1.8929, 1.87, 1.8401, 1.8214, 1.8211, 1.819, 1.7762, 1.7754, 1.7746, 1.7617, 1.7613, 1.7596, 1.7582, 1.7313, 1.7309, 1.7279, 1.7275, 1.7275, 1.727, 1.7196, 1.707, 1.7068, 1.7067, 1.7067, 1.7067, 1.7065, 1.7037, 1.6984, 1.6964, 1.6831, 1.5139, 1.4903, 1.0888, 1.2854, 1.2769, 0.9952, 1.1891, 1.4769, 1.1647, 0.7073, 1.3766, 1.0616, 1.3885, 1.2271, 1.1017, 0.7715, 0.665, 1.0707, 2.1413, 2.0233, 1.9755, 1.9728, 1.9654, 1.95, 1.9374, 1.9108, 1.9108, 1.9108, 1.9107, 1.9106, 1.9098, 1.9045, 1.8919, 1.8892, 1.8344, 1.8298, 1.8117, 1.8114, 1.8114, 1.8114, 1.8071, 1.8066, 1.8059, 1.8051, 1.8028, 1.8026, 1.8023, 1.8021, 1.2862, 1.3315, 1.6359, 1.3331, 1.6588, 0.9437, 1.0133, 1.455, 1.0788, 1.3096, 0.8697, 0.9374, 0.8814, 1.0823, 0.0755, 2.3531, 2.3482, 2.2832, 2.2666, 2.2319, 2.1696, 2.1656, 2.16, 2.1367, 2.1077, 2.1077, 2.1077, 2.0795, 2.0732, 2.0723, 2.0629, 2.0502, 2.005, 1.9986, 1.9664, 1.9664, 1.9664, 1.9664, 1.9664, 1.9664, 1.9653, 1.9653, 1.9653, 1.9653, 1.9643, 1.8845, 1.7152, 1.7432, 1.3324, 1.6845, 0.8262, 1.0145, 1.6133, 1.3501, 1.2392, 0.476, 0.6109]}, \"token.table\": {\"Topic\": [5, 1, 4, 5, 4, 1, 3, 3, 5, 3, 1, 5, 2, 2, 1, 3, 3, 4, 1, 2, 1, 4, 4, 1, 3, 5, 6, 1, 2, 5, 2, 4, 2, 3, 4, 5, 3, 2, 1, 4, 1, 4, 4, 4, 4, 4, 2, 6, 5, 4, 2, 4, 1, 4, 6, 5, 1, 1, 1, 5, 3, 6, 1, 2, 5, 5, 3, 4, 1, 3, 5, 2, 4, 4, 2, 3, 5, 5, 4, 3, 2, 3, 1, 3, 2, 1, 2, 4, 4, 1, 3, 4, 4, 3, 1, 2, 3, 2, 3, 5, 1, 2, 3, 2, 5, 6, 2, 3, 5, 1, 2, 3, 4, 2, 3, 4, 5, 3, 2, 3, 5, 6, 5, 3, 4, 2, 2, 6, 1, 2, 3, 5, 1, 6, 6, 1, 3, 3, 1, 5, 3, 3, 2, 5, 4, 5, 6, 6, 5, 6, 2, 3, 4, 5, 2, 2, 1, 2, 4, 3, 5, 6, 5, 3, 2, 2, 3, 2, 6, 5, 1, 3, 1, 3, 6, 4, 5, 3, 5, 3, 4, 5, 3, 1, 3, 4, 1, 1, 3, 3, 2, 3, 4, 1, 2, 4, 3, 3, 3, 1, 2, 5, 6, 5, 1, 1, 5, 1, 1, 4, 1, 3, 3, 1, 2, 4, 1, 4, 1, 3, 1, 4, 6, 1, 5, 1, 2, 2, 5, 4, 1, 3, 2, 2, 4, 3, 3, 1, 3, 5, 2, 6, 3, 2, 1, 4, 1, 3, 4, 2, 1, 4, 1, 2, 5, 4, 4, 2, 3, 2, 4, 5, 3, 6, 1, 2, 1, 2, 3, 1, 1, 4, 2, 3, 3, 5, 2, 4, 1, 5, 1, 2, 4, 2, 3, 1, 4, 1, 1, 2, 3, 1, 5, 6, 4, 2, 1, 2, 1, 3, 5, 6, 1, 2, 1, 2, 4, 1, 3, 3, 1, 1, 2, 3, 2, 3, 5, 1, 5, 3, 1, 3, 3, 5], \"Freq\": [1.1438414483257235, 0.954779040983639, 0.9752627552190201, 1.1443363101913855, 0.8947050749880524, 0.9896420327023174, 0.6663920322634945, 0.765332082037859, 0.7755752097483822, 0.6663969404018723, 0.9479970082974203, 0.732199206807716, 1.1283677622291326, 0.5835641025926555, 0.8486007878137661, 0.521414379563566, 0.40858626631874884, 0.40858626631874884, 0.7591207243437226, 0.18978018108593064, 0.5464353031336313, 0.5464353031336313, 0.843827473854353, 1.0063219883845664, 0.47408411244667253, 0.6725904969903665, 0.7016347925266375, 0.6914273766311116, 0.4609515844207411, 1.1443363612877502, 0.6666871339772417, 0.33334356698862083, 0.33908856186119196, 0.33908856186119196, 0.33908856186119196, 1.1414626522580296, 0.6663930766280171, 0.7678147197692772, 0.8174082949297538, 1.0541073737239413, 0.3430542094325473, 0.3430542094325473, 0.9752783581465576, 0.6943822649926703, 0.6360213414014592, 0.8887950000663395, 0.7780342391070121, 1.0984842110355113, 0.6929075437019736, 0.8434192658597761, 0.8084564788426525, 0.888165329741856, 0.7783038975587658, 1.0447950163611457, 0.9379941753162576, 0.9257987913875784, 0.7615160283214886, 0.9996365751417642, 0.9477114130745806, 1.1544013242888427, 0.641707412370672, 0.641707412370672, 0.6999878799558372, 0.5622291960134724, 0.5622291960134724, 0.9879670544530261, 0.6710478890039738, 0.6497468918806162, 0.9997153547633031, 0.6663860290812099, 0.799602043500858, 0.6355423547435771, 1.0447359994387821, 0.6981748628496989, 0.6432640457828765, 0.666390614927012, 1.1540357369144558, 0.8716137336357525, 1.0438728207296883, 0.6664187204734533, 0.5765539562982547, 0.5765539562982547, 0.9478744951791499, 0.5848985702393115, 0.7374309287149395, 0.7774639308782902, 0.19436598271957256, 0.70281408509132, 0.7822683165589343, 0.7669758617773736, 0.12782931029622893, 0.983891081772424, 0.974205891598293, 1.0044910836359116, 0.6455654648337177, 0.2151884882779059, 0.6238677297970162, 0.6868539100156583, 0.6663930766280171, 0.871075867616203, 0.2554073381565671, 0.42567889692761185, 0.3405431175420895, 1.1352485801566903, 0.9254814934140286, 1.1016263438152958, 0.8026778991760979, 0.26755929972536596, 0.6653941826652651, 0.2013887197114002, 0.4027774394228004, 0.4027774394228004, 0.2013887197114002, 0.6922899679766041, 0.4956775460160182, 0.4956775460160182, 1.1424117929567241, 0.9172382503494186, 0.4620249838000394, 0.2310124919000197, 0.2310124919000197, 0.6014753351446748, 0.8715825628060612, 0.666383448338331, 0.974603852659048, 0.7660169993860789, 0.7373341074559159, 0.8973029792990824, 0.46362845859267676, 0.3477213439445076, 0.11590711464816919, 1.0710261887456412, 0.5815098673355293, 0.5815098673355293, 0.7358835837046004, 0.9469540922166602, 0.5791581995019002, 1.1155742386157055, 0.5329709331482968, 0.42637674651863744, 1.1159520742785929, 1.1147387650287042, 1.1279715386606883, 0.5221307697792602, 0.6248669130107042, 0.8716279729275185, 1.2575655163362862, 1.2575655163362862, 1.14436344945112, 1.2575655163362862, 0.5060572952908885, 0.3373715301939257, 0.16868576509696284, 0.16868576509696284, 1.0002213535916684, 0.9528011550341564, 1.0014226268781965, 0.687143799206473, 0.8432238931612054, 0.5653172418478801, 0.3768781612319201, 0.18843908061596004, 1.1430906677278596, 1.0421629662707563, 0.7456393543749398, 0.30122832742690836, 0.6024566548538167, 0.8823736111563101, 0.6142534968246706, 1.0400739839756659, 0.8120164052653897, 0.2030041013163474, 0.7986845943701861, 0.6205877137413969, 0.31029385687069844, 0.5726560556093571, 0.5726560556093571, 0.47203451446816924, 0.47203451446816924, 0.4777096252235758, 0.4777096252235758, 1.153995951781951, 0.8507383555875043, 0.63053919648336, 0.252215678593344, 0.126107839296672, 0.9415830882342164, 1.0100911215021982, 0.6663913846149554, 0.9540837789227515, 0.7385092679501711, 0.7464385791506554, 0.24881285971688513, 0.4431762883894382, 0.2215881441947191, 0.4431762883894382, 0.6664187204734533, 0.8593117352862186, 0.9984221038061543, 0.9582691561878903, 0.961887010622911, 0.8715825628060612, 1.15185383055794, 0.8714285236353039, 0.9439260744835039, 0.6984511110043753, 0.34922555550218765, 0.9763530717843325, 0.5392407013014678, 0.2696203506507339, 0.8956473810475796, 0.07463728175396496, 0.666428491910011, 0.8507870764546015, 0.4080374277855908, 0.4080374277855908, 0.8960681105702223, 0.8369454375303724, 0.7651889583420407, 0.6710848896812527, 0.4198210644123519, 0.4198210644123519, 0.8425368412713073, 0.9658069732308145, 0.7372533318860406, 0.3687773944299597, 0.7375547888599194, 0.6962170956624811, 0.23207236522082705, 0.6034507677511725, 0.8855726801883199, 0.14759544669805333, 0.9719517437913304, 0.6926901436985852, 1.0541061001647534, 0.5009785082425902, 1.1146115638528187, 0.4095812243436382, 0.2047906121718191, 0.2047906121718191, 0.3979382394879169, 0.3979382394879169, 0.6663902342837282, 0.8382404019708269, 0.7545011487738035, 0.25150038292460114, 0.7652663116807003, 0.6664437366242225, 0.9747506680771575, 1.1354947565099418, 0.9942044085915988, 0.6276352340496761, 0.3697015831603281, 0.3697015831603281, 0.3697015831603281, 0.933597888915985, 1.044691397979469, 0.5712999719238112, 0.6663907853557395, 0.8084271025133289, 1.083888080116014, 1.1444238951686072, 0.743186280118794, 1.242163207185464, 0.23885956334994685, 0.4777191266998937, 0.6805684780367109, 0.13611369560734218, 0.13611369560734218, 0.9421512670700523, 0.3511181270067354, 0.3511181270067354, 0.7571030522750677, 0.6663700553338233, 0.6663860290812099, 1.1423764588271463, 0.6433243949228804, 1.0447975360877, 0.6630117194167193, 0.33150585970835966, 1.0136720350361663, 0.860831043760004, 1.0447354637811614, 0.7199066634391164, 0.2399688878130388, 0.41146881018400966, 0.41146881018400966, 0.8955977065772739, 0.5044796865968577, 0.25223984329842886, 0.25223984329842886, 0.34416463274317494, 0.34416463274317494, 0.6917397532362483, 1.0447905222349285, 0.5628621802571492, 0.7878793944075777, 0.7884461846936829, 0.3332351888412827, 0.3332351888412827, 0.3332351888412827, 1.10463009599858, 0.8181325899764788, 0.9476824483593749, 0.901869473183623, 0.1803738946367246, 0.9749581852281141, 0.7827242875762954, 0.19568107189407385, 0.9997960303854782, 0.8824228425658609, 0.48948121191393684, 0.24474060595696842, 0.12237030297848421, 1.132809117591267, 0.6519794826438915, 1.0703111538451249, 0.5591209001470291, 0.37274726676468606, 0.7126130750507056, 0.7102502466051115, 0.17756256165127787, 0.6162491608834683, 0.8715683072656026], \"Term\": [\"aaron\", \"ad\", \"advantag\", \"alex_cora\", \"anderson\", \"angel\", \"associ\", \"astro\", \"athlet\", \"attend\", \"avoid_sweep\", \"away\", \"bad\", \"ball\", \"baltimor_oriol\", \"base_load\", \"baseman\", \"baseman\", \"beat\", \"beat\", \"ben_zobrist\", \"ben_zobrist\", \"best\", \"bett\", \"blast\", \"blue_jay\", \"boston\", \"boston_red_sox\", \"boston_red_sox\", \"boston_red_sox_manag\", \"brewer\", \"brewer\", \"brewer_dodger\", \"brewer_dodger\", \"brewer_dodger\", \"brought\", \"bruce_meyer\", \"bryce_harper\", \"bullpen\", \"camargo\", \"carri\", \"carri\", \"catcher\", \"christian_yelich\", \"cincinnati_red\", \"closer\", \"colorado_rocki\", \"combin\", \"complet\", \"continu\", \"coor_field\", \"critic\", \"cub\", \"cub_cruis\", \"d\", \"daniel_mengden\", \"david_price\", \"day_disabl_list\", \"debut\", \"defeat_philadelphia\", \"design_hitter\", \"design_hitter\", \"detroit_tiger\", \"divis\", \"divis\", \"dodger\", \"dodger_stadium\", \"drive\", \"drove\", \"dugout_road\", \"edg\", \"eighth_inning\", \"elit\", \"end\", \"end_new_youth_movement\", \"era\", \"error\", \"fascin_question\", \"featur\", \"final_weekend\", \"finish\", \"finish\", \"follow\", \"futur\", \"gave\", \"giant\", \"giant\", \"graf\", \"great\", \"ha\", \"ha\", \"hang\", \"head\", \"held\", \"help\", \"help\", \"hernandez\", \"high\", \"hire\", \"histori\", \"hit\", \"hit\", \"hit\", \"hit_home\", \"hit_home_run\", \"hit_run_home_run\", \"hitter\", \"hitter\", \"home\", \"homer\", \"homer\", \"homer\", \"homer\", \"host\", \"houston_astro\", \"houston_astro\", \"import\", \"indian\", \"inning\", \"inning\", \"inning\", \"jay\", \"jos_ramrez\", \"jose_rey\", \"jr_hit\", \"kansa_citi\", \"kauffman_stadium\", \"later\", \"lead\", \"lead\", \"lead\", \"led\", \"left\", \"left\", \"left_hander\", \"lineup\", \"long\", \"longest\", \"los_angel\", \"los_angel\", \"lui_severino\", \"manag\", \"manni_machado\", \"marin\", \"martinez\", \"matchup\", \"matt_joyc\", \"matt_olson\", \"matter\", \"mengden\", \"met\", \"met\", \"met\", \"met\", \"milwauke_brewer\", \"minnesota_twin\", \"mooki_bett\", \"mound\", \"multipl\", \"nation\", \"nation\", \"nation\", \"near\", \"new_york_yanke\", \"night\", \"nl\", \"nl\", \"nlcs\", \"oakland\", \"open\", \"oriol\", \"oriol\", \"pace\", \"padr\", \"padr\", \"past\", \"past\", \"philadelphia_philli\", \"philadelphia_philli\", \"philli\", \"philli\", \"pinch_hitter\", \"pirat\", \"pitch\", \"pitch\", \"pitch\", \"pitch_staff\", \"pitcher\", \"pitcher_jacob\", \"pittsburgh_pirat\", \"plate\", \"play\", \"play\", \"playoff\", \"playoff\", \"playoff\", \"playoff_pictur\", \"posit\", \"post\", \"postseason\", \"power\", \"premier_slugger\", \"prospect\", \"prove\", \"rais\", \"ranger\", \"ranger\", \"ray\", \"record\", \"record\", \"red_sox\", \"red_sox\", \"regular_season\", \"reliev\", \"remain\", \"remain\", \"rest\", \"return\", \"right\", \"right_field\", \"right_hander\", \"right_hander\", \"road\", \"rocki\", \"roll\", \"rout\", \"rout\", \"royal\", \"royal\", \"rule\", \"run\", \"run\", \"run_doubl\", \"run_homer\", \"run_ninth\", \"san_diego\", \"save\", \"season\", \"season\", \"season\", \"seattl_marin\", \"seattl_marin\", \"second_base\", \"send\", \"seri\", \"seri\", \"set\", \"shape_playoff\", \"shi_cycl\", \"shine\", \"shohei_ohtani\", \"shut\", \"singl\", \"singl\", \"singl\", \"sixth_inning\", \"skill\", \"slug\", \"social_medium\", \"sparkl\", \"sport\", \"spring\", \"st_loui_cardin\", \"stand_victori\", \"star\", \"star\", \"start\", \"start\", \"start\", \"strategi\", \"struggl\", \"struggl\", \"sunday_afternoon\", \"suppos\", \"surveil_oppos\", \"swing\", \"switch\", \"take\", \"talent\", \"talent\", \"tampa_bay\", \"th_inning\", \"thought\", \"thursday\", \"thursday\", \"thursday_night\", \"thursday_night\", \"tiebreak\", \"time\", \"time\", \"time\", \"took\", \"took\", \"toronto_blue\", \"toss_scoreless\", \"transit\", \"turn\", \"twin\", \"victori\", \"victori\", \"victori\", \"visit_los_angel_angel\", \"wa\", \"walk\", \"wednesday\", \"wednesday\", \"went\", \"white_sox\", \"white_sox\", \"wild\", \"wild_card\", \"win\", \"win\", \"win\", \"win_los\", \"won\", \"work\", \"world_seri\", \"world_seri\", \"worst\", \"yanke\", \"yanke\", \"year\", \"your\"]}, \"R\": 30, \"lambda.step\": 0.01, \"plot.opts\": {\"xlab\": \"PC1\", \"ylab\": \"PC2\"}, \"topic.order\": [6, 1, 4, 5, 3, 2]};\n",
       "\n",
       "function LDAvis_load_lib(url, callback){\n",
       "  var s = document.createElement('script');\n",
       "  s.src = url;\n",
       "  s.async = true;\n",
       "  s.onreadystatechange = s.onload = callback;\n",
       "  s.onerror = function(){console.warn(\"failed to load library \" + url);};\n",
       "  document.getElementsByTagName(\"head\")[0].appendChild(s);\n",
       "}\n",
       "\n",
       "if(typeof(LDAvis) !== \"undefined\"){\n",
       "   // already loaded: just create the visualization\n",
       "   !function(LDAvis){\n",
       "       new LDAvis(\"#\" + \"ldavis_el2251230170588359207692160269\", ldavis_el2251230170588359207692160269_data);\n",
       "   }(LDAvis);\n",
       "}else if(typeof define === \"function\" && define.amd){\n",
       "   // require.js is available: use it to load d3/LDAvis\n",
       "   require.config({paths: {d3: \"https://d3js.org/d3.v5\"}});\n",
       "   require([\"d3\"], function(d3){\n",
       "      window.d3 = d3;\n",
       "      LDAvis_load_lib(\"https://cdn.jsdelivr.net/gh/bmabey/pyLDAvis@3.3.1/pyLDAvis/js/ldavis.v3.0.0.js\", function(){\n",
       "        new LDAvis(\"#\" + \"ldavis_el2251230170588359207692160269\", ldavis_el2251230170588359207692160269_data);\n",
       "      });\n",
       "    });\n",
       "}else{\n",
       "    // require.js not available: dynamically load d3 & LDAvis\n",
       "    LDAvis_load_lib(\"https://d3js.org/d3.v5.js\", function(){\n",
       "         LDAvis_load_lib(\"https://cdn.jsdelivr.net/gh/bmabey/pyLDAvis@3.3.1/pyLDAvis/js/ldavis.v3.0.0.js\", function(){\n",
       "                 new LDAvis(\"#\" + \"ldavis_el2251230170588359207692160269\", ldavis_el2251230170588359207692160269_data);\n",
       "            })\n",
       "         });\n",
       "}\n",
       "</script>"
      ],
      "text/plain": [
       "PreparedData(topic_coordinates=              x         y  topics  cluster       Freq\n",
       "topic                                                \n",
       "5     -0.124952 -0.004204       1        1  29.340592\n",
       "0      0.024501  0.064114       2        1  19.229467\n",
       "3      0.031700 -0.083091       3        1  18.941896\n",
       "4      0.026164  0.008462       4        1  13.206285\n",
       "2      0.021534  0.013650       5        1  11.360311\n",
       "1      0.021051  0.001069       6        1   7.921449, topic_info=                Term       Freq      Total Category  logprob  loglift\n",
       "2             dodger   8.000000   8.000000  Default  30.0000  30.0000\n",
       "569        los_angel   9.000000   9.000000  Default  29.0000  29.0000\n",
       "856          red_sox  13.000000  13.000000  Default  28.0000  28.0000\n",
       "1237            best   4.000000   4.000000  Default  27.0000  27.0000\n",
       "379          pitcher   7.000000   7.000000  Default  26.0000  26.0000\n",
       "...              ...        ...        ...      ...      ...      ...\n",
       "1876  oakland_athlet   0.449783   1.131207   Topic6  -6.6209   1.6133\n",
       "113             left   0.525497   1.719661   Topic6  -6.4653   1.3501\n",
       "3637  cincinnati_red   0.430049   1.572274   Topic6  -6.6658   1.2392\n",
       "243            astro   0.499807   3.919867   Topic6  -6.5154   0.4760\n",
       "354             year   0.473591   3.245441   Topic6  -6.5693   0.6109\n",
       "\n",
       "[317 rows x 6 columns], token_table=      Topic      Freq       Term\n",
       "term                            \n",
       "4080      5  1.143841      aaron\n",
       "2449      1  0.954779         ad\n",
       "3074      4  0.975263   advantag\n",
       "3595      5  1.144336  alex_cora\n",
       "4068      4  0.894705   anderson\n",
       "...     ...       ...        ...\n",
       "255       3  0.712613      worst\n",
       "119       1  0.710250      yanke\n",
       "119       3  0.177563      yanke\n",
       "354       3  0.616249       year\n",
       "4982      5  0.871568       your\n",
       "\n",
       "[324 rows x 3 columns], R=30, lambda_step=0.01, plot_opts={'xlab': 'PC1', 'ylab': 'PC2'}, topic_order=[6, 1, 4, 5, 3, 2])"
      ]
     },
     "execution_count": 14,
     "metadata": {},
     "output_type": "execute_result"
    }
   ],
   "source": [
    "###################################\n",
    "# 6-1. Topic Model Year 2018\n",
    "###################################\n",
    "lda_model_2018, corpus_2018 = evaluate_model(YEARS[0]) # 2018\n",
    "pyLDAvis.gensim_models.prepare(lda_model_2018, corpus_2018, dictionary=DICTIONARY)"
   ]
  },
  {
   "cell_type": "code",
   "execution_count": 15,
   "id": "operating-wrist",
   "metadata": {
    "scrolled": true
   },
   "outputs": [
    {
     "data": {
      "image/png": "[encoded data removed]",
      "text/plain": [
       "<Figure size 432x288 with 1 Axes>"
      ]
     },
     "metadata": {
      "needs_background": "light"
     },
     "output_type": "display_data"
    },
    {
     "name": "stdout",
     "output_type": "stream",
     "text": [
      "Optimal Number of Topics: 6\n",
      "Best Coherence Score: 0.5651823098122875\n",
      "MVPs in any of the 6 Topics:\n",
      "              name                 team    league  year\n",
      "16      Mike Trout   Los Angeles Angels  American  2019\n",
      "17  Cody Bellinger  Los Angeles Dodgers  National  2019\n",
      "\n",
      "\n"
     ]
    },
    {
     "data": {
      "text/markdown": [
       "**['mike', 'trout']**: 0.009*\"angel\" + 0.007*\"late\" + 0.006*\"won\" + 0.005*\"doubl\" + 0.005*\"employe\"  ... **<font color=red>mike_trout\"</font>** (**46** th) ..."
      ],
      "text/plain": [
       "<IPython.core.display.Markdown object>"
      ]
     },
     "metadata": {},
     "output_type": "display_data"
    },
    {
     "data": {
      "text/markdown": [
       "**['codi', 'belling']**: 0.014*\"nation\" + 0.012*\"astro\" + 0.010*\"win\" + 0.009*\"washington\" + 0.009*\"houston_astro\"  ... **<font color=red>codi_belling\"</font>** (**273** th) ..."
      ],
      "text/plain": [
       "<IPython.core.display.Markdown object>"
      ]
     },
     "metadata": {},
     "output_type": "display_data"
    },
    {
     "data": {
      "text/html": [
       "\n",
       "<link rel=\"stylesheet\" type=\"text/css\" href=\"https://cdn.jsdelivr.net/gh/bmabey/pyLDAvis@3.3.1/pyLDAvis/js/ldavis.v1.0.0.css\">\n",
       "\n",
       "\n",
       "<div id=\"ldavis_el2251230170322112485529507719\"></div>\n",
       "<script type=\"text/javascript\">\n",
       "\n",
       "var ldavis_el2251230170322112485529507719_data = {\"mdsDat\": {\"x\": [-0.15981484237912622, 0.04822791044626938, 0.012527284151379225, 0.07721537680089631, 0.01459227027585622, 0.0072520007047250454], \"y\": [0.031385489708041156, -0.0542869416736317, -0.07259146522327388, 0.11382112731532736, -0.015318003756646194, -0.003010206369816572], \"topics\": [1, 2, 3, 4, 5, 6], \"cluster\": [1, 1, 1, 1, 1, 1], \"Freq\": [24.467355792782673, 20.408909995417165, 17.76330556286284, 14.549842247188014, 11.76407553439507, 11.046510867354238]}, \"tinfo\": {\"Term\": [\"world_seri\", \"nation\", \"washington_nation\", \"astro\", \"washington\", \"houston\", \"alc\", \"home_run\", \"houston_astro\", \"angel\", \"th_graf\", \"pitcher\", \"star\", \"yanke\", \"beat\", \"wa\", \"drove_run\", \"win\", \"ha\", \"ball\", \"late\", \"gerrit_cole\", \"ray\", \"new_york\", \"won\", \"hit\", \"seri_lead\", \"power\", \"decis\", \"deliv\", \"nation\", \"washington\", \"alc\", \"gerrit_cole\", \"seri_lead\", \"carlo_correa\", \"clinch\", \"earli\", \"york_yanke\", \"franchis\", \"love_nation\", \"live\", \"happen_nation\", \"ryan_zimmerman\", \"octob\", \"championship_seri\", \"best_seven\", \"pennant\", \"set\", \"rbi\", \"th_inning\", \"astro_alc\", \"tuesday\", \"new_york_yanke\", \"yanke_stadium\", \"held\", \"juan_soto\", \"lineup\", \"hit_homer\", \"surviv\", \"power\", \"astro\", \"houston_astro\", \"win\", \"past\", \"twin\", \"pitch\", \"homer\", \"yanke\", \"dodger\", \"ha\", \"seri\", \"deliv\", \"walk\", \"home_run\", \"star\", \"th_graf\", \"like\", \"marin\", \"chang\", \"milwauke_brewer\", \"sunday\", \"stun\", \"said\", \"come\", \"wild\", \"old\", \"tyler\", \"even\", \"titl\", \"spent\", \"show\", \"provid\", \"loss\", \"actual\", \"oppos\", \"yanke_astro\", \"bet\", \"storm\", \"ad\", \"comeback\", \"miss\", \"produc\", \"unpredict\", \"pitcher\", \"histori\", \"reliev\", \"yanke\", \"postseason\", \"run\", \"cub\", \"red_sox\", \"year\", \"world_seri\", \"indian\", \"playoff\", \"houston\", \"drove_run\", \"ball\", \"start_pitcher\", \"decad\", \"workhors\", \"elimin\", \"marlin\", \"profession\", \"carri\", \"fan\", \"run_homer\", \"straight\", \"care\", \"day\", \"chicago_cub\", \"notebook\", \"began\", \"minut_maid_park\", \"consid\", \"bat\", \"snap\", \"kansa_citi\", \"run_help\", \"miami_marlin\", \"dead\", \"era\", \"clear\", \"tradit\", \"fade\", \"boston_red\", \"royal\", \"go\", \"night\", \"cardin\", \"brave\", \"th\", \"playoff\", \"isnt\", \"blast\", \"astro\", \"inning\", \"washington_nation\", \"beat\", \"wa\", \"new_york\", \"roll\", \"big_hit\", \"astro_final\", \"left\", \"accus\", \"employ\", \"astro_assist_general_manag\", \"outburst\", \"head\", \"hit_drove_run\", \"seri_open\", \"ace\", \"work\", \"earn_run\", \"fire\", \"wsj_sport\", \"championship\", \"got\", \"apiec\", \"elit\", \"winner\", \"swing\", \"masahiro_tanaka\", \"dozen\", \"dont\", \"controversi\", \"win_world_seri\", \"world_seri\", \"monday\", \"send\", \"ray\", \"tampa_bay\", \"away\", \"deliv\", \"houston_astro\", \"seri\", \"postseason\", \"inning\", \"came\", \"decis\", \"biggest\", \"blue_jay\", \"zack_greink\", \"prospect\", \"base\", \"homer_twice\", \"histor\", \"starter\", \"chicago_white\", \"start\", \"editorsnot_fix\", \"versus\", \"santana\", \"stat\", \"slugger\", \"edg\", \"adam\", \"doublehead\", \"cruis_past\", \"jeff\", \"jr_hit\", \"giolito\", \"surg\", \"score_run\", \"week\", \"belt_run\", \"rain_shorten\", \"consecut_victori\", \"homer_doubl\", \"fix\", \"padr\", \"help\", \"hit\", \"ha\", \"max_scherzer\", \"white_sox\", \"homer\", \"pitch\", \"season\", \"late\", \"won\", \"employe\", \"oxycodon\", \"skagg\", \"doubl\", \"final\", \"u\", \"mound\", \"threw\", \"face\", \"hit_rbi\", \"carri_hitter_seventh_inning\", \"nation_championship\", \"juli\", \"receiv\", \"die\", \"drug\", \"alcohol\", \"angl\", \"fentanyl\", \"plate\", \"st_petersburg_fla\", \"d\", \"run_ninth\", \"run_doubl\", \"score\", \"mike_trout\", \"seven_run\", \"visit_los_angel_dodger\", \"angel\", \"play\", \"rbi_singl\", \"singl\", \"tuesday_night\", \"seri\", \"nation_lead\", \"max_scherzer\", \"padr\", \"inning\", \"nlcs\", \"abus\"], \"Freq\": [28.0, 21.0, 11.0, 22.0, 14.0, 10.0, 11.0, 10.0, 16.0, 9.0, 9.0, 11.0, 8.0, 15.0, 6.0, 6.0, 7.0, 18.0, 9.0, 6.0, 4.0, 7.0, 8.0, 5.0, 4.0, 10.0, 7.0, 8.0, 4.0, 8.0, 20.75728167341187, 14.099809508872031, 11.615519321735364, 7.6828148846788, 7.000525021700761, 5.801840003944435, 5.67161170456391, 5.223834042769311, 5.051477028008448, 5.045642506168693, 4.692950004229046, 4.692747894925148, 4.692747894925148, 4.692747894925148, 4.692705673460978, 4.691997252664609, 4.689600665456571, 4.689479884382838, 4.477413236492061, 4.383904113914423, 4.347258305557471, 4.643099605991563, 4.035285637189653, 3.9536926576801963, 3.8917887235771906, 3.7412986204033105, 3.5900007721689886, 3.558190705769857, 3.5381265122719237, 3.5557709313642833, 7.606589222282621, 18.39470004791025, 13.346507988245293, 14.182411304513103, 4.946769181175952, 5.159932548902436, 5.456694415686475, 6.91444237780865, 7.8301061928254025, 5.6314933538177225, 5.905214413879809, 5.124163355043384, 4.786016147510469, 4.730926480862519, 9.901132084188179, 8.282049848502021, 8.907324322679004, 5.436980121764369, 5.364926175211242, 4.50664232516258, 4.3273691478170395, 4.333655869376125, 4.2098006997129005, 4.108049513725897, 4.162460341156599, 3.5876057895726667, 3.5533838888422027, 3.553251099241818, 3.7022889505988803, 3.3642510836680937, 3.3639482656446074, 3.1368797810249256, 3.0594588252318986, 2.9132043593681187, 2.873565220288045, 2.868300401305833, 2.867079603001426, 2.8539325665442017, 2.633883455670076, 2.578569370283714, 2.6342662361268374, 2.607937811120115, 2.5623032215826687, 2.3831211205826093, 9.535362552582255, 5.247814407863208, 3.6807983971418277, 7.834970935196152, 4.180618164317038, 2.9607843165512016, 3.3797577335895466, 3.9318657153006127, 3.7775425491751924, 5.113825659652361, 3.0380338005559056, 3.291892009707125, 10.20470341544631, 6.769506314877508, 6.278600342523856, 4.837269377017873, 4.83040214658688, 4.379503595424063, 4.5453608282123, 4.219895512177743, 4.020783768790424, 3.959411100281445, 3.8319688510112924, 3.6989487985958136, 3.8163660773480155, 3.135459275915865, 3.117446489289977, 2.8196902922679934, 2.815351414677154, 2.683270794962593, 2.6823343772904025, 2.6776048022269965, 2.5730873238841334, 2.5399913535456236, 2.47637324239206, 2.469836911363877, 2.2312684920332257, 2.225437426474815, 2.225437426474815, 2.225437426474815, 2.2246321625522576, 2.2246321625522576, 2.281867457890332, 3.8626266681190704, 2.9040211482726552, 3.231496483458681, 3.851712012874201, 4.5738041067199475, 3.6223630488865486, 5.12992163290949, 2.6840599787319386, 3.193513402805769, 3.714018917183951, 2.7929482437196707, 10.973804761445477, 6.106511725452577, 6.047553819988508, 4.9240390064386155, 3.825173232804818, 3.378846811556859, 3.378846811556859, 3.388041324100119, 3.3755980577236135, 3.3755980577236135, 3.3755980577236135, 3.3755980577236135, 3.3739172916931994, 2.4659653005869004, 2.3695888963289193, 2.2578351395801177, 2.1646389578601544, 2.1134308511480495, 2.070060419653563, 2.069695331011717, 2.069540569648319, 2.0662370730987654, 2.0653274384894313, 2.0632363078863905, 1.9734656619294046, 1.903120448274461, 1.9026681005660184, 1.8550361749865822, 2.038225266323731, 1.8509370568533894, 2.0359369796221056, 22.766586901223278, 3.009555328536469, 3.5916494486202737, 5.179259016653571, 3.613465038468199, 2.731824742936096, 3.5989582186464917, 2.8304563001463574, 2.6138183801463932, 2.1852989824747286, 2.165629265946153, 2.070871064614234, 3.756877220020607, 2.6439850468173667, 2.405015190998395, 2.34563010515873, 2.330615149231739, 2.3510905731947704, 2.189166630127373, 2.1129718355499922, 2.0608749170670615, 1.8403732440507494, 1.861780155704717, 1.8368860722860219, 1.7812845104042887, 1.7398978700054561, 1.6212499997646472, 1.5688039813932588, 1.4452955025529624, 1.3721939359910613, 1.299403697308714, 1.2057702151669407, 1.1324740478807542, 1.0998709803189057, 1.0603266821340858, 1.054566117983254, 1.0318047386972358, 2.080139307193967, 1.0280713832885746, 0.9613608572728175, 0.9347942392836609, 0.9239244701399406, 1.7338112518834936, 2.3411317417723843, 2.005940438813939, 4.4244290884244215, 3.6972590126634355, 1.780949554219606, 1.8011010041679445, 1.9217304905058163, 1.4770412952695622, 1.3596643616102766, 4.413048830038733, 4.103033945943438, 3.2246976589909946, 3.2246976589909946, 3.2246976589909946, 3.2422179418868944, 2.8634878370369874, 2.219926184584076, 2.1354378343183416, 2.12720268261935, 1.9674026779021176, 1.9169205386251753, 1.8858122398012447, 1.638770657328278, 1.6381750439583285, 1.6381750439583285, 1.6381750439583285, 1.6381750439583285, 1.6381750439583285, 1.6381750439583285, 1.6381750439583285, 1.5153211928240564, 1.4807417117790354, 1.3750592441033345, 1.1534764613924025, 1.1031178353287197, 1.0646067904271002, 1.039939147091807, 0.9651461543878294, 0.9224292541104757, 5.975346449342891, 1.9737256794380866, 1.4260809040955011, 1.6621089516206724, 1.8026893316236496, 2.5672676835833763, 1.6386444097934094, 1.6390814325100276, 1.6534986509969045, 1.735638453370795, 1.6387165958838912, 1.6382409801708466], \"Total\": [28.0, 21.0, 11.0, 22.0, 14.0, 10.0, 11.0, 10.0, 16.0, 9.0, 9.0, 11.0, 8.0, 15.0, 6.0, 6.0, 7.0, 18.0, 9.0, 6.0, 4.0, 7.0, 8.0, 5.0, 4.0, 10.0, 7.0, 8.0, 4.0, 8.0, 21.077105246067227, 14.426778863129043, 11.93143725957108, 7.998106147287179, 7.315069844767262, 6.119323524372732, 5.98728366343638, 5.538941430886776, 5.366184987523774, 5.364021024952096, 5.006799996843984, 5.006755015497211, 5.006755015497211, 5.006755015497211, 5.0067232673540065, 5.006418744540346, 5.005563085427117, 5.005485597858692, 4.792429683207163, 4.701587574115422, 4.662741463170658, 5.002885688274539, 4.352874282821662, 4.26823613519334, 4.206282356358333, 4.0622214270967225, 3.9067141348783423, 3.8725659488194464, 3.85268035028551, 3.8722073681885485, 8.581053475122397, 22.353345322111476, 16.43688122295789, 18.71144781133522, 6.10353057661174, 6.517577765904763, 7.192241960784435, 10.901291624570623, 15.904677789039049, 8.731502019951208, 9.87510143150141, 10.557768598906101, 8.645001662769372, 7.9124654211524375, 10.217601382209237, 8.598185590454765, 9.256092642939706, 5.7570449057997815, 5.682423558041874, 4.82306503048529, 4.642575309670275, 4.6520193074290335, 4.527082927193938, 4.428759488489664, 4.488630547820441, 3.905318344615388, 3.8709331221141214, 3.870876334266349, 4.03415090537744, 3.6786628080039616, 3.678547747644997, 3.4514512387994207, 3.3783192118391705, 3.228857238803169, 3.1881499171779772, 3.1871593148745525, 3.186880674873722, 3.1831431300558393, 2.956418431584537, 2.8956372685930027, 2.958900893259045, 2.929770730429324, 2.8861292719589136, 2.6974573216597926, 11.686108999682316, 6.344544038027036, 4.747590628723783, 15.904677789039049, 6.628663203748034, 3.7448137620085387, 5.116457457134796, 7.955072827742481, 7.5392355693702875, 28.14245745380325, 4.236341622493513, 12.694902514043987, 10.552628427747395, 7.101916064762553, 6.598517685266386, 5.157155130614228, 5.155537429776959, 4.699326278696157, 4.877964975186812, 4.540587772146373, 4.3429863799287745, 4.279548663556527, 4.1558329064492, 4.022511862665182, 4.155243365103098, 3.4594197040038046, 3.4407995473335324, 3.1402336514706826, 3.139791618719074, 3.00270505471732, 3.0025832087512274, 3.0007556234684785, 2.894920687424783, 2.8602990800871115, 2.7960786062441993, 2.790497966404341, 2.551147613128107, 2.5446340585343434, 2.5446340585343434, 2.5446340585343434, 2.5445590376559566, 2.5445590376559566, 2.612120676177502, 4.705507067452117, 3.44324262795999, 3.968700391213823, 4.9253146870870035, 6.352545136438765, 4.898995342382563, 12.694902514043987, 3.355457689082494, 4.981419141871575, 22.353345322111476, 6.909827457637562, 11.313554714005699, 6.449240286804993, 6.387305146339219, 5.267872280982214, 4.162921976081375, 3.714192307681901, 3.714192307681901, 3.7246633603161623, 3.7145031987200157, 3.7145031987200157, 3.7145031987200157, 3.7145031987200157, 3.7142924974834046, 2.8035632130200754, 2.7093213305702046, 2.595072927639804, 2.5007956694045976, 2.450152448848186, 2.4055095387902057, 2.405519724404579, 2.4055391062066858, 2.405265275844036, 2.405535761355039, 2.4064965315653546, 2.310924843455863, 2.242417278253124, 2.242341809521352, 2.1913139905873598, 2.413353182888589, 2.191726905692979, 2.412664816332583, 28.14245745380325, 3.682117606982398, 4.562031639965845, 8.170351899985517, 5.641176792338047, 4.351217533426391, 8.645001662769372, 16.43688122295789, 10.557768598906101, 6.628663203748034, 6.909827457637562, 2.597796009954674, 4.1152966278030165, 2.9966846539898233, 2.7408620334733014, 2.6824100799380806, 2.6666746716730336, 2.692845013896836, 2.5246591795237494, 2.4586643662066856, 2.405743741001843, 2.1759072213354607, 2.201636158049963, 2.174347732995737, 2.1174293052091007, 2.076474262834441, 1.9580790061068907, 1.9055492640147937, 1.7815925816221097, 1.7092043295292174, 1.6375334112005602, 1.539832892564307, 1.4662271926885078, 1.4399020305205714, 1.3945977071767253, 1.3935729326280861, 1.3681374212316013, 2.7612984280775383, 1.3687964740570988, 1.2955180086579343, 1.270167235603146, 1.2686600210008911, 2.7203450792518185, 4.277839872595145, 3.5012616799009884, 10.531158499953408, 9.87510143150141, 3.703426937444057, 5.989301497467478, 10.901291624570623, 7.192241960784435, 4.68673409510769, 4.756045588523244, 4.465077180457965, 3.563248000424797, 3.563248000424797, 3.563248000424797, 3.583063261322823, 3.2120693679372314, 2.5788038277661363, 2.4944752268528285, 2.4967802442796954, 2.31462827835874, 2.259969616800583, 2.2237973199554504, 1.9766303598439612, 1.9767993288913814, 1.9767993288913814, 1.9767993288913814, 1.9767993288913814, 1.9767993288913814, 1.9767993288913814, 1.9767993288913814, 1.8548544522990846, 1.8239601692316996, 1.7167066736890195, 1.4928100060437237, 1.4457155626037406, 1.403341038308434, 1.3783650494400166, 1.3137699358557897, 1.2644349825337007, 9.027688017116862, 3.1635468407365335, 2.1498799344852317, 2.8515315474991683, 4.459204790267056, 10.557768598906101, 3.638278948906664, 3.703426937444057, 4.277839872595145, 6.909827457637562, 4.284205408356057, 4.3105298412265185], \"Category\": [\"Default\", \"Default\", \"Default\", \"Default\", \"Default\", \"Default\", \"Default\", \"Default\", \"Default\", \"Default\", \"Default\", \"Default\", \"Default\", \"Default\", \"Default\", \"Default\", \"Default\", \"Default\", \"Default\", \"Default\", \"Default\", \"Default\", \"Default\", \"Default\", \"Default\", \"Default\", \"Default\", \"Default\", \"Default\", \"Default\", \"Topic1\", \"Topic1\", \"Topic1\", \"Topic1\", \"Topic1\", \"Topic1\", \"Topic1\", \"Topic1\", \"Topic1\", \"Topic1\", \"Topic1\", \"Topic1\", \"Topic1\", \"Topic1\", \"Topic1\", \"Topic1\", \"Topic1\", \"Topic1\", \"Topic1\", \"Topic1\", \"Topic1\", \"Topic1\", \"Topic1\", \"Topic1\", \"Topic1\", \"Topic1\", \"Topic1\", \"Topic1\", \"Topic1\", \"Topic1\", \"Topic1\", \"Topic1\", \"Topic1\", \"Topic1\", \"Topic1\", \"Topic1\", \"Topic1\", \"Topic1\", \"Topic1\", \"Topic1\", \"Topic1\", \"Topic1\", \"Topic1\", \"Topic1\", \"Topic2\", \"Topic2\", \"Topic2\", \"Topic2\", \"Topic2\", \"Topic2\", \"Topic2\", \"Topic2\", \"Topic2\", \"Topic2\", \"Topic2\", \"Topic2\", \"Topic2\", \"Topic2\", \"Topic2\", \"Topic2\", \"Topic2\", \"Topic2\", \"Topic2\", \"Topic2\", \"Topic2\", \"Topic2\", \"Topic2\", \"Topic2\", \"Topic2\", \"Topic2\", \"Topic2\", \"Topic2\", \"Topic2\", \"Topic2\", \"Topic2\", \"Topic2\", \"Topic2\", \"Topic2\", \"Topic2\", \"Topic2\", \"Topic2\", \"Topic2\", \"Topic2\", \"Topic2\", \"Topic2\", \"Topic2\", \"Topic3\", \"Topic3\", \"Topic3\", \"Topic3\", \"Topic3\", \"Topic3\", \"Topic3\", \"Topic3\", \"Topic3\", \"Topic3\", \"Topic3\", \"Topic3\", \"Topic3\", \"Topic3\", \"Topic3\", \"Topic3\", \"Topic3\", \"Topic3\", \"Topic3\", \"Topic3\", \"Topic3\", \"Topic3\", \"Topic3\", \"Topic3\", \"Topic3\", \"Topic3\", \"Topic3\", \"Topic3\", \"Topic3\", \"Topic3\", \"Topic3\", \"Topic3\", \"Topic3\", \"Topic3\", \"Topic3\", \"Topic3\", \"Topic3\", \"Topic3\", \"Topic3\", \"Topic3\", \"Topic3\", \"Topic3\", \"Topic4\", \"Topic4\", \"Topic4\", \"Topic4\", \"Topic4\", \"Topic4\", \"Topic4\", \"Topic4\", \"Topic4\", \"Topic4\", \"Topic4\", \"Topic4\", \"Topic4\", \"Topic4\", \"Topic4\", \"Topic4\", \"Topic4\", \"Topic4\", \"Topic4\", \"Topic4\", \"Topic4\", \"Topic4\", \"Topic4\", \"Topic4\", \"Topic4\", \"Topic4\", \"Topic4\", \"Topic4\", \"Topic4\", \"Topic4\", \"Topic4\", \"Topic4\", \"Topic4\", \"Topic4\", \"Topic4\", \"Topic4\", \"Topic4\", \"Topic4\", \"Topic4\", \"Topic4\", \"Topic4\", \"Topic4\", \"Topic4\", \"Topic5\", \"Topic5\", \"Topic5\", \"Topic5\", \"Topic5\", \"Topic5\", \"Topic5\", \"Topic5\", \"Topic5\", \"Topic5\", \"Topic5\", \"Topic5\", \"Topic5\", \"Topic5\", \"Topic5\", \"Topic5\", \"Topic5\", \"Topic5\", \"Topic5\", \"Topic5\", \"Topic5\", \"Topic5\", \"Topic5\", \"Topic5\", \"Topic5\", \"Topic5\", \"Topic5\", \"Topic5\", \"Topic5\", \"Topic5\", \"Topic5\", \"Topic5\", \"Topic5\", \"Topic5\", \"Topic5\", \"Topic5\", \"Topic5\", \"Topic5\", \"Topic5\", \"Topic5\", \"Topic6\", \"Topic6\", \"Topic6\", \"Topic6\", \"Topic6\", \"Topic6\", \"Topic6\", \"Topic6\", \"Topic6\", \"Topic6\", \"Topic6\", \"Topic6\", \"Topic6\", \"Topic6\", \"Topic6\", \"Topic6\", \"Topic6\", \"Topic6\", \"Topic6\", \"Topic6\", \"Topic6\", \"Topic6\", \"Topic6\", \"Topic6\", \"Topic6\", \"Topic6\", \"Topic6\", \"Topic6\", \"Topic6\", \"Topic6\", \"Topic6\", \"Topic6\", \"Topic6\", \"Topic6\", \"Topic6\", \"Topic6\", \"Topic6\", \"Topic6\", \"Topic6\", \"Topic6\", \"Topic6\", \"Topic6\"], \"logprob\": [30.0, 29.0, 28.0, 27.0, 26.0, 25.0, 24.0, 23.0, 22.0, 21.0, 20.0, 19.0, 18.0, 17.0, 16.0, 15.0, 14.0, 13.0, 12.0, 11.0, 10.0, 9.0, 8.0, 7.0, 6.0, 5.0, 4.0, 3.0, 2.0, 1.0, -4.2712, -4.6579, -4.8518, -5.2651, -5.3581, -5.5459, -5.5686, -5.6509, -5.6844, -5.6856, -5.758, -5.7581, -5.7581, -5.7581, -5.7581, -5.7582, -5.7588, -5.7588, -5.8051, -5.8262, -5.8346, -5.7687, -5.909, -5.9295, -5.9452, -5.9847, -6.026, -6.0349, -6.0405, -6.0355, -5.2751, -4.392, -4.7129, -4.6521, -5.7054, -5.6632, -5.6073, -5.3705, -5.2461, -5.5757, -5.5283, -5.6701, -5.7384, -5.75, -4.8301, -5.0086, -4.9359, -5.4295, -5.4429, -5.6172, -5.6578, -5.6563, -5.6853, -5.7098, -5.6966, -5.8453, -5.8548, -5.8549, -5.8138, -5.9095, -5.9096, -5.9795, -6.0045, -6.0535, -6.0672, -6.069, -6.0694, -6.074, -6.1543, -6.1755, -6.1541, -6.1642, -6.1818, -6.2543, -4.8677, -5.4649, -5.8196, -5.0641, -5.6923, -6.0373, -5.9049, -5.7536, -5.7937, -5.4908, -6.0115, -5.9313, -4.6611, -5.0715, -5.1468, -5.4076, -5.409, -5.507, -5.4698, -5.5441, -5.5924, -5.6078, -5.6405, -5.6759, -5.6446, -5.8411, -5.8469, -5.9473, -5.9488, -5.9969, -5.9972, -5.999, -6.0388, -6.0517, -6.0771, -6.0797, -6.1813, -6.1839, -6.1839, -6.1839, -6.1843, -6.1843, -6.1589, -5.6326, -5.9178, -5.811, -5.6354, -5.4636, -5.6968, -5.3488, -5.9966, -5.8228, -5.6718, -5.9568, -4.3888, -4.975, -4.9847, -5.1902, -5.4427, -5.5668, -5.5668, -5.5641, -5.5678, -5.5678, -5.5678, -5.5678, -5.5683, -5.8818, -5.9216, -5.9699, -6.0121, -6.036, -6.0568, -6.0569, -6.057, -6.0586, -6.0591, -6.0601, -6.1046, -6.1409, -6.1411, -6.1664, -6.0723, -6.1687, -6.0734, -3.6591, -5.6826, -5.5057, -5.1397, -5.4997, -5.7794, -5.5037, -5.7439, -5.8235, -6.0026, -6.0116, -6.0564, -5.2482, -5.5995, -5.6943, -5.7193, -5.7257, -5.7169, -5.7883, -5.8237, -5.8487, -5.9618, -5.9503, -5.9637, -5.9945, -6.018, -6.0886, -6.1215, -6.2035, -6.2554, -6.3099, -6.3847, -6.4474, -6.4766, -6.5132, -6.5187, -6.5405, -5.8394, -6.5441, -6.6112, -6.6392, -6.6509, -6.0215, -5.7212, -5.8757, -5.0847, -5.2642, -5.9947, -5.9834, -5.9186, -6.1818, -6.2646, -5.0243, -5.0972, -5.338, -5.338, -5.338, -5.3326, -5.4568, -5.7114, -5.7502, -5.7541, -5.8322, -5.8582, -5.8745, -6.0149, -6.0153, -6.0153, -6.0153, -6.0153, -6.0153, -6.0153, -6.0153, -6.0933, -6.1163, -6.1904, -6.3661, -6.4107, -6.4463, -6.4697, -6.5444, -6.5896, -4.7212, -5.829, -6.154, -6.0008, -5.9196, -5.566, -6.015, -6.0147, -6.006, -5.9575, -6.015, -6.0153], \"loglift\": [30.0, 29.0, 28.0, 27.0, 26.0, 25.0, 24.0, 23.0, 22.0, 21.0, 20.0, 19.0, 18.0, 17.0, 16.0, 15.0, 14.0, 13.0, 12.0, 11.0, 10.0, 9.0, 8.0, 7.0, 6.0, 5.0, 4.0, 3.0, 2.0, 1.0, 1.3925, 1.3849, 1.381, 1.3676, 1.3639, 1.3546, 1.3537, 1.3493, 1.3474, 1.3466, 1.3431, 1.3431, 1.3431, 1.3431, 1.3431, 1.343, 1.3426, 1.3426, 1.3398, 1.3379, 1.3378, 1.3332, 1.3321, 1.3313, 1.3301, 1.3255, 1.3233, 1.3232, 1.3227, 1.3226, 1.2873, 1.2129, 1.1996, 1.1307, 1.1977, 1.1743, 1.1317, 0.9526, 0.6992, 0.9693, 0.8936, 0.6849, 0.8165, 0.8935, 1.5577, 1.5517, 1.5508, 1.532, 1.5317, 1.5213, 1.5189, 1.5183, 1.5165, 1.514, 1.5138, 1.5043, 1.5036, 1.5036, 1.5034, 1.4999, 1.4998, 1.4936, 1.4901, 1.4863, 1.4853, 1.4838, 1.4835, 1.48, 1.4737, 1.4732, 1.473, 1.4728, 1.4702, 1.4653, 1.3858, 1.3994, 1.3347, 0.8812, 1.1283, 1.3543, 1.1745, 0.8845, 0.8982, -0.1161, 1.2567, 0.2395, 1.6945, 1.6801, 1.6783, 1.664, 1.6629, 1.6576, 1.6574, 1.6548, 1.651, 1.6503, 1.6469, 1.6442, 1.643, 1.6297, 1.6293, 1.6204, 1.619, 1.6156, 1.6152, 1.6141, 1.6102, 1.6093, 1.6066, 1.606, 1.5941, 1.594, 1.594, 1.594, 1.5937, 1.5937, 1.5929, 1.5306, 1.5577, 1.5225, 1.4822, 1.3995, 1.4261, 0.8219, 1.5048, 1.2834, -0.0668, 0.8222, 1.8971, 1.873, 1.8729, 1.8601, 1.843, 1.833, 1.833, 1.8329, 1.8319, 1.8319, 1.8319, 1.8319, 1.8315, 1.7993, 1.7936, 1.7884, 1.7832, 1.7798, 1.7774, 1.7772, 1.7771, 1.7757, 1.7751, 1.7737, 1.7697, 1.7635, 1.7633, 1.761, 1.7587, 1.7586, 1.7578, 1.7156, 1.7259, 1.6884, 1.4717, 1.4822, 1.4621, 1.0513, 0.1685, 0.5315, 0.8179, 0.7674, 1.7009, 2.049, 2.0149, 2.0094, 2.006, 2.0054, 2.0044, 1.9975, 1.9886, 1.9854, 1.9726, 1.9725, 1.9715, 1.9673, 1.9633, 1.9514, 1.9457, 1.9309, 1.9205, 1.9088, 1.8956, 1.8818, 1.8707, 1.8661, 1.8614, 1.858, 1.8569, 1.8539, 1.8418, 1.8335, 1.823, 1.6897, 1.5373, 1.5831, 1.2729, 1.1577, 1.408, 0.9385, 0.4045, 0.5572, 0.9026, 2.1282, 2.1185, 2.1032, 2.1032, 2.1032, 2.1031, 2.0882, 2.0532, 2.0476, 2.0429, 2.0405, 2.0384, 2.0382, 2.0156, 2.0152, 2.0152, 2.0152, 2.0152, 2.0152, 2.0152, 2.0152, 2.0009, 1.9946, 1.9811, 1.9452, 1.9326, 1.9268, 1.9213, 1.8947, 1.8877, 1.7904, 1.7313, 1.7926, 1.6633, 1.2974, 0.789, 1.4054, 1.3879, 1.2525, 0.8215, 1.242, 1.2356]}, \"token.table\": {\"Topic\": [3, 6, 4, 4, 2, 2, 5, 1, 6, 1, 6, 6, 4, 1, 3, 1, 4, 4, 1, 4, 3, 5, 3, 4, 3, 5, 1, 2, 4, 5, 3, 5, 6, 5, 3, 2, 3, 4, 4, 1, 3, 3, 1, 3, 6, 4, 1, 2, 3, 5, 3, 1, 2, 2, 5, 3, 4, 5, 2, 3, 6, 3, 3, 3, 5, 1, 4, 6, 1, 2, 4, 6, 5, 4, 3, 6, 1, 4, 5, 5, 3, 4, 4, 6, 3, 2, 6, 3, 3, 6, 6, 4, 5, 6, 1, 1, 5, 3, 4, 1, 5, 1, 4, 1, 4, 5, 5, 2, 5, 2, 3, 5, 4, 1, 6, 2, 1, 2, 5, 5, 5, 3, 1, 4, 2, 3, 3, 4, 6, 3, 5, 5, 1, 6, 3, 6, 4, 2, 1, 1, 2, 1, 2, 3, 4, 5, 6, 3, 6, 2, 3, 2, 4, 6, 1, 6, 4, 6, 4, 1, 3, 1, 6, 3, 1, 2, 2, 4, 6, 5, 6, 1, 5, 1, 1, 5, 2, 4, 6, 4, 6, 1, 2, 3, 2, 4, 1, 3, 2, 3, 5, 2, 5, 2, 4, 1, 6, 6, 2, 3, 4, 1, 2, 4, 3, 2, 6, 6, 3, 3, 6, 1, 2, 5, 6, 5, 2, 4, 5, 3, 4, 1, 4, 6, 1, 4, 1, 6, 2, 4, 6, 6, 5, 3, 2, 6, 2, 5, 3, 5, 5, 2, 3, 2, 2, 5, 1, 4, 2, 4, 1, 3, 2, 1, 6, 2, 3, 1, 1, 6, 1, 6, 2, 6, 2, 5, 6, 4, 1, 3, 6, 1, 4, 5, 2, 5, 6, 2, 1, 2, 3, 6, 4, 4, 6, 4, 3, 2, 4, 4, 1, 2, 2, 1, 1, 2, 4, 1, 5], \"Freq\": [0.46398008450648376, 0.46398008450648376, 0.8076450172485443, 0.7706912505996439, 0.9409846079808819, 1.0360413690412638, 0.5850675561273821, 1.00574639407955, 1.011736482691761, 0.3323109963826706, 0.6646219927653412, 1.011736482691761, 0.8314156173148719, 0.8052485988392424, 0.1789441330753872, 0.9994231952408383, 0.8076450172485443, 0.807712619994186, 0.22982073231639702, 0.6894621969491911, 0.9092951305407885, 0.7427089155442278, 1.0362978208804372, 0.9303421384803837, 0.9990991273974543, 0.7305688018292523, 0.9988886194555587, 0.942464688965266, 0.807712619994186, 1.0011063379677814, 0.6022380198412428, 0.20074600661374759, 0.20074600661374759, 0.7296974366365828, 0.765661409995322, 0.15741722073943415, 0.7870861036971708, 0.15741722073943415, 0.7698833905110569, 0.20303271233039397, 0.8121308493215759, 0.8671974656697222, 0.9805005367182373, 0.9346780033284613, 0.8993625372478038, 0.8314144612489033, 0.9987178969902696, 1.036685171855729, 0.9553429244333439, 0.9191568373822953, 0.7859676299200202, 1.0021238907789316, 0.891140395135058, 1.0138899909877304, 0.787297902173602, 0.9997481889352906, 0.9125224473929799, 0.6494211188947164, 0.5863431925572958, 0.19544773085243194, 0.5825106963970186, 0.8718903727841011, 0.7859676299200202, 0.9698309959154564, 0.9719833979830104, 0.5783688881788233, 0.46269511054305856, 1.011736482691761, 0.6871669944403825, 0.34358349722019127, 0.8287224655639344, 0.8372724066536399, 0.6106745628273004, 0.9126943964173386, 0.9856494974267257, 1.011736482691761, 0.9026995613491272, 0.8162757386546285, 0.5612955567481748, 0.9198160761730935, 1.0250176098914106, 0.8310836827589605, 0.8076450172485443, 0.8419284876164531, 0.7859676299200202, 0.9915345493566149, 0.8640696299702011, 0.7859908024937777, 0.9625026053845014, 1.011736482691761, 0.9339773387044188, 0.8314246806129286, 0.7352008446480119, 0.36760042232400597, 0.9321365402449469, 1.000236787644218, 0.7170526631830169, 0.8712717412474076, 0.8315091146435715, 0.6075886958345663, 0.40505913055637754, 0.9986508196473959, 0.8076908326505333, 0.9846829060863892, 0.28561132855064947, 0.5712226571012989, 0.8134497849682797, 0.7880786972289424, 0.1576157394457885, 0.2848689439070994, 0.2848689439070994, 0.37982525854279914, 0.7133778866521597, 1.0382382228267582, 0.8849676496232638, 0.9787032813211796, 0.6421257444597271, 0.18346449841706491, 0.18346449841706491, 0.7882332409364207, 0.7921861359430222, 0.9476312056724846, 0.7909042976986721, 0.18251637639200124, 0.708158186316003, 0.23605272877200104, 0.43416424192821834, 0.28944282795214554, 0.28944282795214554, 0.8940658109804123, 0.6820225439731322, 0.6944916937428496, 1.0238783442814055, 1.011736482691761, 0.7152874727962234, 0.8410348314684686, 0.805441917775181, 0.8685011289321164, 1.0329068769556788, 0.9986508196473959, 0.929121289088644, 0.9986418477174501, 0.8799062493192548, 0.8809432172058128, 0.8919246795950873, 0.5400403555363003, 0.5400403555363003, 0.7839609083018472, 0.7254972116467016, 0.8615907622797588, 0.9991396712192027, 1.023970909682883, 0.8147485551007663, 0.8017718430193886, 0.9963417535203695, 1.0118229693476344, 0.5497104614809752, 0.5497104614809752, 0.9491498148219591, 0.9371552728815484, 0.7559149606358804, 0.46683102451136765, 0.46683102451136765, 0.9554774215315269, 0.9986571521941616, 1.033342574984966, 0.9412770757956543, 0.8076450172485443, 0.8419284876164531, 0.46752568108321996, 0.46752568108321996, 0.8191979932335582, 0.16383959864671166, 0.9989040827804923, 0.6951935192478794, 0.13903870384957587, 0.8557168173146295, 0.17114336346292588, 1.0782517180908766, 0.31610089887816584, 0.6322017977563317, 0.31508709858739925, 0.2363153239405494, 0.39385887323424906, 0.6034399209991973, 0.30171996049959865, 0.9322864637999346, 0.11653580797499183, 1.0394544794467222, 0.9210252232164726, 0.7499977485987177, 0.8880155520788658, 0.7718920102360675, 0.3671812471143768, 0.6119687451906279, 0.8507764530479002, 0.4651422546717431, 1.011736482691761, 0.5028238064710634, 0.3771178548532975, 0.12570595161776585, 0.21063315652150355, 0.8425326260860142, 0.9608635528079881, 0.850067791347697, 0.8011079297014075, 0.26703597656713585, 0.6916989938179785, 0.7167179564646211, 0.9944035310687024, 0.6698776106480027, 0.9986508196473959, 0.9031874524674439, 0.9631711000693783, 0.7125851611988664, 0.7309207280506932, 0.4267363924246794, 0.2133681962123397, 0.2133681962123397, 0.21920058406422777, 0.8768023362569111, 0.4735849202565449, 0.28415095215392694, 0.28415095215392694, 0.9569286621381144, 0.7381922466830759, 0.8346497005508785, 0.7611682781799997, 0.8691995895163053, 0.3506887380842809, 0.7013774761685618, 0.8419284876164531, 1.0495661475506586, 1.0488413679833208, 0.8155392306435596, 0.5482575863601378, 0.9304288580233907, 0.9084153131693855, 0.9695267784982239, 0.8313437403632707, 1.021409245368734, 1.0147413397068101, 0.9626391641926738, 0.8835711791299913, 0.859841659215001, 0.7175799533607029, 1.0330025279279487, 0.8918946617990873, 0.35453595475263916, 0.7090719095052783, 0.20412348453339474, 0.816493938133579, 0.9723325324390475, 0.8578644198042251, 0.8010316504955313, 0.8155137223973503, 0.7859908024937777, 0.9189330405855602, 0.4485104618575328, 0.4485104618575328, 0.7671561705264756, 0.1534312341052951, 1.0333577346789933, 0.7755533703129642, 0.7414389780852455, 0.9445415698553845, 0.790867078033684, 0.9393632936793075, 0.6319142939485678, 0.2527657175794271, 0.12638285878971356, 0.9704175916760065, 0.9722850402077844, 0.72429693931794, 0.5008931344111701, 0.3339287562741134, 0.1669643781370567, 1.0242442861323093, 0.7482050636145287, 0.10688643765921838, 0.10688643765921838, 0.05344321882960919, 0.8289589115159968, 0.865454368048209, 0.8958411777307141, 0.7997454668002406, 0.8511858429863722, 0.17766749787958855, 0.8172704902461073, 0.8314211601382923, 0.5029966721811442, 0.5029966721811442, 0.9413593749062703, 0.9509585094670331, 0.2652788842578969, 0.5305577685157938, 0.2652788842578969, 0.9317606477646329, 0.7455981525562143], \"Term\": [\"abus\", \"abus\", \"accus\", \"ace\", \"actual\", \"ad\", \"adam\", \"alc\", \"alcohol\", \"angel\", \"angel\", \"angl\", \"apiec\", \"astro\", \"astro\", \"astro_alc\", \"astro_assist_general_manag\", \"astro_final\", \"away\", \"away\", \"ball\", \"base\", \"bat\", \"beat\", \"began\", \"belt_run\", \"best_seven\", \"bet\", \"big_hit\", \"biggest\", \"blast\", \"blast\", \"blast\", \"blue_jay\", \"boston_red\", \"brave\", \"brave\", \"brave\", \"came\", \"cardin\", \"cardin\", \"care\", \"carlo_correa\", \"carri\", \"carri_hitter_seventh_inning\", \"championship\", \"championship_seri\", \"chang\", \"chicago_cub\", \"chicago_white\", \"clear\", \"clinch\", \"come\", \"comeback\", \"consecut_victori\", \"consid\", \"controversi\", \"cruis_past\", \"cub\", \"cub\", \"d\", \"day\", \"dead\", \"decad\", \"decis\", \"deliv\", \"deliv\", \"die\", \"dodger\", \"dodger\", \"dont\", \"doubl\", \"doublehead\", \"dozen\", \"drove_run\", \"drug\", \"earli\", \"earn_run\", \"edg\", \"editorsnot_fix\", \"elimin\", \"elit\", \"employ\", \"employe\", \"era\", \"even\", \"face\", \"fade\", \"fan\", \"fentanyl\", \"final\", \"fire\", \"fix\", \"fix\", \"franchis\", \"gerrit_cole\", \"giolito\", \"go\", \"got\", \"ha\", \"ha\", \"happen_nation\", \"head\", \"held\", \"help\", \"help\", \"histor\", \"histori\", \"histori\", \"hit\", \"hit\", \"hit\", \"hit_drove_run\", \"hit_homer\", \"hit_rbi\", \"home_run\", \"homer\", \"homer\", \"homer\", \"homer_doubl\", \"homer_twice\", \"houston\", \"houston_astro\", \"houston_astro\", \"indian\", \"indian\", \"inning\", \"inning\", \"inning\", \"isnt\", \"jeff\", \"jr_hit\", \"juan_soto\", \"juli\", \"kansa_citi\", \"late\", \"left\", \"like\", \"lineup\", \"live\", \"loss\", \"love_nation\", \"marin\", \"marlin\", \"masahiro_tanaka\", \"max_scherzer\", \"max_scherzer\", \"miami_marlin\", \"mike_trout\", \"milwauke_brewer\", \"minut_maid_park\", \"miss\", \"monday\", \"mound\", \"nation\", \"nation_championship\", \"nation_lead\", \"nation_lead\", \"new_york\", \"new_york_yanke\", \"night\", \"nlcs\", \"nlcs\", \"notebook\", \"octob\", \"old\", \"oppos\", \"outburst\", \"oxycodon\", \"padr\", \"padr\", \"past\", \"past\", \"pennant\", \"pitch\", \"pitch\", \"pitcher\", \"pitcher\", \"plate\", \"play\", \"play\", \"playoff\", \"playoff\", \"playoff\", \"postseason\", \"postseason\", \"power\", \"power\", \"produc\", \"profession\", \"prospect\", \"provid\", \"rain_shorten\", \"ray\", \"ray\", \"rbi\", \"rbi_singl\", \"receiv\", \"red_sox\", \"red_sox\", \"red_sox\", \"reliev\", \"reliev\", \"roll\", \"royal\", \"run\", \"run\", \"run_doubl\", \"run_help\", \"run_homer\", \"run_ninth\", \"ryan_zimmerman\", \"said\", \"santana\", \"score\", \"score_run\", \"season\", \"season\", \"season\", \"send\", \"send\", \"seri\", \"seri\", \"seri\", \"seri_lead\", \"seri_open\", \"set\", \"seven_run\", \"show\", \"singl\", \"singl\", \"skagg\", \"slugger\", \"snap\", \"spent\", \"st_petersburg_fla\", \"star\", \"start\", \"start_pitcher\", \"starter\", \"stat\", \"storm\", \"straight\", \"stun\", \"sunday\", \"surg\", \"surviv\", \"swing\", \"tampa_bay\", \"tampa_bay\", \"th\", \"th\", \"th_graf\", \"th_inning\", \"threw\", \"titl\", \"tradit\", \"tuesday\", \"tuesday_night\", \"tuesday_night\", \"twin\", \"twin\", \"tyler\", \"u\", \"unpredict\", \"versus\", \"visit_los_angel_dodger\", \"wa\", \"walk\", \"walk\", \"walk\", \"washington\", \"washington_nation\", \"week\", \"white_sox\", \"white_sox\", \"white_sox\", \"wild\", \"win\", \"win\", \"win\", \"win\", \"win_world_seri\", \"winner\", \"won\", \"work\", \"workhors\", \"world_seri\", \"world_seri\", \"wsj_sport\", \"yanke\", \"yanke\", \"yanke_astro\", \"yanke_stadium\", \"year\", \"year\", \"year\", \"york_yanke\", \"zack_greink\"]}, \"R\": 30, \"lambda.step\": 0.01, \"plot.opts\": {\"xlab\": \"PC1\", \"ylab\": \"PC2\"}, \"topic.order\": [5, 6, 4, 3, 1, 2]};\n",
       "\n",
       "function LDAvis_load_lib(url, callback){\n",
       "  var s = document.createElement('script');\n",
       "  s.src = url;\n",
       "  s.async = true;\n",
       "  s.onreadystatechange = s.onload = callback;\n",
       "  s.onerror = function(){console.warn(\"failed to load library \" + url);};\n",
       "  document.getElementsByTagName(\"head\")[0].appendChild(s);\n",
       "}\n",
       "\n",
       "if(typeof(LDAvis) !== \"undefined\"){\n",
       "   // already loaded: just create the visualization\n",
       "   !function(LDAvis){\n",
       "       new LDAvis(\"#\" + \"ldavis_el2251230170322112485529507719\", ldavis_el2251230170322112485529507719_data);\n",
       "   }(LDAvis);\n",
       "}else if(typeof define === \"function\" && define.amd){\n",
       "   // require.js is available: use it to load d3/LDAvis\n",
       "   require.config({paths: {d3: \"https://d3js.org/d3.v5\"}});\n",
       "   require([\"d3\"], function(d3){\n",
       "      window.d3 = d3;\n",
       "      LDAvis_load_lib(\"https://cdn.jsdelivr.net/gh/bmabey/pyLDAvis@3.3.1/pyLDAvis/js/ldavis.v3.0.0.js\", function(){\n",
       "        new LDAvis(\"#\" + \"ldavis_el2251230170322112485529507719\", ldavis_el2251230170322112485529507719_data);\n",
       "      });\n",
       "    });\n",
       "}else{\n",
       "    // require.js not available: dynamically load d3 & LDAvis\n",
       "    LDAvis_load_lib(\"https://d3js.org/d3.v5.js\", function(){\n",
       "         LDAvis_load_lib(\"https://cdn.jsdelivr.net/gh/bmabey/pyLDAvis@3.3.1/pyLDAvis/js/ldavis.v3.0.0.js\", function(){\n",
       "                 new LDAvis(\"#\" + \"ldavis_el2251230170322112485529507719\", ldavis_el2251230170322112485529507719_data);\n",
       "            })\n",
       "         });\n",
       "}\n",
       "</script>"
      ],
      "text/plain": [
       "PreparedData(topic_coordinates=              x         y  topics  cluster       Freq\n",
       "topic                                                \n",
       "4     -0.159815  0.031385       1        1  24.467356\n",
       "5      0.048228 -0.054287       2        1  20.408910\n",
       "3      0.012527 -0.072591       3        1  17.763306\n",
       "2      0.077215  0.113821       4        1  14.549842\n",
       "0      0.014592 -0.015318       5        1  11.764076\n",
       "1      0.007252 -0.003010       6        1  11.046511, topic_info=                   Term       Freq      Total Category  logprob  loglift\n",
       "1175         world_seri  28.000000  28.000000  Default  30.0000  30.0000\n",
       "251              nation  21.000000  21.000000  Default  29.0000  29.0000\n",
       "1669  washington_nation  11.000000  11.000000  Default  28.0000  28.0000\n",
       "243               astro  22.000000  22.000000  Default  27.0000  27.0000\n",
       "1051         washington  14.000000  14.000000  Default  26.0000  26.0000\n",
       "...                 ...        ...        ...      ...      ...      ...\n",
       "2627       max_scherzer   1.639081   3.703427   Topic6  -6.0147   1.3879\n",
       "2174               padr   1.653499   4.277840   Topic6  -6.0060   1.2525\n",
       "121              inning   1.735638   6.909827   Topic6  -5.9575   0.8215\n",
       "1324               nlcs   1.638717   4.284205   Topic6  -6.0150   1.2420\n",
       "5431               abus   1.638241   4.310530   Topic6  -6.0153   1.2356\n",
       "\n",
       "[283 rows x 6 columns], token_table=      Topic      Freq         Term\n",
       "term                              \n",
       "5431      3  0.463980         abus\n",
       "5431      6  0.463980         abus\n",
       "15        4  0.807645        accus\n",
       "669       4  0.770691          ace\n",
       "1789      2  0.940985       actual\n",
       "...     ...       ...          ...\n",
       "354       1  0.265279         year\n",
       "354       2  0.530558         year\n",
       "354       4  0.265279         year\n",
       "5724      1  0.931761   york_yanke\n",
       "1779      5  0.745598  zack_greink\n",
       "\n",
       "[299 rows x 3 columns], R=30, lambda_step=0.01, plot_opts={'xlab': 'PC1', 'ylab': 'PC2'}, topic_order=[5, 6, 4, 3, 1, 2])"
      ]
     },
     "execution_count": 15,
     "metadata": {},
     "output_type": "execute_result"
    }
   ],
   "source": [
    "###################################\n",
    "# 6-2. Topic Model Year 2019\n",
    "###################################\n",
    "lda_model_2019, corpus_2019 = evaluate_model(YEARS[1]) # 2019\n",
    "pyLDAvis.gensim_models.prepare(lda_model_2019, corpus_2019, dictionary=DICTIONARY)"
   ]
  },
  {
   "cell_type": "code",
   "execution_count": 16,
   "id": "whole-dynamics",
   "metadata": {
    "scrolled": false
   },
   "outputs": [
    {
     "data": {
      "image/png": "[encoded data removed]",
      "text/plain": [
       "<Figure size 432x288 with 1 Axes>"
      ]
     },
     "metadata": {
      "needs_background": "light"
     },
     "output_type": "display_data"
    },
    {
     "name": "stdout",
     "output_type": "stream",
     "text": [
      "Optimal Number of Topics: 7\n",
      "Best Coherence Score: 0.47952616194300196\n",
      "MVPs in any of the 7 Topics:\n",
      "               name               team    league  year\n",
      "18       Jose Abreu  Chicago White Sox  American  2020\n",
      "19  Freddie Freeman     Atlanta Braves  National  2020\n",
      "\n",
      "\n"
     ]
    },
    {
     "data": {
      "text/html": [
       "\n",
       "<link rel=\"stylesheet\" type=\"text/css\" href=\"https://cdn.jsdelivr.net/gh/bmabey/pyLDAvis@3.3.1/pyLDAvis/js/ldavis.v1.0.0.css\">\n",
       "\n",
       "\n",
       "<div id=\"ldavis_el225123017031737968668006320\"></div>\n",
       "<script type=\"text/javascript\">\n",
       "\n",
       "var ldavis_el225123017031737968668006320_data = {\"mdsDat\": {\"x\": [-0.08484222959188085, 0.02778787906783972, 0.011081662318999734, 0.03092371088740588, 0.005747371731061993, 0.003932956641696305, 0.005368648944877233], \"y\": [0.007001879153164518, -0.0380070015158602, -0.008149463502693154, 0.05951824958116447, -0.007265832179454674, -0.008393552356979802, -0.004704279179341176], \"topics\": [1, 2, 3, 4, 5, 6, 7], \"cluster\": [1, 1, 1, 1, 1, 1, 1], \"Freq\": [24.692763267042157, 17.20660241872072, 14.392502029762374, 12.952967752449867, 12.418026838994226, 10.329384947293743, 8.007752745736914]}, \"tinfo\": {\"Term\": [\"world_seri\", \"dodger\", \"los_angel\", \"video\", \"brett_phillip\", \"wife\", \"saw\", \"learn\", \"corey_seager\", \"celebr\", \"bubbl\", \"ray_stun\", \"protocol\", \"pandem\", \"time\", \"return\", \"test_result\", \"turner\", \"ray\", \"left\", \"remain\", \"field\", \"look\", \"receiv\", \"week\", \"tampa_bay\", \"cut\", \"good\", \"seven\", \"question\", \"learn\", \"celebr\", \"bubbl\", \"return\", \"field\", \"look\", \"start\", \"covid_outbreak\", \"tri\", \"violat\", \"posit_coronavirus\", \"justin_turner\", \"order\", \"defi\", \"isol\", \"stadium\", \"silent\", \"shook\", \"mayb\", \"answer\", \"morn\", \"wit\", \"flagrant\", \"pierc\", \"pandem\", \"thing\", \"mlbs\", \"difficult\", \"playoff\", \"sport\", \"season\", \"dodger\", \"turner\", \"test_result\", \"protocol\", \"wife\", \"saw\", \"brett_phillip\", \"time\", \"left\", \"remain\", \"moment\", \"hotel_room\", \"figur\", \"championship\", \"that\", \"seventh\", \"career\", \"biggest\", \"heroic\", \"week\", \"angel\", \"strategi\", \"option\", \"pitcher_need\", \"charg\", \"skagg\", \"leaf_littl\", \"card\", \"korea_organ\", \"ex\", \"infield\", \"past\", \"pirat\", \"kang\", \"year\", \"los_angel\", \"world_seri\", \"ha\", \"coronavirus\", \"test\", \"playoff\", \"season\", \"labor\", \"yanke\", \"return_work\", \"surg\", \"video\", \"corey_seager\", \"cut\", \"question\", \"broke\", \"protest\", \"shortstop\", \"review\", \"feed\", \"feedback\", \"instant\", \"prefer\", \"seri\", \"test_posit_covid\", \"star\", \"new\", \"polici\", \"refund\", \"hank_steinbrenn\", \"whitey_ford\", \"hour\", \"juan_soto\", \"dy\", \"open\", \"trade\", \"red_sox\", \"employe\", \"groundwork\", \"guidanc\", \"provid\", \"postpon\", \"took\", \"announc\", \"dodger\", \"yanke\", \"minor\", \"sport\", \"test\", \"plan\", \"owner\", \"pay\", \"ray_stun\", \"ray\", \"tampa_bay\", \"win\", \"dodger_win\", \"beat\", \"dodger_world\", \"earli\", \"won\", \"enter\", \"captur\", \"exit\", \"chao\", \"comeback\", \"apiec\", \"wild\", \"even\", \"better\", \"best\", \"titl\", \"world_seri\", \"ray_world_seri\", \"mooki_bett\", \"los_angel\", \"wallop\", \"year_old\", \"explain\", \"watson\", \"test_posit\", \"roster\", \"turner\", \"test_result\", \"dodger\", \"new\", \"minor\", \"receiv\", \"good\", \"seven\", \"toronto\", \"billion\", \"blue_jay\", \"canada\", \"domin\", \"starter\", \"let\", \"white_sox\", \"olymp\", \"draft_held_june\", \"consid_chang\", \"elbow\", \"commission\", \"sale\", \"travel\", \"pose\", \"cite\", \"elev\", \"transmiss\", \"met\", \"agreement\", \"condens\", \"billionair\", \"cohen\", \"need\", \"reach\", \"later\", \"risk\", \"nation\", \"play_home\", \"tuesday\", \"buffalo\", \"covid\", \"season\", \"best\", \"monday\", \"play\", \"u\", \"pitch\", \"struggl\", \"leav\", \"victori\", \"prevent\", \"inning\", \"set\", \"crazi\", \"outlin\", \"sound\", \"veteran\", \"work\", \"nation_shoot_virtual_world\", \"nation_said\", \"receiv_jewlleri_person\", \"bunt\", \"ace_clayton_kershaw\", \"coronavirus_outbreak\", \"safeti\", \"le\", \"real\", \"scienc\", \"arizona\", \"biodom\", \"function\", \"conting\", \"larg\", \"steal\", \"express\", \"boo\", \"escap\", \"theyr\", \"protocol\", \"fan\", \"propos\", \"rule\", \"play\", \"like\", \"stage_season\", \"plan\", \"complet\", \"season\", \"year\", \"pandem\", \"anthoni_fauci\", \"explain_pitch\", \"econom_propos\", \"twin\", \"argu_public\", \"begin\", \"deal\", \"tuesday\", \"continu\", \"market\", \"sold\", \"royal\", \"ineffici\", \"newest\", \"organ\", \"cap\", \"bonus\", \"loyalti\", \"undraft\", \"dr\", \"destroy\", \"bit\", \"doesnt\", \"outsid\", \"excus\", \"potenti\", \"expect\", \"weekend\", \"fallout\", \"derail\", \"rage\", \"peopl\", \"like\", \"report\", \"season\", \"plan\", \"histori\", \"prospect\", \"accord\", \"arm\", \"sign\", \"suspend\", \"want\", \"expect_present\", \"wa\", \"multipl\", \"treat\", \"money\", \"hang_balanc\"], \"Freq\": [5.0, 11.0, 4.0, 2.0, 3.0, 3.0, 3.0, 4.0, 2.0, 4.0, 4.0, 2.0, 3.0, 3.0, 2.0, 2.0, 3.0, 3.0, 1.0, 1.0, 1.0, 2.0, 2.0, 1.0, 2.0, 1.0, 1.0, 1.0, 1.0, 1.0, 4.06636356595614, 3.9715087637702866, 3.966910337178997, 2.5673943576007106, 2.470918320067416, 2.4678936105015916, 2.1902032717499864, 2.0957918491825778, 2.0957714574617294, 2.0957714574617294, 2.0911906163911715, 2.0013778074950603, 2.0013778074950603, 2.0013778074950603, 2.0013778074950603, 2.0011366613650288, 2.0011366613650288, 2.0011366613650288, 2.0011366613650288, 1.999690907064887, 1.999690907064887, 1.999690907064887, 1.999690907064887, 1.999690907064887, 3.0387925746503446, 2.084816239286005, 2.473344186528329, 2.0509656085178567, 2.5136790103662126, 2.535695146922059, 3.238698413606202, 6.022847035663646, 2.216663493890702, 2.216663493890702, 2.0962819988029677, 3.152624808416496, 3.152624808416496, 3.152624808416496, 1.9633877229809775, 1.8136869442213854, 1.8128390662677336, 1.663841202318426, 1.6638367699921, 1.6629299681708205, 1.6629114566902825, 1.660177623884927, 1.5886342713944666, 1.5886342713944666, 1.5886342713944666, 1.5886342713944666, 1.9403814724609112, 0.24932969737715086, 0.17440557168623325, 0.17440544132369426, 0.17440500135012513, 0.17440488728290351, 0.17440488728290351, 0.17440402363108265, 0.1744035999528309, 0.17440206819299764, 0.17440166081006328, 0.1743986624716663, 0.1743986624716663, 0.1743986624716663, 0.1743986624716663, 0.5480718159928071, 1.6992749136813003, 1.6628878610707236, 0.4721959296999726, 0.3242742085101045, 0.24933606884624446, 0.2920987132657103, 0.3111161308174745, 0.17442325210558504, 0.17441745097259956, 0.17441376823087285, 0.17441036250954148, 2.8159024121964564, 2.6870762152750443, 1.5461010430371829, 1.4802853367576867, 1.4163232361931568, 1.4152088264980598, 1.354066335120988, 1.354066335120988, 1.354066335120988, 1.354066335120988, 1.354066335120988, 1.354066335120988, 1.3900201142116166, 1.3999643125045795, 1.5337373108181425, 1.6556527500833733, 0.14868118575094552, 0.14868118575094552, 0.1486802316330559, 0.14867745106092037, 0.14866343915819827, 0.1486561469714703, 0.16270250697965413, 0.20943775007191415, 0.1464420209967764, 0.1486846342056038, 0.14855965839231677, 0.08479131872578909, 0.08479131872578909, 0.0847913119106613, 0.14868631072703845, 0.14867923662439955, 0.1460326499010994, 2.8060823037501685, 0.212578719794858, 0.19445282429569344, 0.23396336405531445, 0.17102463670895476, 0.1534113887518927, 0.14869627444385738, 0.14868057238944504, 2.308771988135253, 1.4924065199845875, 1.4378000941131253, 1.3279877314531736, 1.27323174679344, 1.2184082447804712, 1.2183895008640933, 1.1634708072339175, 1.1634708072339175, 1.1634708072339175, 1.1634708072339175, 1.1634708072339175, 1.1634708072339175, 1.1633840552858652, 1.1633840552858652, 1.1633840552858652, 1.1633840552858652, 1.2128008697128634, 1.3204543453759776, 1.156483938802314, 3.8370060813085964, 0.23744278055079163, 0.18258137362839372, 2.556733785862303, 0.12771291320343217, 0.12771237345714903, 0.1277116374394902, 0.12768906623128654, 0.12768055296036623, 0.1276490759384909, 1.0383588945680124, 1.0383588945680124, 2.7644028366037836, 0.22825710843132074, 0.1277205923210058, 1.414752193212256, 1.3563224403212664, 1.3473784579776367, 0.20365087459282308, 0.20363441010105285, 0.2648648671249655, 0.14245445202546972, 0.14245385224755522, 0.14245385224755522, 0.1424534994370173, 0.14245311134542557, 0.14245311134542557, 0.14245286437804902, 0.14245213523627062, 0.1424469842024168, 0.14241644257018304, 0.1424530995850743, 0.08124430512819075, 0.08124430512819075, 0.08124430512819075, 0.08124430512819075, 0.08124430512819075, 0.08124344074237282, 0.08124344074237282, 0.08124344074237282, 0.08124342898202155, 0.08124342898202155, 0.08124342898202155, 0.08124342898202155, 0.08124342898202155, 0.2036980806427985, 0.14245393457001407, 0.14246760009818335, 0.14245312310577685, 0.1424537346440426, 0.3242955199913687, 0.3906090125180938, 0.08969123034545348, 0.08330006745079507, 0.08330106120047692, 0.08124739810057331, 0.08124708057108916, 0.08124661015703859, 1.1721923378214216, 1.1219766028598923, 1.1216632553715091, 1.1216339866500666, 1.122057835300687, 0.1683046762799541, 0.16831604334356243, 0.11772931364249335, 0.11772894191407932, 0.11772893213175263, 0.11772031390194289, 0.11772031390194289, 0.11772031390194289, 0.1177214388695117, 0.11762173739593519, 0.11773442001702307, 0.11773377438346184, 0.11772943103041357, 0.06714275024097793, 0.06714275024097793, 0.06714275024097793, 0.06714275024097793, 0.06714275024097793, 0.0671427453498146, 0.06714263285305772, 0.06714263285305772, 0.06714263285305772, 0.06714262796189437, 0.06714262796189437, 0.06714262796189437, 1.121375420191121, 0.16739458729911466, 0.11773357873692814, 0.11523935933732588, 0.16733080652912655, 0.12183857561318394, 0.11672023729792542, 0.12243068028279129, 0.11773829381839045, 0.21880589866346703, 0.10728459627036023, 0.11766106234921007, 0.09591700517610957, 0.09591700517610957, 0.09591691417229423, 0.09588482016007861, 0.0958787456554036, 0.13713010021138206, 0.09590622880764116, 0.137134817242478, 0.09592182079467218, 0.05470392151631402, 0.05470392151631402, 0.05470392151631402, 0.05470392151631402, 0.05470392151631402, 0.05470392151631402, 0.05470392151631402, 0.05470392151631402, 0.05470392151631402, 0.05470392151631402, 0.05470378121876535, 0.05470378121876535, 0.05470378121876535, 0.05470378121876535, 0.05470378121876535, 0.05470378121876535, 0.05470362196208848, 0.05470362196208848, 0.054703345158816766, 0.05470334136699113, 0.05470322761222193, 0.05470331861603729, 0.09593388638385815, 0.0908316664721003, 0.09592715210152179, 0.13704675588381837, 0.07469098710369275, 0.055553916110868656, 0.054706018395892855, 0.054705555793164794, 0.05470554441768787, 0.05470536241005716, 0.054705146275995695, 0.05470484292994451, 0.05470465713048815, 0.05470443720460104, 0.05470437274356516, 0.05470423623784213, 0.05470402768743194, 0.054703989769175544], \"Total\": [5.0, 11.0, 4.0, 2.0, 3.0, 3.0, 3.0, 4.0, 2.0, 4.0, 4.0, 2.0, 3.0, 3.0, 2.0, 2.0, 3.0, 3.0, 1.0, 1.0, 1.0, 2.0, 2.0, 1.0, 2.0, 1.0, 1.0, 1.0, 1.0, 1.0, 4.180316506149005, 4.085747944675673, 4.0847898751512615, 2.681510614715966, 2.586234414180996, 2.586060065796309, 2.304143633927304, 2.209748598503132, 2.2097465501729627, 2.2097465501729627, 2.20744832217679, 2.115335387142031, 2.115335387142031, 2.115335387142031, 2.115335387142031, 2.115257831663156, 2.115257831663156, 2.115257831663156, 2.115257831663156, 2.1149698905343266, 2.1149698905343266, 2.1149698905343266, 2.1149698905343266, 2.1149698905343266, 3.2544040476357434, 2.282339142961113, 2.737036184986048, 2.275393348350259, 2.895157818405644, 3.012567637296565, 4.336150072501912, 11.668564692369905, 3.3509737586247854, 3.3509737586247854, 3.316516023676897, 3.273346568983227, 3.273346568983227, 3.273346568983227, 2.0837911837880285, 1.9340086546343538, 1.933926360574839, 1.784164267142864, 1.7841627572866352, 1.7841027170881487, 1.7840974579353426, 1.784058467435082, 1.709122892204987, 1.709122892204987, 1.709122892204987, 1.709122892204987, 2.359930124516137, 0.3696423416226715, 0.2947165727035798, 0.2947164465039194, 0.29471601269062747, 0.2947165647784167, 0.2947165684467892, 0.2947162048464343, 0.29471636224528114, 0.29471527626833777, 0.294715286585363, 0.2947140741597873, 0.2947140741597873, 0.2947140741597873, 0.2947140741597873, 0.9401128220762937, 4.359251650500858, 5.604452643771457, 1.1466475302679997, 1.3409226643591332, 0.8640807221922344, 2.895157818405644, 4.336150072501912, 0.4500987716624843, 0.5805139168137378, 0.34524024229779615, 0.3452400936466809, 2.9398639794823405, 2.811901699813179, 1.6700897585503642, 1.6064159129264444, 1.5426416071609808, 1.5428804893436925, 1.478399493063621, 1.478399493063621, 1.478399493063621, 1.478399493063621, 1.478399493063621, 1.478399493063621, 1.537655883280778, 1.5501232975869266, 1.9994004391643005, 2.221223642145537, 0.2726241278829028, 0.2726241278829028, 0.2726231890100493, 0.27262306814493065, 0.272622142413822, 0.27262453869043707, 0.32940700630408426, 0.4322403380375883, 0.32710962484478534, 0.33375579979380515, 0.3474673687421603, 0.20873427340994774, 0.20873427340994774, 0.20873426659481997, 0.36687520548447583, 0.36687190303913236, 0.36814427333921795, 11.668564692369905, 0.5805139168137378, 0.5359302036976922, 3.012567637296565, 0.8640807221922344, 0.6658210223376797, 0.5340580338897181, 0.5556638596985861, 2.4359722435161006, 1.6196487291073414, 1.5648174839661013, 1.4550964887473543, 1.400197924782578, 1.3453381578729462, 1.345324696833557, 1.290455057310912, 1.290455057310912, 1.290455057310912, 1.290455057310912, 1.290455057310912, 1.290455057310912, 1.2904277788814953, 1.2904277788814953, 1.2904277788814953, 1.2904277788814953, 1.3453978161706084, 1.5171046011739875, 1.3403878562263223, 5.604452643771457, 0.3643495858021005, 0.3094845311474109, 4.359251650500858, 0.2546156939110083, 0.25461576570299094, 0.2546144432146549, 0.254613982544756, 0.2546224998414898, 0.2546308219926095, 3.3509737586247854, 3.3509737586247854, 11.668564692369905, 2.221223642145537, 0.5359302036976922, 1.5439800479349013, 1.4843197927048613, 1.4819226399237129, 0.32847354483708946, 0.3284731263246962, 0.48391053076343443, 0.2672771222697361, 0.2672765284032654, 0.26727652993663553, 0.2672761819451355, 0.2672757966097048, 0.2672757988170313, 0.26727555433098127, 0.26727483600238827, 0.2672764968233612, 0.3084691628052486, 0.3310702122769314, 0.2060669828172711, 0.2060669828172711, 0.2060669828172711, 0.2060669828172711, 0.2060669828172711, 0.2060661297473487, 0.2060661297473487, 0.2060661297473487, 0.20606611798699742, 0.20606611798699742, 0.20606611798699742, 0.20606611798699742, 0.20606611798699742, 0.5396949830223295, 0.3949645083469368, 0.41632806872859063, 0.45464793066315434, 0.4559385203835726, 2.2315640592213533, 4.336150072501912, 1.5171046011739875, 0.469106330853733, 0.6756660218209057, 0.24723755518658225, 0.25661387204508007, 0.31951066334033407, 1.302262184711616, 1.2512817358890322, 1.2514625509043267, 1.2517450635276597, 1.4398810675565417, 0.2966178897596131, 0.35144210552261157, 0.2460425271221524, 0.24604216455584932, 0.24604215477352262, 0.24603370174396016, 0.24603370363987298, 0.24603370826678006, 0.24604119381126183, 0.24603473865480963, 0.28720561081784235, 0.28720458839199564, 0.34028314075899224, 0.19545597580587307, 0.19545597580587307, 0.19545597580587307, 0.19545597580587307, 0.19545597580587307, 0.19545597091470973, 0.19545586031386566, 0.19545586031386566, 0.19545586031386566, 0.1954558554227023, 0.1954558554227023, 0.1954558554227023, 3.316516023676897, 0.531474498236349, 0.4040882911222471, 0.40474453980688807, 0.6756660218209057, 0.44827300391495906, 0.4263599811920658, 0.6658210223376797, 0.6250643264758322, 4.336150072501912, 0.9401128220762937, 3.2544040476357434, 0.22730975563585668, 0.22730975563585668, 0.22730966755516646, 0.22732949575143113, 0.22734224451246876, 0.3938675499251286, 0.28845045902727295, 0.45464793066315434, 0.3215569913913261, 0.18609667929580292, 0.18609667929580292, 0.18609667929580292, 0.18609667929580292, 0.18609667929580292, 0.18609667929580292, 0.18609667929580292, 0.18609667929580292, 0.18609667929580292, 0.18609667929580292, 0.18609654256853905, 0.18609654256853905, 0.18609654256853905, 0.18609654256853905, 0.18609654256853905, 0.18609654256853905, 0.18609638917507512, 0.18609638917507512, 0.1860962931280175, 0.1860963127211928, 0.18609600578200905, 0.18609633674024095, 0.44898845370337953, 0.44827300391495906, 0.5409033907422066, 4.336150072501912, 0.6658210223376797, 0.23641080542909368, 0.3564608763916313, 0.34147934864299107, 0.37686548615614884, 0.383003205274576, 0.31572879393875575, 0.24089799960427716, 0.23661670297416137, 0.24722747806997208, 0.24722689626661798, 0.24989046189656797, 0.31144485568370783, 0.24089707168022112], \"Category\": [\"Default\", \"Default\", \"Default\", \"Default\", \"Default\", \"Default\", \"Default\", \"Default\", \"Default\", \"Default\", \"Default\", \"Default\", \"Default\", \"Default\", \"Default\", \"Default\", \"Default\", \"Default\", \"Default\", \"Default\", \"Default\", \"Default\", \"Default\", \"Default\", \"Default\", \"Default\", \"Default\", \"Default\", \"Default\", \"Default\", \"Topic1\", \"Topic1\", \"Topic1\", \"Topic1\", \"Topic1\", \"Topic1\", \"Topic1\", \"Topic1\", \"Topic1\", \"Topic1\", \"Topic1\", \"Topic1\", \"Topic1\", \"Topic1\", \"Topic1\", \"Topic1\", \"Topic1\", \"Topic1\", \"Topic1\", \"Topic1\", \"Topic1\", \"Topic1\", \"Topic1\", \"Topic1\", \"Topic1\", \"Topic1\", \"Topic1\", \"Topic1\", \"Topic1\", \"Topic1\", \"Topic1\", \"Topic1\", \"Topic1\", \"Topic1\", \"Topic1\", \"Topic2\", \"Topic2\", \"Topic2\", \"Topic2\", \"Topic2\", \"Topic2\", \"Topic2\", \"Topic2\", \"Topic2\", \"Topic2\", \"Topic2\", \"Topic2\", \"Topic2\", \"Topic2\", \"Topic2\", \"Topic2\", \"Topic2\", \"Topic2\", \"Topic2\", \"Topic2\", \"Topic2\", \"Topic2\", \"Topic2\", \"Topic2\", \"Topic2\", \"Topic2\", \"Topic2\", \"Topic2\", \"Topic2\", \"Topic2\", \"Topic2\", \"Topic2\", \"Topic2\", \"Topic2\", \"Topic2\", \"Topic2\", \"Topic2\", \"Topic2\", \"Topic2\", \"Topic2\", \"Topic2\", \"Topic2\", \"Topic3\", \"Topic3\", \"Topic3\", \"Topic3\", \"Topic3\", \"Topic3\", \"Topic3\", \"Topic3\", \"Topic3\", \"Topic3\", \"Topic3\", \"Topic3\", \"Topic3\", \"Topic3\", \"Topic3\", \"Topic3\", \"Topic3\", \"Topic3\", \"Topic3\", \"Topic3\", \"Topic3\", \"Topic3\", \"Topic3\", \"Topic3\", \"Topic3\", \"Topic3\", \"Topic3\", \"Topic3\", \"Topic3\", \"Topic3\", \"Topic3\", \"Topic3\", \"Topic3\", \"Topic3\", \"Topic3\", \"Topic3\", \"Topic3\", \"Topic3\", \"Topic3\", \"Topic3\", \"Topic3\", \"Topic4\", \"Topic4\", \"Topic4\", \"Topic4\", \"Topic4\", \"Topic4\", \"Topic4\", \"Topic4\", \"Topic4\", \"Topic4\", \"Topic4\", \"Topic4\", \"Topic4\", \"Topic4\", \"Topic4\", \"Topic4\", \"Topic4\", \"Topic4\", \"Topic4\", \"Topic4\", \"Topic4\", \"Topic4\", \"Topic4\", \"Topic4\", \"Topic4\", \"Topic4\", \"Topic4\", \"Topic4\", \"Topic4\", \"Topic4\", \"Topic4\", \"Topic4\", \"Topic4\", \"Topic4\", \"Topic4\", \"Topic5\", \"Topic5\", \"Topic5\", \"Topic5\", \"Topic5\", \"Topic5\", \"Topic5\", \"Topic5\", \"Topic5\", \"Topic5\", \"Topic5\", \"Topic5\", \"Topic5\", \"Topic5\", \"Topic5\", \"Topic5\", \"Topic5\", \"Topic5\", \"Topic5\", \"Topic5\", \"Topic5\", \"Topic5\", \"Topic5\", \"Topic5\", \"Topic5\", \"Topic5\", \"Topic5\", \"Topic5\", \"Topic5\", \"Topic5\", \"Topic5\", \"Topic5\", \"Topic5\", \"Topic5\", \"Topic5\", \"Topic5\", \"Topic5\", \"Topic5\", \"Topic5\", \"Topic5\", \"Topic5\", \"Topic5\", \"Topic5\", \"Topic6\", \"Topic6\", \"Topic6\", \"Topic6\", \"Topic6\", \"Topic6\", \"Topic6\", \"Topic6\", \"Topic6\", \"Topic6\", \"Topic6\", \"Topic6\", \"Topic6\", \"Topic6\", \"Topic6\", \"Topic6\", \"Topic6\", \"Topic6\", \"Topic6\", \"Topic6\", \"Topic6\", \"Topic6\", \"Topic6\", \"Topic6\", \"Topic6\", \"Topic6\", \"Topic6\", \"Topic6\", \"Topic6\", \"Topic6\", \"Topic6\", \"Topic6\", \"Topic6\", \"Topic6\", \"Topic6\", \"Topic6\", \"Topic6\", \"Topic6\", \"Topic6\", \"Topic6\", \"Topic6\", \"Topic6\", \"Topic7\", \"Topic7\", \"Topic7\", \"Topic7\", \"Topic7\", \"Topic7\", \"Topic7\", \"Topic7\", \"Topic7\", \"Topic7\", \"Topic7\", \"Topic7\", \"Topic7\", \"Topic7\", \"Topic7\", \"Topic7\", \"Topic7\", \"Topic7\", \"Topic7\", \"Topic7\", \"Topic7\", \"Topic7\", \"Topic7\", \"Topic7\", \"Topic7\", \"Topic7\", \"Topic7\", \"Topic7\", \"Topic7\", \"Topic7\", \"Topic7\", \"Topic7\", \"Topic7\", \"Topic7\", \"Topic7\", \"Topic7\", \"Topic7\", \"Topic7\", \"Topic7\", \"Topic7\", \"Topic7\", \"Topic7\", \"Topic7\", \"Topic7\", \"Topic7\", \"Topic7\", \"Topic7\", \"Topic7\", \"Topic7\"], \"logprob\": [30.0, 29.0, 28.0, 27.0, 26.0, 25.0, 24.0, 23.0, 22.0, 21.0, 20.0, 19.0, 18.0, 17.0, 16.0, 15.0, 14.0, 13.0, 12.0, 11.0, 10.0, 9.0, 8.0, 7.0, 6.0, 5.0, 4.0, 3.0, 2.0, 1.0, -4.5931, -4.6167, -4.6178, -5.0529, -5.0912, -5.0925, -5.2118, -5.2559, -5.2559, -5.2559, -5.2581, -5.302, -5.302, -5.302, -5.302, -5.3021, -5.3021, -5.3021, -5.3021, -5.3028, -5.3028, -5.3028, -5.3028, -5.3028, -4.8844, -5.2612, -5.0903, -5.2775, -5.0741, -5.0654, -4.8207, -4.2003, -5.1998, -5.1998, -5.2557, -4.4864, -4.4864, -4.4864, -4.9599, -5.0393, -5.0397, -5.1255, -5.1255, -5.126, -5.126, -5.1277, -5.1717, -5.1717, -5.1717, -5.1717, -4.9717, -7.0236, -7.381, -7.381, -7.381, -7.381, -7.381, -7.381, -7.381, -7.381, -7.381, -7.381, -7.381, -7.381, -7.381, -6.236, -5.1044, -5.1261, -6.385, -6.7608, -7.0236, -6.8653, -6.8022, -7.3809, -7.3809, -7.3809, -7.381, -4.4207, -4.4676, -5.0203, -5.0638, -5.108, -5.1088, -5.1529, -5.1529, -5.1529, -5.1529, -5.1529, -5.1529, -5.1267, -5.1196, -5.0283, -4.9518, -7.362, -7.362, -7.362, -7.362, -7.3621, -7.3621, -7.2719, -7.0194, -7.3772, -7.362, -7.3628, -7.9236, -7.9236, -7.9236, -7.3619, -7.362, -7.38, -4.4242, -7.0045, -7.0936, -6.9086, -7.222, -7.3307, -7.3619, -7.362, -4.5139, -4.9503, -4.9875, -5.067, -5.1091, -5.1531, -5.1531, -5.1992, -5.1992, -5.1992, -5.1992, -5.1992, -5.1992, -5.1993, -5.1993, -5.1993, -5.1993, -5.1577, -5.0727, -5.2053, -4.006, -6.7885, -7.0512, -4.4119, -7.4086, -7.4086, -7.4086, -7.4088, -7.4089, -7.4091, -5.313, -5.313, -4.3338, -6.8279, -7.4086, -4.9615, -5.0037, -5.0103, -6.8998, -6.8999, -6.637, -7.2572, -7.2572, -7.2572, -7.2572, -7.2572, -7.2572, -7.2572, -7.2572, -7.2573, -7.2575, -7.2572, -7.8188, -7.8188, -7.8188, -7.8188, -7.8188, -7.8188, -7.8188, -7.8188, -7.8188, -7.8188, -7.8188, -7.8188, -7.8188, -6.8996, -7.2572, -7.2571, -7.2572, -7.2572, -6.4346, -6.2485, -7.7199, -7.7938, -7.7938, -7.8187, -7.8187, -7.8187, -4.9654, -5.0092, -5.0095, -5.0095, -5.0092, -6.9063, -6.9062, -7.2637, -7.2637, -7.2637, -7.2638, -7.2638, -7.2638, -7.2637, -7.2646, -7.2636, -7.2636, -7.2637, -7.8252, -7.8252, -7.8252, -7.8252, -7.8252, -7.8253, -7.8253, -7.8253, -7.8253, -7.8253, -7.8253, -7.8253, -5.0098, -6.9117, -7.2636, -7.2851, -6.9121, -7.2294, -7.2723, -7.2245, -7.2636, -6.6439, -7.3566, -7.2643, -7.214, -7.214, -7.214, -7.2143, -7.2144, -6.8566, -7.2141, -6.8565, -7.214, -7.7756, -7.7756, -7.7756, -7.7756, -7.7756, -7.7756, -7.7756, -7.7756, -7.7756, -7.7756, -7.7756, -7.7756, -7.7756, -7.7756, -7.7756, -7.7756, -7.7756, -7.7756, -7.7756, -7.7756, -7.7756, -7.7756, -7.2138, -7.2685, -7.2139, -6.8572, -7.4641, -7.7601, -7.7755, -7.7755, -7.7755, -7.7755, -7.7755, -7.7755, -7.7755, -7.7755, -7.7755, -7.7755, -7.7756, -7.7756], \"loglift\": [30.0, 29.0, 28.0, 27.0, 26.0, 25.0, 24.0, 23.0, 22.0, 21.0, 20.0, 19.0, 18.0, 17.0, 16.0, 15.0, 14.0, 13.0, 12.0, 11.0, 10.0, 9.0, 8.0, 7.0, 6.0, 5.0, 4.0, 3.0, 2.0, 1.0, 1.371, 1.3703, 1.3694, 1.3552, 1.353, 1.3519, 1.3479, 1.3457, 1.3457, 1.3457, 1.3446, 1.3433, 1.3433, 1.3433, 1.3433, 1.3432, 1.3432, 1.3432, 1.3432, 1.3426, 1.3426, 1.3426, 1.3426, 1.3426, 1.3301, 1.3081, 1.2974, 1.2948, 1.2574, 1.2263, 1.1068, 0.7373, 0.9854, 0.9854, 0.9399, 1.7223, 1.7223, 1.7223, 1.7004, 1.6956, 1.6952, 1.6901, 1.6901, 1.6895, 1.6895, 1.6879, 1.6868, 1.6868, 1.6868, 1.6868, 1.5641, 1.3661, 1.2352, 1.2352, 1.2352, 1.2352, 1.2352, 1.2352, 1.2352, 1.2352, 1.2352, 1.2352, 1.2352, 1.2352, 1.2352, 1.2203, 0.8178, 0.5449, 0.8727, 0.3404, 0.517, -0.5338, -0.8747, 0.8119, 0.5574, 1.0771, 1.077, 1.8954, 1.8931, 1.8613, 1.8567, 1.853, 1.8521, 1.8506, 1.8506, 1.8506, 1.8506, 1.8506, 1.8506, 1.8375, 1.8366, 1.6733, 1.6446, 1.3322, 1.3322, 1.3322, 1.3322, 1.3321, 1.332, 1.2331, 1.2139, 1.1348, 1.1299, 1.0888, 1.0376, 1.0376, 1.0376, 1.0353, 1.0352, 1.0138, 0.5134, 0.9339, 0.9246, -0.6169, 0.3186, 0.4706, 0.6599, 0.6201, 1.9902, 1.962, 1.9592, 1.9524, 1.9488, 1.9447, 1.9447, 1.9403, 1.9403, 1.9403, 1.9403, 1.9403, 1.9403, 1.9402, 1.9402, 1.9402, 1.9402, 1.9401, 1.905, 1.8963, 1.665, 1.6157, 1.5161, 1.5103, 1.3539, 1.3539, 1.3539, 1.3537, 1.3536, 1.3533, 0.8722, 0.8722, 0.6038, -0.2315, 0.6097, 1.9986, 1.9958, 1.9908, 1.608, 1.6079, 1.4833, 1.4568, 1.4568, 1.4568, 1.4568, 1.4568, 1.4568, 1.4568, 1.4567, 1.4567, 1.3132, 1.2427, 1.1553, 1.1553, 1.1553, 1.1553, 1.1553, 1.1553, 1.1553, 1.1553, 1.1553, 1.1553, 1.1553, 1.1553, 1.1553, 1.1117, 1.0662, 1.0137, 0.9255, 0.9227, 0.1572, -0.321, -0.7422, 0.3576, -0.0072, 0.9732, 0.9359, 0.7167, 2.165, 2.1611, 2.1607, 2.1604, 2.0208, 1.7035, 1.534, 1.5331, 1.5331, 1.5331, 1.533, 1.533, 1.533, 1.533, 1.5322, 1.3784, 1.3784, 1.2088, 1.2017, 1.2017, 1.2017, 1.2017, 1.2017, 1.2017, 1.2017, 1.2017, 1.2017, 1.2017, 1.2017, 1.2017, 1.1858, 1.1149, 1.037, 1.0139, 0.8745, 0.9675, 0.9747, 0.5767, 0.6008, -0.7164, 0.0997, -1.0498, 1.6619, 1.6619, 1.6619, 1.6615, 1.6614, 1.4697, 1.4236, 1.3262, 1.3151, 1.3004, 1.3004, 1.3004, 1.3004, 1.3004, 1.3004, 1.3004, 1.3004, 1.3004, 1.3004, 1.3004, 1.3004, 1.3004, 1.3004, 1.3004, 1.3004, 1.3004, 1.3004, 1.3004, 1.3004, 1.3004, 1.3004, 0.9814, 0.9284, 0.7951, -0.9297, 0.3371, 1.0765, 0.6505, 0.6934, 0.5948, 0.5787, 0.7718, 1.0423, 1.0603, 1.0164, 1.0164, 1.0057, 0.7855, 1.0423]}, \"token.table\": {\"Topic\": [1, 4, 4, 4, 4, 2, 2, 3, 1, 4, 2, 1, 2, 4, 4, 3, 1, 1, 1, 3, 1, 1, 1, 3, 4, 4, 4, 4, 4, 4, 4, 3, 3, 1, 2, 1, 5, 2, 2, 6, 3, 1, 1, 1, 6, 2, 1, 2, 4, 1, 1, 2, 1, 3, 1, 1, 1, 1, 1, 3, 6, 3, 1, 6, 3, 4, 4, 5, 2, 1, 3, 2, 1, 3, 6, 5, 2, 1, 3, 1, 1, 1, 3, 1, 4, 3, 1, 4, 2, 1, 2, 4, 1, 1, 4, 6, 3, 1, 2, 2, 4, 4, 1, 4, 2, 4, 2], \"Freq\": [0.9456399398171665, 0.7749368204602434, 0.7433075425297199, 0.6591503309832201, 0.7432745824177784, 1.1701908675623345, 0.9164932391903329, 0.6482387064876087, 0.9792425368886027, 0.7749204393710768, 1.1701908675623345, 0.9790129137096145, 1.1210149933818705, 0.7749204393710768, 0.7749368204602434, 1.0668936258331214, 0.7457551629033952, 0.8962323943762781, 0.9050803341858823, 1.1975404254535382, 0.9454765481431022, 0.8789689050686866, 0.5142020598234683, 0.25710102991173417, 0.25710102991173417, 0.7141847465280878, 0.7433149799105484, 0.7749204393710768, 0.7749204393710768, 0.7749368204602434, 0.7749204393710768, 0.676407158343747, 0.676407158343747, 0.7733251050382285, 1.1210116888696966, 0.9456399398171665, 0.6737092673120729, 1.1701908675623345, 1.1209739648649606, 0.7988847163349753, 0.676407158343747, 0.9454765481431022, 0.9454765481431022, 0.956865345989049, 0.767894523652661, 1.0341215357064277, 0.773377241484974, 0.45879434369663175, 0.6881915155449476, 0.9455112138398124, 0.7307174128610195, 1.1209730162362082, 0.9456399398171665, 0.9004046067455633, 0.9454765481431022, 0.9218277620381641, 0.9456399398171665, 1.036212941805049, 0.9060234751170878, 0.676407158343747, 0.79906506133754, 0.6481383405304308, 0.6030424655638102, 0.3015212327819051, 0.6225037936646663, 0.6174178277231406, 0.8210274174196603, 0.6476767632700412, 1.034165540514956, 1.1187723753678929, 0.676407158343747, 0.9164932391903329, 0.6918579730495887, 0.6503405676609365, 0.6945018047198761, 0.6747990570219499, 1.1701908675623345, 0.9455112138398124, 0.676407158343747, 0.9455112138398124, 0.9958282638567268, 0.9455112138398124, 1.0002998703130974, 0.8680014433783777, 0.6390521643875389, 0.6451099738689804, 0.5968414389555784, 0.2984207194777892, 1.1210394931032583, 0.8762939575251707, 0.9597890688664359, 0.7460527155291921, 0.9050811731523938, 0.5968414389555784, 0.2984207194777892, 0.7991805293070171, 1.020455375125297, 0.9050811731523938, 0.8474827196038551, 0.9164932391903329, 0.7749368204602434, 0.6872396488708923, 0.9456399398171665, 0.7749204393710768, 0.3568591131236897, 0.7137182262473794, 1.063702117998393], \"Term\": [\"answer\", \"apiec\", \"beat\", \"best\", \"better\", \"biggest\", \"brett_phillip\", \"broke\", \"bubbl\", \"captur\", \"career\", \"celebr\", \"championship\", \"chao\", \"comeback\", \"corey_seager\", \"coronavirus\", \"covid\", \"covid_outbreak\", \"cut\", \"defi\", \"difficult\", \"dodger\", \"dodger\", \"dodger\", \"dodger_win\", \"dodger_world\", \"earli\", \"enter\", \"even\", \"exit\", \"feed\", \"feedback\", \"field\", \"figur\", \"flagrant\", \"good\", \"heroic\", \"hotel_room\", \"inning\", \"instant\", \"isol\", \"justin_turner\", \"learn\", \"leav\", \"left\", \"look\", \"los_angel\", \"los_angel\", \"mayb\", \"mlbs\", \"moment\", \"morn\", \"new\", \"order\", \"pandem\", \"pierc\", \"playoff\", \"posit_coronavirus\", \"prefer\", \"prevent\", \"protest\", \"protocol\", \"protocol\", \"question\", \"ray\", \"ray_stun\", \"receiv\", \"remain\", \"return\", \"review\", \"saw\", \"season\", \"seri\", \"set\", \"seven\", \"seventh\", \"shook\", \"shortstop\", \"silent\", \"sport\", \"stadium\", \"star\", \"start\", \"tampa_bay\", \"test_posit_covid\", \"test_result\", \"test_result\", \"that\", \"thing\", \"time\", \"titl\", \"tri\", \"turner\", \"turner\", \"victori\", \"video\", \"violat\", \"week\", \"wife\", \"wild\", \"win\", \"wit\", \"won\", \"world_seri\", \"world_seri\", \"year\"]}, \"R\": 30, \"lambda.step\": 0.01, \"plot.opts\": {\"xlab\": \"PC1\", \"ylab\": \"PC2\"}, \"topic.order\": [4, 1, 7, 6, 5, 3, 2]};\n",
       "\n",
       "function LDAvis_load_lib(url, callback){\n",
       "  var s = document.createElement('script');\n",
       "  s.src = url;\n",
       "  s.async = true;\n",
       "  s.onreadystatechange = s.onload = callback;\n",
       "  s.onerror = function(){console.warn(\"failed to load library \" + url);};\n",
       "  document.getElementsByTagName(\"head\")[0].appendChild(s);\n",
       "}\n",
       "\n",
       "if(typeof(LDAvis) !== \"undefined\"){\n",
       "   // already loaded: just create the visualization\n",
       "   !function(LDAvis){\n",
       "       new LDAvis(\"#\" + \"ldavis_el225123017031737968668006320\", ldavis_el225123017031737968668006320_data);\n",
       "   }(LDAvis);\n",
       "}else if(typeof define === \"function\" && define.amd){\n",
       "   // require.js is available: use it to load d3/LDAvis\n",
       "   require.config({paths: {d3: \"https://d3js.org/d3.v5\"}});\n",
       "   require([\"d3\"], function(d3){\n",
       "      window.d3 = d3;\n",
       "      LDAvis_load_lib(\"https://cdn.jsdelivr.net/gh/bmabey/pyLDAvis@3.3.1/pyLDAvis/js/ldavis.v3.0.0.js\", function(){\n",
       "        new LDAvis(\"#\" + \"ldavis_el225123017031737968668006320\", ldavis_el225123017031737968668006320_data);\n",
       "      });\n",
       "    });\n",
       "}else{\n",
       "    // require.js not available: dynamically load d3 & LDAvis\n",
       "    LDAvis_load_lib(\"https://d3js.org/d3.v5.js\", function(){\n",
       "         LDAvis_load_lib(\"https://cdn.jsdelivr.net/gh/bmabey/pyLDAvis@3.3.1/pyLDAvis/js/ldavis.v3.0.0.js\", function(){\n",
       "                 new LDAvis(\"#\" + \"ldavis_el225123017031737968668006320\", ldavis_el225123017031737968668006320_data);\n",
       "            })\n",
       "         });\n",
       "}\n",
       "</script>"
      ],
      "text/plain": [
       "PreparedData(topic_coordinates=              x         y  topics  cluster       Freq\n",
       "topic                                                \n",
       "3     -0.084842  0.007002       1        1  24.692763\n",
       "0      0.027788 -0.038007       2        1  17.206602\n",
       "6      0.011082 -0.008149       3        1  14.392502\n",
       "5      0.030924  0.059518       4        1  12.952968\n",
       "4      0.005747 -0.007266       5        1  12.418027\n",
       "2      0.003933 -0.008394       6        1  10.329385\n",
       "1      0.005369 -0.004704       7        1   8.007753, topic_info=               Term       Freq      Total Category  logprob  loglift\n",
       "1175     world_seri   5.000000   5.000000  Default  30.0000  30.0000\n",
       "2            dodger  11.000000  11.000000  Default  29.0000  29.0000\n",
       "569       los_angel   4.000000   4.000000  Default  28.0000  28.0000\n",
       "2276          video   2.000000   2.000000  Default  27.0000  27.0000\n",
       "6915  brett_phillip   3.000000   3.000000  Default  26.0000  26.0000\n",
       "...             ...        ...        ...      ...      ...      ...\n",
       "13               wa   0.054704   0.247227   Topic7  -7.7755   1.0164\n",
       "1089        multipl   0.054704   0.247227   Topic7  -7.7755   1.0164\n",
       "747           treat   0.054704   0.249890   Topic7  -7.7755   1.0057\n",
       "286           money   0.054704   0.311445   Topic7  -7.7756   0.7855\n",
       "6707    hang_balanc   0.054704   0.240897   Topic7  -7.7756   1.0423\n",
       "\n",
       "[317 rows x 6 columns], token_table=      Topic      Freq        Term\n",
       "term                             \n",
       "162       1  0.945640      answer\n",
       "2063      4  0.774937       apiec\n",
       "2011      4  0.743308        beat\n",
       "1237      4  0.659150        best\n",
       "494       4  0.743275      better\n",
       "...     ...       ...         ...\n",
       "1526      1  0.945640         wit\n",
       "523       4  0.774920         won\n",
       "1175      2  0.356859  world_seri\n",
       "1175      4  0.713718  world_seri\n",
       "354       2  1.063702        year\n",
       "\n",
       "[107 rows x 3 columns], R=30, lambda_step=0.01, plot_opts={'xlab': 'PC1', 'ylab': 'PC2'}, topic_order=[4, 1, 7, 6, 5, 3, 2])"
      ]
     },
     "execution_count": 16,
     "metadata": {},
     "output_type": "execute_result"
    }
   ],
   "source": [
    "###################################\n",
    "# 6-3. Topic Model Year 2020\n",
    "###################################\n",
    "lda_model_2020, corpus_2020 = evaluate_model(YEARS[2]) # 2020\n",
    "pyLDAvis.gensim_models.prepare(lda_model_2020, corpus_2020, dictionary=DICTIONARY)"
   ]
  },
  {
   "cell_type": "code",
   "execution_count": 17,
   "id": "sudden-cyprus",
   "metadata": {
    "scrolled": false
   },
   "outputs": [
    {
     "data": {
      "image/png": "[encoded data removed]",
      "text/plain": [
       "<Figure size 432x288 with 1 Axes>"
      ]
     },
     "metadata": {
      "needs_background": "light"
     },
     "output_type": "display_data"
    },
    {
     "name": "stdout",
     "output_type": "stream",
     "text": [
      "Optimal Number of Topics: 10\n",
      "Best Coherence Score: 0.49633703364740034\n",
      "MVPs in any of the 10 Topics:\n",
      "             name                  team    league  year\n",
      "20  Shohei Ohtani    Los Angeles Angels  American  2021\n",
      "21   Bryce Harper  Washington Nationals  National  2021\n",
      "\n",
      "\n"
     ]
    },
    {
     "data": {
      "text/markdown": [
       "**['shohei', 'ohtani']**: 0.015*\"seri\" + 0.013*\"new\" + 0.010*\"octob\" + 0.010*\"singl\" + 0.009*\"angel\"  ... **<font color=red>shohei_ohtani\"</font>** (**10** th) ..."
      ],
      "text/plain": [
       "<IPython.core.display.Markdown object>"
      ]
     },
     "metadata": {},
     "output_type": "display_data"
    },
    {
     "data": {
      "text/markdown": [
       "**['bryce', 'harper']**: 0.025*\"manag\" + 0.011*\"end\" + 0.010*\"histori\" + 0.010*\"moment\" + 0.009*\"walk\"  ... **<font color=red>bryce_harper\"</font>** (**122** th) ..."
      ],
      "text/plain": [
       "<IPython.core.display.Markdown object>"
      ]
     },
     "metadata": {},
     "output_type": "display_data"
    },
    {
     "data": {
      "text/html": [
       "\n",
       "<link rel=\"stylesheet\" type=\"text/css\" href=\"https://cdn.jsdelivr.net/gh/bmabey/pyLDAvis@3.3.1/pyLDAvis/js/ldavis.v1.0.0.css\">\n",
       "\n",
       "\n",
       "<div id=\"ldavis_el2251230170322116965740408458\"></div>\n",
       "<script type=\"text/javascript\">\n",
       "\n",
       "var ldavis_el2251230170322116965740408458_data = {\"mdsDat\": {\"x\": [0.326542155480023, -0.035311157275860795, 0.007347112290380364, -0.04154387031580163, -0.05747137353108287, -0.05101969700539735, -0.017934748916298277, -0.055775688978485165, -0.0455833161719357, -0.02924941557554171], \"y\": [-0.019448155376814335, -0.18914118915899703, 0.19260784231440553, 0.03671183099858095, 0.030778308579428437, -0.046502388166523134, -0.027697355301048127, 0.02454815896964598, 0.0002234634430857489, -0.0020805163017641798], \"topics\": [1, 2, 3, 4, 5, 6, 7, 8, 9, 10], \"cluster\": [1, 1, 1, 1, 1, 1, 1, 1, 1, 1], \"Freq\": [21.271277695556975, 15.265449875398767, 12.615460244988414, 10.813166661985973, 10.234034591331149, 8.478140231910107, 7.460514016045372, 5.700529346196193, 5.287680338167779, 2.873746998419271]}, \"tinfo\": {\"Term\": [\"dodger\", \"los_angel\", \"houston_astro\", \"playoff\", \"manag\", \"homer\", \"wa\", \"time\", \"world_seri\", \"chris_taylor\", \"year\", \"taylor\", \"astro\", \"ha\", \"brave\", \"red_sox\", \"san_francisco\", \"houston\", \"seri\", \"giant\", \"new\", \"run\", \"face\", \"home_run\", \"atlanta_brave\", \"atlanta\", \"number\", \"friday_night\", \"hr\", \"padr\", \"playoff\", \"year\", \"brave\", \"red_sox\", \"atlanta_brave\", \"boston\", \"come\", \"play\", \"scherzer\", \"boston_red_sox\", \"list\", \"head\", \"want\", \"com_keep\", \"friday\", \"final\", \"advanc\", \"carlo_correa\", \"sport\", \"posit\", \"hope\", \"thursday_night\", \"fourth\", \"trade\", \"late\", \"perform\", \"set\", \"damn_good\", \"free_agent_offseason_read\", \"matchup\", \"ha\", \"postseason\", \"start\", \"season\", \"wa\", \"thursday\", \"met\", \"like\", \"yanke\", \"atlanta\", \"nation_championship_seri\", \"day\", \"homer\", \"san_francisco\", \"giant\", \"padr\", \"need\", \"power\", \"past\", \"loss\", \"send\", \"new_york\", \"offens\", \"home\", \"tie\", \"new_york_yanke\", \"stay\", \"chicago_white_sox\", \"plate\", \"homer_postseason\", \"hold\", \"base_coach\", \"tampa_bay\", \"base\", \"despit\", \"word\", \"san_diego\", \"aaron_boon\", \"sweep\", \"rival\", \"man\", \"gerrit_cole\", \"grand_slam\", \"sunday\", \"big\", \"yanke\", \"fan\", \"astro\", \"bat\", \"wa\", \"met\", \"time\", \"face\", \"home_run\", \"saturday_night\", \"have\", \"greatest\", \"yordan_alvarez\", \"thing\", \"dugout\", \"place\", \"stop\", \"won\", \"batter\", \"slugger\", \"score\", \"presid_oper\", \"mvp\", \"reach_world\", \"freeman\", \"know\", \"provid\", \"ad\", \"atlanta_brave_world_seri\", \"charg\", \"freddi_freeman\", \"countri\", \"matter\", \"decis\", \"fifth\", \"outlast\", \"run\", \"return\", \"lead\", \"win\", \"pitch\", \"atlanta\", \"career\", \"season\", \"nation\", \"ha\", \"way\", \"hit\", \"manag\", \"end\", \"histori\", \"moment\", \"walk\", \"outfield\", \"tri\", \"injuri\", \"learn\", \"turn\", \"ball\", \"long\", \"max_scherzer\", \"lineup\", \"isnt\", \"great\", \"blow\", \"willi\", \"victori\", \"take\", \"catcher\", \"path\", \"catch\", \"let\", \"came\", \"hand\", \"sure\", \"fashion\", \"fail\", \"dusti_baker\", \"open\", \"best\", \"pitcher\", \"right\", \"win\", \"pitch\", \"bat\", \"seri\", \"new\", \"octob\", \"singl\", \"cheat\", \"key\", \"citi\", \"tampa_bay_ray\", \"shohei_ohtani\", \"line\", \"stand\", \"domin\", \"includ\", \"follow\", \"houston_astro_world_seri\", \"umpir\", \"babe_ruth\", \"chicago\", \"defens\", \"deliv\", \"think\", \"kansa_citi\", \"doubl\", \"stun\", \"atlanta_max\", \"investig\", \"rule\", \"yank\", \"critic\", \"relentless_jeer\", \"royal\", \"arm\", \"indian\", \"angel\", \"allow\", \"pitch\", \"afternoon\", \"lead\", \"taylor\", \"houston\", \"number\", \"chang\", \"th\", \"eddi_rosario\", \"seven\", \"earli\", \"blast\", \"high\", \"ml_b\", \"feel\", \"feat\", \"nlcs_mvp\", \"fix\", \"sign_steal\", \"add\", \"s\", \"gm\", \"reggi_jackson\", \"baker\", \"houston_astro_manag_dusti\", \"biggest_stage\", \"extend\", \"foot\", \"seri_time\", \"close\", \"th_graf\", \"claim\", \"improv\", \"shut\", \"astro\", \"help\", \"big\", \"ray\", \"fan\", \"world_seri\", \"got\", \"infield\", \"leav\", \"bobbi\", \"step\", \"franchis\", \"legaci\", \"potenti\", \"mayor\", \"dream\", \"lost\", \"monday\", \"wiemer\", \"scottsdal_ariz\", \"lose\", \"bit\", \"wild\", \"latest\", \"die\", \"year_old\", \"championship\", \"dy\", \"went\", \"didnt\", \"perfect\", \"talent\", \"elimin\", \"flood\", \"busi\", \"star\", \"wa\", \"shortstop\", \"dodger\", \"chris_taylor\", \"club\", \"dodger_stadium\", \"walker_buehler\", \"defeat\", \"mooki_bett\", \"wa_happen\", \"belling\", \"short_rest\", \"justin_turner\", \"wild_card\", \"season_line\", \"trevor_bauer\", \"angel_codi_belling\", \"dodger_nlcs_atlanta\", \"action\", \"start_buehler\", \"cross\", \"trail\", \"surg\", \"eighth_inning_los_angel\", \"employ\", \"pretti\", \"pen\", \"sweat\", \"convinc\", \"random\", \"drift\", \"stock\", \"los_angel\", \"nightmar\", \"scenario\", \"detect\", \"la\", \"milwauke_brewer\", \"saturday\", \"night\", \"marlin\", \"houston_astro\", \"hr\", \"second\", \"swing\", \"chanc\", \"ahead\", \"v\", \"ve\", \"continu\", \"middl\", \"beat\", \"thank\", \"time_year\", \"receiv\", \"unusu\", \"afl\", \"race\", \"jose_altuv\", \"lui_garcia\", \"sox_american_championship_seri\", \"alc_boston_red_sox\", \"monday_night\", \"gone\", \"run_singl\", \"public\", \"prompt\", \"cap\", \"slam\", \"select\", \"individu\", \"friday_night\", \"alc\", \"root\", \"half\", \"field\", \"roster\", \"teammat\", \"chicago_cub\", \"left\", \"tiger\", \"spot\", \"begin\", \"celebr\", \"carter_hawkin\", \"joc_pederson\", \"schedul\", \"olymp\", \"challeng\", \"wilmer_flore\", \"juli\", \"qualifi\", \"rivalri\", \"detroit_tiger\", \"tokyo\", \"halt\", \"corey_kluber\", \"soon\", \"rise\", \"ha_unexpect\", \"showdown\", \"giant_san_francisco\", \"nl_west\", \"logan_webb\", \"kris_bryant\", \"cub\"], \"Freq\": [46.0, 50.0, 35.0, 69.0, 39.0, 42.0, 75.0, 36.0, 27.0, 22.0, 41.0, 24.0, 33.0, 61.0, 37.0, 37.0, 28.0, 20.0, 21.0, 26.0, 19.0, 24.0, 21.0, 21.0, 28.0, 35.0, 16.0, 18.0, 12.0, 21.0, 69.31709122880781, 41.044233006921125, 37.30741949700217, 37.14231973076373, 28.186379948053137, 22.309619033403013, 22.0904131364451, 21.723064108320585, 20.511677522022637, 19.17543845759578, 17.126728315664923, 16.529057782336885, 16.149374087647285, 15.664828776169715, 14.932885254941517, 13.85990487165704, 13.635509148203464, 12.751354259470205, 11.831576170007258, 11.40501382071823, 10.824023762668915, 10.382017653696414, 10.306217793960297, 10.228846436680245, 10.038144326859708, 10.011967062378389, 9.625718392555802, 9.46513606375153, 9.156654980477377, 8.839429307948624, 47.137049760530985, 22.34426543363685, 28.34428402126792, 23.005516285573968, 39.06640058253147, 13.388077036483349, 19.767084328429537, 13.026032254001516, 20.110998620146038, 18.404970998373653, 12.692352119323955, 12.116596384105252, 42.16260240075951, 28.311087535447818, 26.26398094881566, 20.65243945353281, 20.270921733815886, 19.031481825931234, 18.666107018466857, 17.14331054342833, 15.381410612800893, 13.900949239406339, 13.818840775584748, 13.675810153088893, 12.537974083650841, 11.856633499133846, 11.740092093992864, 11.516599333315844, 10.368564965883532, 10.175330535080539, 9.955337230136738, 9.64435503488728, 9.30224167332512, 9.266952115524102, 9.1078829967492, 8.95127525645641, 8.904187707397222, 8.223239443091337, 7.983775093458096, 7.814058586628151, 7.748086445701556, 7.522402470202012, 8.620587840887623, 11.425286043869216, 13.746779561407406, 18.58511874542893, 12.697555144820088, 15.209843003372784, 11.76639072685242, 18.365133550463653, 12.241582753513848, 35.5582127550272, 20.78151557957289, 20.559441999379366, 12.755170618872887, 12.277858779338114, 12.250801421052968, 12.00508940938365, 11.165296766801351, 11.168579137602391, 11.076478393247314, 10.956087097697663, 9.948364075567488, 9.937946443890374, 9.492036621899093, 9.087928018256132, 8.843661154527549, 8.749257388903443, 8.412852919075206, 8.150081459569854, 7.396322453292316, 7.359373580957173, 7.313210948012064, 7.243949405489036, 7.235492148409785, 6.853983145259135, 6.739586490921033, 6.621095250750851, 6.620174544903392, 6.389489139633479, 6.075585832684199, 22.2873982710959, 12.024918514664362, 15.433779554447908, 18.83479155593769, 15.359446170978094, 16.696424997789677, 8.164174374734506, 10.97487653422797, 8.020282041484297, 11.522130183026569, 8.430815479653337, 8.034467948777309, 38.877582117405694, 16.34729025108345, 15.022768177308107, 14.979177831374038, 13.946645873666604, 12.910053889998588, 12.529953886167071, 11.303405969101307, 11.023091838551453, 10.548984353533218, 10.232015814571982, 10.10578735268535, 9.54362096360411, 9.002334913200237, 8.567885566447135, 8.404039750480013, 7.9699709862807, 7.9665830834717095, 7.53362949796302, 7.469211233212768, 7.261551748341336, 7.145317527933197, 6.975313455397635, 6.723985353840508, 6.429798630164989, 6.265065985039516, 6.203286665355614, 6.1841656233891475, 6.032565230610179, 5.875768808851589, 12.881694027018883, 11.52251165379794, 11.557814635103234, 11.035415532491234, 8.684742362466848, 7.361064751112736, 6.835498914421115, 21.1988268437937, 18.759890225017433, 14.791211662052532, 14.497473893428486, 12.643927733710784, 12.316794732988654, 11.870978103064026, 11.069086798785927, 10.240022195533964, 9.623369835680093, 9.062841963129815, 8.534183572829026, 8.140501373476988, 7.824493773655296, 7.592004157416601, 7.050587915820578, 6.914232093605613, 6.600743849992712, 6.258364224725661, 6.177303072190621, 6.132102817878697, 5.920918650193928, 5.649112601164111, 5.09557361439023, 5.051874983370274, 4.973607754054641, 4.9006864259902505, 4.800846317133868, 4.7710255533336365, 4.562754922219434, 5.992996568208383, 8.868269779208598, 6.570165648238691, 13.596124767282793, 6.697214056566578, 7.241324317048938, 5.315806939862983, 5.478485175167428, 23.62525540201181, 19.808750381214658, 16.001320051644292, 13.366645208431185, 12.777015485073505, 11.649349694806867, 8.290122857794952, 8.192485193205147, 7.860404868217588, 7.583691532635814, 7.483346324299288, 6.803950462474258, 6.6689589410701755, 6.665851655992582, 6.639135422707213, 6.494984757682495, 6.447932950974841, 5.47076245257463, 5.461413009559861, 5.431639036601289, 5.181140850101393, 5.181140850101393, 5.080918942259884, 4.864312064426558, 4.603329394738596, 4.439096231965153, 4.102934041275013, 4.064659371859829, 3.923892714256541, 3.8952340759127013, 6.274675486902938, 17.93874804903705, 7.8735169468862, 7.618417793969546, 5.52839839629509, 5.284157569163263, 26.563429571652428, 9.849602342584554, 9.497095601125286, 7.892924026188737, 6.797187240719472, 6.484448275109534, 6.455255116887754, 6.413405512736749, 6.122661494164621, 5.946514642493736, 5.774578018549562, 5.759046053471617, 5.294768120511573, 5.286622632860967, 5.286251054749054, 5.080330887564323, 5.0646656498035725, 5.062358397447337, 4.874849677989131, 4.863894564374984, 4.6955057682433505, 4.599367115629475, 4.554094533911533, 4.492901564129326, 4.461107854561641, 4.363030059641066, 4.340327132440691, 4.224243653091798, 4.191032992324019, 4.11036437510277, 8.720390332731828, 17.534695794655846, 4.529264198161089, 45.70994462908438, 22.359432078665282, 8.390606450769887, 7.747535888597623, 7.373344734907344, 6.35209072002267, 5.175271432252017, 4.782528542749245, 4.72022997711535, 4.19529338281197, 4.162857183578777, 3.826160175948422, 3.5996772719880132, 3.426527863924906, 3.182524801511695, 3.1806414630293225, 3.0423476343483222, 3.0058148426755316, 3.005610798566587, 2.7678886226720265, 2.7058518316231694, 2.5383539532491763, 2.4099134865156007, 2.4099134865156007, 2.4099134865156007, 2.4099134865156007, 2.410037086518514, 2.410037086518514, 2.410037086518514, 2.410037086518514, 39.71900062507851, 2.410037086518514, 2.410037086518514, 2.410037086518514, 6.022830533394568, 4.594937430210955, 5.451084933393624, 4.3780434636894405, 2.491044679852224, 34.93491606434619, 12.267144014426549, 9.72999278072745, 8.07421238621705, 8.033223342377774, 6.296992336764686, 5.725060511467272, 5.460028928648842, 5.440215275023595, 5.410664397157253, 5.313408383423674, 5.015679320992616, 4.96615396553051, 4.3285606626811575, 4.314060871819723, 4.109895894681173, 3.8376440881034406, 3.7926428724582224, 3.480472309076441, 3.3099255112245225, 3.235981950335025, 3.067560276215783, 2.878461309703859, 2.780816579517526, 2.745295023959749, 2.6686796080666273, 2.5594227200353274, 2.550884301548256, 2.5037451454128856, 2.5037451454128856, 10.499211724843532, 3.3927129859162646, 3.2477294742075773, 3.377367289061437, 7.365402583400543, 5.112747235434179, 4.287373709527191, 3.3950261490339937, 3.1661391644621175, 3.0511678096691544, 3.0385634224668787, 3.0223687686902485, 2.6921945873392352, 2.4828606529281645, 2.373311816311128, 2.215521003039758, 1.9729195169476867, 1.8867636153446212, 1.6068401889375106, 1.5427859057707636, 1.4458759983349514, 1.3141808868005251, 1.3133753525842728, 1.241293971525084, 1.1821507562382307, 1.1318651730558853, 1.0867027760385237, 1.0837480055409563, 0.8723484226208328, 0.8723305791123704, 0.872097277624721, 0.8424390764843448, 0.8382945161096811, 0.8337667496923179, 2.048920267579555], \"Total\": [46.0, 50.0, 35.0, 69.0, 39.0, 42.0, 75.0, 36.0, 27.0, 22.0, 41.0, 24.0, 33.0, 61.0, 37.0, 37.0, 28.0, 20.0, 21.0, 26.0, 19.0, 24.0, 21.0, 21.0, 28.0, 35.0, 16.0, 18.0, 12.0, 21.0, 69.82265019271152, 41.54972209045856, 37.812905589998685, 37.64783409628975, 28.691913474055987, 22.815157934276428, 22.59597420186543, 22.228530160562936, 21.01726323519777, 19.680970527658697, 17.63242000338774, 17.034703507245837, 16.654834403856484, 16.170293063162813, 15.438329875528147, 14.365369005749177, 14.141113740898378, 13.257005006675378, 12.337012728550544, 11.910468324125295, 11.329496500607437, 10.887572427125178, 10.811905429729006, 10.73444183622722, 10.543671178374701, 10.517609354262303, 10.131270425679626, 9.970815690387745, 9.662066087059108, 9.345068316543593, 61.83500204032924, 28.77421873897859, 39.38039497244991, 34.42074687752574, 75.34545247261595, 16.17050304758955, 35.526875506131546, 16.875239402088848, 40.625956997028524, 35.54177070916719, 18.557605027014226, 19.81349668301459, 42.646290003422074, 28.794615362423027, 26.747505352241372, 21.135999567118994, 20.754734755444513, 19.515099328825006, 19.149671266107664, 17.62697575583637, 15.865403798141138, 14.384499881362485, 14.302411333325317, 14.159407860775636, 13.021614567516448, 12.340134240892352, 12.223814968390277, 12.000269561894243, 10.852304946755625, 10.6593677612181, 10.438923470329422, 10.127926912193306, 9.78580976274993, 9.750682726427346, 9.591731889426692, 9.43483603000909, 9.387684464134995, 8.706745193168233, 8.467267386064771, 8.29761138906568, 8.23170233758215, 8.005920747983515, 9.245418662773673, 15.806533923788095, 21.7888755462431, 40.625956997028524, 20.349676780804867, 33.57222199639271, 19.02168479769942, 75.34545247261595, 35.526875506131546, 36.05556850503995, 21.278796579228175, 21.056778760984972, 13.252681956683993, 12.77508829199015, 12.74823667709883, 12.502548782677382, 11.662650057476279, 11.66610352954907, 11.573758727306638, 11.453396109560128, 10.445632164804712, 10.435440188544163, 9.989377931043673, 9.58524029559167, 9.341075715326571, 9.24662614640071, 8.910247836754149, 8.647303639778265, 7.893722166068441, 7.856822698449306, 7.81055347659924, 7.741323160419995, 7.7328024049691475, 7.351268591767909, 7.236943382551742, 7.1185007577071575, 7.117573223907901, 6.88700426756199, 6.572837078278132, 24.88421451722137, 15.445128563148836, 21.341307768198668, 37.90278272308421, 30.327020708531517, 35.54177070916719, 10.897716114907903, 34.42074687752574, 11.3825791054506, 61.83500204032924, 17.451797269296666, 26.63193633934657, 39.376154830033975, 16.845909920999333, 15.5214080412645, 15.477781305959951, 14.445134430397202, 13.408640411159833, 13.028561208728275, 11.801952888514501, 11.521912471138254, 11.047575273191674, 10.730595505232085, 10.604323396510548, 10.042170714164342, 9.501009878193225, 9.066359089875768, 8.902628499856528, 8.468612064692351, 8.465601495189327, 8.032125697885572, 7.9678665714045405, 7.760320928043847, 7.643900250204793, 7.473950254842035, 7.222661405984862, 6.928380873735489, 6.763556224605446, 6.701916086084758, 6.683291699152745, 6.531259459225773, 6.374581629577492, 15.909869472630628, 20.127866211495665, 20.550505793386417, 22.072812900546364, 37.90278272308421, 30.327020708531517, 19.02168479769942, 21.69299595886699, 19.254077321224113, 15.285598852526771, 14.99166444471631, 13.13910675664522, 12.811211564057794, 12.365478769893029, 11.56314730403458, 10.734072549272787, 10.117574591005189, 9.557044349618131, 9.028288987152559, 8.634669855615842, 8.318583756222806, 8.086528903964506, 7.544620855199806, 7.408280765475032, 7.09535262839303, 6.752566719019407, 6.67156927909694, 6.6262524837664225, 6.414942091476502, 6.143212642408831, 5.589969650835386, 5.546169339771897, 5.467662830586472, 5.394777015825516, 5.295168514842792, 5.265131324798225, 5.056891275140138, 6.780673945604431, 11.034978030651436, 7.756276031812868, 20.681957599754092, 10.37123058745685, 30.327020708531517, 7.145622757447811, 21.341307768198668, 24.12781159008599, 20.311428426344428, 16.503683904633576, 13.86907834473589, 13.279383179672985, 12.151794167349228, 8.792670772422671, 8.694939119620383, 8.362846176203703, 8.08618271037302, 7.985873074628046, 7.306337113421882, 7.171721114403801, 7.168854623579459, 7.141898624467157, 6.997513155271573, 6.950234735516685, 5.973202112697318, 5.964070422967578, 5.934019324154524, 5.683673737432534, 5.683673737432534, 5.583396638342479, 5.366907616555831, 5.1058448035453745, 4.9415946790555925, 4.605836971650134, 4.5669736312186995, 4.42641972269176, 4.397727009537591, 7.76135700446261, 33.57222199639271, 14.938184193707027, 21.7888755462431, 10.90977333126467, 20.349676780804867, 27.078437459125677, 10.364550582387597, 10.01195952370725, 8.407965875674067, 7.312050364387228, 7.000118539994802, 6.970028700328509, 6.9282057004683715, 6.637764877867975, 6.461338637075811, 6.2896785462687905, 6.273928645248604, 5.809638995372988, 5.801591310417698, 5.801209960101724, 5.595312796692917, 5.579504653591266, 5.577181349598563, 5.389903730693729, 5.37869928160192, 5.2103415962498465, 5.114219502194611, 5.06885163721365, 5.0076906216053905, 4.976308113043349, 4.878314031815288, 4.855191652343449, 4.739403349511358, 4.7058863985204455, 4.625148059990967, 17.878319352131513, 75.34545247261595, 7.6267777422991605, 46.2293210273549, 22.879134533678563, 8.910133256393609, 8.267129423309427, 7.892735626367309, 6.8714872675773, 5.694817746073346, 5.301967989843025, 5.2396807028522145, 4.714739379595219, 4.682217073483748, 4.345744984794009, 4.119199397692091, 3.9458503597220096, 3.7018658262638087, 3.7001617384333327, 3.5616997506702193, 3.525314671465566, 3.525120532384304, 3.2872208004188437, 3.225216526629967, 3.0577797128268602, 2.9293496731717585, 2.9293496731717585, 2.9293496731717585, 2.9293496731717585, 2.929546874593515, 2.929546874593515, 2.929546874593515, 2.929546874593515, 50.15526413455622, 2.929546874593515, 2.929546874593515, 2.929546874593515, 11.221434870381419, 7.99478281846902, 10.592604229477983, 16.360625536988618, 3.450481128528722, 35.45262749019512, 12.785329131506307, 10.247775169054854, 8.592227589591484, 8.550997515906387, 6.814773671121741, 6.242766665742234, 5.978020188991908, 5.957995475692796, 5.928862609032074, 5.831073188022916, 5.533487556066006, 5.484486589116002, 4.846407549699203, 4.8319744689557975, 4.6275738272612505, 4.355393242219278, 4.310278513804538, 3.9980974308707107, 3.8275690241479245, 3.754188503620471, 3.5852218543493666, 3.3961164700109268, 3.2984973108858284, 3.2631837999485205, 3.187259583006999, 3.0771066871633943, 3.0685308448064545, 3.021734154686661, 3.021734154686661, 18.64488654483078, 8.438993544280162, 7.600781125052205, 9.208335639854297, 7.893603667175442, 5.6410477369971765, 4.815762117121825, 3.923099419589449, 3.6944481833985017, 3.579234767704606, 3.567371908963321, 3.5506748097408085, 3.2204351138507294, 3.011080462403715, 2.901581022076984, 2.7437914381089596, 2.501027064015122, 2.414857555606487, 2.135074821820765, 2.070926304418585, 1.9740174300252566, 1.8425153094031343, 1.8414425823800065, 1.769431813535991, 1.7103406425889218, 1.6599573191471364, 1.615215268684146, 1.6119267931864747, 1.400465050144878, 1.400436636325646, 1.400256053494692, 1.3705774670192632, 1.3664650602234572, 1.3618314247040497, 4.26691657726623], \"Category\": [\"Default\", \"Default\", \"Default\", \"Default\", \"Default\", \"Default\", \"Default\", \"Default\", \"Default\", \"Default\", \"Default\", \"Default\", \"Default\", \"Default\", \"Default\", \"Default\", \"Default\", \"Default\", \"Default\", \"Default\", \"Default\", \"Default\", \"Default\", \"Default\", \"Default\", \"Default\", \"Default\", \"Default\", \"Default\", \"Default\", \"Topic1\", \"Topic1\", \"Topic1\", \"Topic1\", \"Topic1\", \"Topic1\", \"Topic1\", \"Topic1\", \"Topic1\", \"Topic1\", \"Topic1\", \"Topic1\", \"Topic1\", \"Topic1\", \"Topic1\", \"Topic1\", \"Topic1\", \"Topic1\", \"Topic1\", \"Topic1\", \"Topic1\", \"Topic1\", \"Topic1\", \"Topic1\", \"Topic1\", \"Topic1\", \"Topic1\", \"Topic1\", \"Topic1\", \"Topic1\", \"Topic1\", \"Topic1\", \"Topic1\", \"Topic1\", \"Topic1\", \"Topic1\", \"Topic1\", \"Topic1\", \"Topic1\", \"Topic1\", \"Topic1\", \"Topic1\", \"Topic2\", \"Topic2\", \"Topic2\", \"Topic2\", \"Topic2\", \"Topic2\", \"Topic2\", \"Topic2\", \"Topic2\", \"Topic2\", \"Topic2\", \"Topic2\", \"Topic2\", \"Topic2\", \"Topic2\", \"Topic2\", \"Topic2\", \"Topic2\", \"Topic2\", \"Topic2\", \"Topic2\", \"Topic2\", \"Topic2\", \"Topic2\", \"Topic2\", \"Topic2\", \"Topic2\", \"Topic2\", \"Topic2\", \"Topic2\", \"Topic2\", \"Topic2\", \"Topic2\", \"Topic2\", \"Topic2\", \"Topic2\", \"Topic2\", \"Topic2\", \"Topic2\", \"Topic3\", \"Topic3\", \"Topic3\", \"Topic3\", \"Topic3\", \"Topic3\", \"Topic3\", \"Topic3\", \"Topic3\", \"Topic3\", \"Topic3\", \"Topic3\", \"Topic3\", \"Topic3\", \"Topic3\", \"Topic3\", \"Topic3\", \"Topic3\", \"Topic3\", \"Topic3\", \"Topic3\", \"Topic3\", \"Topic3\", \"Topic3\", \"Topic3\", \"Topic3\", \"Topic3\", \"Topic3\", \"Topic3\", \"Topic3\", \"Topic3\", \"Topic3\", \"Topic3\", \"Topic3\", \"Topic3\", \"Topic3\", \"Topic3\", \"Topic3\", \"Topic3\", \"Topic3\", \"Topic3\", \"Topic3\", \"Topic4\", \"Topic4\", \"Topic4\", \"Topic4\", \"Topic4\", \"Topic4\", \"Topic4\", \"Topic4\", \"Topic4\", \"Topic4\", \"Topic4\", \"Topic4\", \"Topic4\", \"Topic4\", \"Topic4\", \"Topic4\", \"Topic4\", \"Topic4\", \"Topic4\", \"Topic4\", \"Topic4\", \"Topic4\", \"Topic4\", \"Topic4\", \"Topic4\", \"Topic4\", \"Topic4\", \"Topic4\", \"Topic4\", \"Topic4\", \"Topic4\", \"Topic4\", \"Topic4\", \"Topic4\", \"Topic4\", \"Topic4\", \"Topic4\", \"Topic5\", \"Topic5\", \"Topic5\", \"Topic5\", \"Topic5\", \"Topic5\", \"Topic5\", \"Topic5\", \"Topic5\", \"Topic5\", \"Topic5\", \"Topic5\", \"Topic5\", \"Topic5\", \"Topic5\", \"Topic5\", \"Topic5\", \"Topic5\", \"Topic5\", \"Topic5\", \"Topic5\", \"Topic5\", \"Topic5\", \"Topic5\", \"Topic5\", \"Topic5\", \"Topic5\", \"Topic5\", \"Topic5\", \"Topic5\", \"Topic5\", \"Topic5\", \"Topic5\", \"Topic5\", \"Topic5\", \"Topic5\", \"Topic5\", \"Topic5\", \"Topic6\", \"Topic6\", \"Topic6\", \"Topic6\", \"Topic6\", \"Topic6\", \"Topic6\", \"Topic6\", \"Topic6\", \"Topic6\", \"Topic6\", \"Topic6\", \"Topic6\", \"Topic6\", \"Topic6\", \"Topic6\", \"Topic6\", \"Topic6\", \"Topic6\", \"Topic6\", \"Topic6\", \"Topic6\", \"Topic6\", \"Topic6\", \"Topic6\", \"Topic6\", \"Topic6\", \"Topic6\", \"Topic6\", \"Topic6\", \"Topic6\", \"Topic6\", \"Topic6\", \"Topic6\", \"Topic6\", \"Topic6\", \"Topic7\", \"Topic7\", \"Topic7\", \"Topic7\", \"Topic7\", \"Topic7\", \"Topic7\", \"Topic7\", \"Topic7\", \"Topic7\", \"Topic7\", \"Topic7\", \"Topic7\", \"Topic7\", \"Topic7\", \"Topic7\", \"Topic7\", \"Topic7\", \"Topic7\", \"Topic7\", \"Topic7\", \"Topic7\", \"Topic7\", \"Topic7\", \"Topic7\", \"Topic7\", \"Topic7\", \"Topic7\", \"Topic7\", \"Topic7\", \"Topic7\", \"Topic7\", \"Topic7\", \"Topic8\", \"Topic8\", \"Topic8\", \"Topic8\", \"Topic8\", \"Topic8\", \"Topic8\", \"Topic8\", \"Topic8\", \"Topic8\", \"Topic8\", \"Topic8\", \"Topic8\", \"Topic8\", \"Topic8\", \"Topic8\", \"Topic8\", \"Topic8\", \"Topic8\", \"Topic8\", \"Topic8\", \"Topic8\", \"Topic8\", \"Topic8\", \"Topic8\", \"Topic8\", \"Topic8\", \"Topic8\", \"Topic8\", \"Topic8\", \"Topic8\", \"Topic8\", \"Topic8\", \"Topic8\", \"Topic8\", \"Topic8\", \"Topic8\", \"Topic8\", \"Topic8\", \"Topic9\", \"Topic9\", \"Topic9\", \"Topic9\", \"Topic9\", \"Topic9\", \"Topic9\", \"Topic9\", \"Topic9\", \"Topic9\", \"Topic9\", \"Topic9\", \"Topic9\", \"Topic9\", \"Topic9\", \"Topic9\", \"Topic9\", \"Topic9\", \"Topic9\", \"Topic9\", \"Topic9\", \"Topic9\", \"Topic9\", \"Topic9\", \"Topic9\", \"Topic9\", \"Topic9\", \"Topic9\", \"Topic9\", \"Topic9\", \"Topic9\", \"Topic9\", \"Topic9\", \"Topic9\", \"Topic10\", \"Topic10\", \"Topic10\", \"Topic10\", \"Topic10\", \"Topic10\", \"Topic10\", \"Topic10\", \"Topic10\", \"Topic10\", \"Topic10\", \"Topic10\", \"Topic10\", \"Topic10\", \"Topic10\", \"Topic10\", \"Topic10\", \"Topic10\", \"Topic10\", \"Topic10\", \"Topic10\", \"Topic10\", \"Topic10\", \"Topic10\", \"Topic10\", \"Topic10\", \"Topic10\", \"Topic10\", \"Topic10\", \"Topic10\", \"Topic10\"], \"logprob\": [30.0, 29.0, 28.0, 27.0, 26.0, 25.0, 24.0, 23.0, 22.0, 21.0, 20.0, 19.0, 18.0, 17.0, 16.0, 15.0, 14.0, 13.0, 12.0, 11.0, 10.0, 9.0, 8.0, 7.0, 6.0, 5.0, 4.0, 3.0, 2.0, 1.0, -3.7788, -4.3028, -4.3983, -4.4027, -4.6786, -4.9125, -4.9223, -4.9391, -4.9965, -5.0638, -5.1768, -5.2124, -5.2356, -5.2661, -5.3139, -5.3885, -5.4048, -5.4718, -5.5467, -5.5834, -5.6357, -5.6774, -5.6847, -5.6923, -5.7111, -5.7137, -5.753, -5.7699, -5.803, -5.8382, -4.1644, -4.9109, -4.673, -4.8817, -4.3522, -5.4231, -5.0335, -5.4505, -5.0162, -5.1049, -5.4765, -5.5229, -3.9442, -4.3425, -4.4175, -4.6579, -4.6765, -4.7396, -4.759, -4.8441, -4.9525, -5.0537, -5.0597, -5.0701, -5.1569, -5.2128, -5.2227, -5.2419, -5.3469, -5.3657, -5.3876, -5.4193, -5.4555, -5.4593, -5.4766, -5.4939, -5.4992, -5.5787, -5.6083, -5.6298, -5.6383, -5.6678, -5.5316, -5.2499, -5.0649, -4.7633, -5.1443, -4.9638, -5.2205, -4.7753, -5.1809, -3.9239, -4.461, -4.4717, -4.9491, -4.9872, -4.9894, -5.0097, -5.0822, -5.0819, -5.0902, -5.1011, -5.1976, -5.1987, -5.2446, -5.2881, -5.3153, -5.3261, -5.3653, -5.397, -5.4941, -5.4991, -5.5054, -5.5149, -5.516, -5.5702, -5.587, -5.6048, -5.6049, -5.6404, -5.6908, -4.391, -5.0081, -4.7585, -4.5593, -4.7633, -4.6798, -5.3953, -5.0994, -5.4131, -5.0508, -5.3631, -5.4113, -3.6805, -4.5468, -4.6313, -4.6342, -4.7056, -4.7829, -4.8128, -4.9158, -4.9409, -4.9848, -5.0154, -5.0278, -5.085, -5.1434, -5.1929, -5.2122, -5.2652, -5.2656, -5.3215, -5.3301, -5.3583, -5.3744, -5.3985, -5.4352, -5.4799, -5.5059, -5.5158, -5.5189, -5.5437, -5.57, -4.7851, -4.8966, -4.8935, -4.9398, -5.1793, -5.3447, -5.4187, -4.2319, -4.3541, -4.5918, -4.6119, -4.7487, -4.7749, -4.8117, -4.8817, -4.9595, -5.0216, -5.0816, -5.1418, -5.189, -5.2286, -5.2587, -5.3327, -5.3523, -5.3987, -5.4519, -5.465, -5.4723, -5.5073, -5.5543, -5.6575, -5.6661, -5.6817, -5.6965, -5.717, -5.7233, -5.7679, -5.4952, -5.1034, -5.4033, -4.676, -5.3841, -5.306, -5.6151, -5.585, -3.9353, -4.1115, -4.3249, -4.5048, -4.55, -4.6424, -4.9825, -4.9944, -5.0358, -5.0716, -5.0849, -5.1801, -5.2001, -5.2006, -5.2046, -5.2266, -5.2338, -5.3982, -5.3999, -5.4054, -5.4526, -5.4526, -5.4721, -5.5157, -5.5708, -5.6072, -5.6859, -5.6953, -5.7305, -5.7379, -5.2611, -4.2106, -5.0341, -5.067, -5.3877, -5.4329, -3.6902, -4.6823, -4.7188, -4.9038, -5.0532, -5.1003, -5.1048, -5.1113, -5.1577, -5.1869, -5.2163, -5.219, -5.303, -5.3046, -5.3046, -5.3444, -5.3474, -5.3479, -5.3856, -5.3879, -5.4231, -5.4438, -5.4537, -5.4672, -5.4743, -5.4966, -5.5018, -5.5289, -5.5368, -5.5562, -4.8041, -4.1056, -5.4592, -2.8784, -3.5934, -4.5736, -4.6533, -4.7028, -4.8519, -5.0568, -5.1357, -5.1488, -5.2667, -5.2745, -5.3588, -5.4198, -5.4691, -5.543, -5.5436, -5.588, -5.6001, -5.6002, -5.6826, -5.7053, -5.7692, -5.8211, -5.8211, -5.8211, -5.8211, -5.821, -5.821, -5.821, -5.821, -3.0188, -5.821, -5.821, -5.821, -4.9051, -5.1757, -5.0049, -5.2241, -5.788, -3.072, -4.1186, -4.3503, -4.5368, -4.5419, -4.7854, -4.8806, -4.928, -4.9317, -4.9371, -4.9553, -5.0129, -5.0228, -5.1603, -5.1636, -5.2121, -5.2806, -5.2924, -5.3783, -5.4286, -5.4512, -5.5046, -5.5682, -5.6027, -5.6156, -5.6439, -5.6857, -5.6891, -5.7077, -5.7077, -4.2742, -5.4039, -5.4475, -5.4084, -4.0189, -4.384, -4.5601, -4.7934, -4.8632, -4.9002, -4.9043, -4.9097, -5.0254, -5.1063, -5.1514, -5.2202, -5.3362, -5.3809, -5.5415, -5.5821, -5.647, -5.7425, -5.7431, -5.7996, -5.8484, -5.8919, -5.9326, -5.9353, -6.1523, -6.1523, -6.1526, -6.1872, -6.1921, -6.1975, -5.2984], \"loglift\": [30.0, 29.0, 28.0, 27.0, 26.0, 25.0, 24.0, 23.0, 22.0, 21.0, 20.0, 19.0, 18.0, 17.0, 16.0, 15.0, 14.0, 13.0, 12.0, 11.0, 10.0, 9.0, 8.0, 7.0, 6.0, 5.0, 4.0, 3.0, 2.0, 1.0, 1.5405, 1.5356, 1.5344, 1.5343, 1.53, 1.5254, 1.5252, 1.5248, 1.5235, 1.5218, 1.5187, 1.5177, 1.517, 1.5161, 1.5145, 1.512, 1.5114, 1.5089, 1.506, 1.5044, 1.5022, 1.5003, 1.4999, 1.4996, 1.4987, 1.4985, 1.4966, 1.4958, 1.4941, 1.4922, 1.2764, 1.2949, 1.219, 1.1449, 0.891, 1.359, 0.9615, 1.2889, 0.8447, 0.8897, 1.1679, 1.056, 1.8682, 1.8626, 1.8613, 1.8564, 1.856, 1.8545, 1.854, 1.8518, 1.8486, 1.8454, 1.8452, 1.8448, 1.8417, 1.8396, 1.8392, 1.8384, 1.834, 1.8331, 1.8321, 1.8307, 1.8289, 1.8287, 1.8278, 1.827, 1.8267, 1.8224, 1.8208, 1.8195, 1.819, 1.8173, 1.8096, 1.555, 1.419, 1.0975, 1.4079, 1.0878, 1.3992, 0.4679, 0.8141, 2.0564, 2.0466, 2.0463, 2.032, 2.0305, 2.0304, 2.0296, 2.0267, 2.0267, 2.0263, 2.0259, 2.0215, 2.0214, 2.0192, 2.017, 2.0155, 2.015, 2.0128, 2.011, 2.0052, 2.0048, 2.0045, 2.0038, 2.0038, 2.0002, 1.999, 1.9978, 1.9978, 1.9953, 1.9916, 1.96, 1.8199, 1.7462, 1.3709, 1.3899, 1.3147, 1.7814, 0.9272, 1.7201, 0.39, 1.3427, 0.8719, 2.2117, 2.1944, 2.1918, 2.1917, 2.1893, 2.1865, 2.1854, 2.1812, 2.1801, 2.1782, 2.1768, 2.1763, 2.1735, 2.1705, 2.1679, 2.1668, 2.1637, 2.1637, 2.1603, 2.1598, 2.158, 2.157, 2.1554, 2.1529, 2.1497, 2.1478, 2.1471, 2.1468, 2.145, 2.1429, 2.0133, 1.6666, 1.6489, 1.5312, 0.7509, 0.8086, 1.201, 2.2564, 2.2534, 2.2466, 2.2459, 2.241, 2.2401, 2.2386, 2.2358, 2.2323, 2.2294, 2.2264, 2.2232, 2.2205, 2.2182, 2.2163, 2.2117, 2.2104, 2.2072, 2.2034, 2.2025, 2.2019, 2.1993, 2.1956, 2.1868, 2.1861, 2.1847, 2.1834, 2.1814, 2.1809, 2.1766, 2.156, 2.0609, 2.1135, 1.86, 1.8421, 0.8472, 1.9836, 0.9196, 2.4466, 2.4426, 2.4368, 2.4308, 2.4291, 2.4255, 2.4088, 2.4082, 2.4057, 2.4035, 2.4027, 2.3964, 2.395, 2.3949, 2.3947, 2.3932, 2.3927, 2.3798, 2.3796, 2.3792, 2.3751, 2.3751, 2.3734, 2.3694, 2.3641, 2.3604, 2.3521, 2.3512, 2.3472, 2.3463, 2.255, 1.8409, 1.8273, 1.4168, 1.7879, 1.1193, 2.5763, 2.5446, 2.5428, 2.5323, 2.5225, 2.519, 2.5188, 2.5183, 2.5148, 2.5125, 2.5101, 2.5099, 2.5027, 2.5026, 2.5026, 2.499, 2.4987, 2.4987, 2.4951, 2.4949, 2.4915, 2.4894, 2.4885, 2.4871, 2.4863, 2.4839, 2.4834, 2.4805, 2.4797, 2.4775, 1.8776, 1.1376, 2.0744, 2.8533, 2.8416, 2.8045, 2.7997, 2.7965, 2.786, 2.7689, 2.7615, 2.7602, 2.7479, 2.747, 2.7373, 2.7298, 2.7235, 2.7134, 2.7133, 2.707, 2.7052, 2.7052, 2.6927, 2.689, 2.6784, 2.6694, 2.6694, 2.6694, 2.6694, 2.6694, 2.6694, 2.6694, 2.6694, 2.6313, 2.6694, 2.6694, 2.6694, 2.2423, 2.3108, 2.2003, 1.5463, 2.5388, 2.9251, 2.8984, 2.8879, 2.8776, 2.8773, 2.8608, 2.8532, 2.8492, 2.8489, 2.8483, 2.8468, 2.8415, 2.8405, 2.8268, 2.8264, 2.8212, 2.8132, 2.8119, 2.8011, 2.7945, 2.7913, 2.7839, 2.7744, 2.7691, 2.767, 2.7622, 2.7556, 2.755, 2.7517, 2.7517, 2.3655, 2.0286, 2.0895, 1.9368, 3.4803, 3.4512, 3.4333, 3.405, 3.3952, 3.3899, 3.3891, 3.3885, 3.3704, 3.3567, 3.3486, 3.3357, 3.3124, 3.3028, 3.2653, 3.2551, 3.2382, 3.2116, 3.2116, 3.195, 3.1802, 3.1666, 3.1532, 3.1525, 3.0762, 3.0762, 3.076, 3.0629, 3.0609, 3.0589, 2.816]}, \"token.table\": {\"Topic\": [2, 8, 3, 6, 1, 9, 1, 5, 9, 1, 9, 9, 4, 5, 3, 5, 8, 5, 7, 2, 6, 1, 3, 1, 3, 5, 5, 6, 4, 2, 2, 2, 4, 3, 9, 10, 8, 2, 4, 2, 6, 6, 7, 6, 4, 7, 1, 1, 1, 7, 4, 9, 3, 6, 1, 10, 4, 4, 10, 10, 7, 9, 6, 3, 5, 5, 10, 2, 8, 5, 6, 6, 8, 1, 1, 9, 8, 10, 3, 5, 8, 1, 10, 1, 1, 3, 3, 8, 5, 5, 2, 8, 10, 7, 7, 8, 8, 8, 5, 5, 7, 8, 3, 4, 7, 6, 6, 8, 7, 8, 4, 6, 3, 4, 2, 5, 6, 4, 6, 6, 10, 3, 1, 6, 7, 5, 6, 1, 7, 3, 1, 3, 1, 3, 5, 9, 2, 2, 10, 6, 9, 7, 2, 4, 3, 1, 3, 7, 10, 2, 9, 10, 4, 3, 1, 3, 4, 6, 6, 4, 1, 3, 4, 5, 2, 2, 3, 2, 2, 1, 6, 9, 6, 5, 9, 6, 5, 2, 5, 9, 7, 4, 5, 4, 10, 9, 10, 8, 5, 5, 3, 10, 3, 8, 1, 7, 3, 5, 4, 7, 10, 7, 4, 1, 2, 5, 4, 1, 10, 4, 3, 5, 8, 7, 2, 7, 9, 2, 4, 4, 8, 1, 3, 4, 7, 1, 2, 3, 9, 6, 8, 6, 4, 7, 9, 8, 3, 3, 4, 1, 4, 2, 5, 2, 2, 3, 5, 8, 8, 10, 6, 6, 5, 2, 10, 4, 5, 4, 3, 2, 2, 4, 8, 7, 1, 3, 4, 5, 1, 4, 3, 2, 1, 1, 1, 1, 3, 7, 7, 2, 3, 8, 9, 3, 9, 10, 9, 8, 5, 6, 3, 9, 1, 6, 5, 2, 3, 1, 4, 10, 2, 10, 5, 9, 10, 5, 5, 3, 4, 9, 6, 2, 2, 4, 8, 3, 8, 10, 1, 3, 7, 1, 3, 8, 9, 9, 2, 5, 6, 1, 6, 5, 8, 3, 7, 10, 2, 6, 6, 5, 9, 3, 10, 9, 1, 10, 5, 1, 4, 7, 1, 2, 3, 8, 2, 7, 8, 3, 5, 2, 5, 4, 8, 8, 2, 9, 4, 7, 2, 5, 6, 10, 6, 6, 9, 3, 5, 1, 3, 1, 2, 10, 3, 9, 10, 1, 8, 8, 4, 4, 5, 9, 9, 9, 4, 1, 2, 7, 8, 4, 8, 1, 1, 3, 7, 7, 7, 8, 4, 10, 1, 3, 4, 5, 3, 2, 7, 5, 1, 2, 6, 1, 7, 3], \"Freq\": [0.9188278538663585, 0.8422944689359282, 0.896223298511726, 0.863280195320476, 0.9900210306285668, 0.8643838325032905, 0.1399458149337243, 0.6997290746686214, 0.880440098168715, 0.5924877147688937, 0.3554926288613362, 0.7991074494812539, 0.289261720169278, 0.6749440137283154, 0.33845925687823813, 0.6769185137564763, 0.8104021433504567, 0.8155883931079015, 0.18124186513508922, 0.44679795104451914, 0.536157541253423, 0.5064463486440002, 0.4783104403860002, 0.9758847218509273, 0.9042381844733923, 0.9015231403312399, 0.9448885944796056, 0.8797127053704937, 0.9319147287887372, 0.9230122907811609, 0.9873688946116612, 0.6308589448107846, 0.36800105113962434, 0.9582729448229523, 0.8574750888515773, 0.8449098159510117, 0.954256620499462, 0.3974589216730259, 0.5961883825095389, 0.6425297152341539, 0.3671598372766594, 0.8955122345533973, 0.8961368993180666, 0.956612118821918, 0.9446648327833901, 0.9573238217959978, 0.9642712122955865, 0.9653995453780242, 0.9785019009432141, 0.8648371788573211, 0.8660031989212877, 0.9749418219767757, 0.7340987703887907, 0.18352469259719767, 0.980613644895965, 0.6642134027874567, 0.9365863781960572, 0.902024550905332, 0.9315511395020311, 0.8282062001365972, 0.9776662886398214, 0.9355633638202523, 0.9373369792041188, 0.9052345622463799, 0.9894127691309864, 0.9865612558829756, 0.7647014972447344, 0.9999775370134102, 0.9615748343808871, 0.9704436215779302, 0.9036648692608732, 0.8684632184379986, 0.8978541363856115, 0.9894687707577327, 0.9736247618030901, 0.8392084251152607, 0.682699436334333, 0.6024251277218299, 0.967259190789994, 0.9496439293832076, 0.8510347298595418, 0.4687225456095933, 0.4687225456095933, 0.9026342758172082, 0.6056477658629118, 0.35329453008669853, 0.9834812765237212, 0.8731734144819914, 0.888551013216987, 0.8993386336853204, 0.9383081286833113, 0.682699436334333, 0.543052501103527, 0.8038087492041824, 0.9295927766593538, 0.9950394896083548, 0.8107753693140493, 0.9676877656522169, 0.996866628085032, 0.9766876631584943, 0.9539438233388516, 0.682699436334333, 0.9429026557271761, 0.9412382409789112, 0.9864167187873153, 0.9200754473309385, 0.9875084974894419, 0.9811040302921482, 0.8439880940735732, 0.6827453951014651, 0.9497854419876209, 0.9316351905473471, 0.9868979160456692, 0.9186589565852664, 0.638830785374559, 0.09828165928839369, 0.24570414822098421, 0.8977612036237521, 0.9760558014367132, 0.9580724091064544, 0.8867939530722349, 0.871206081323369, 0.974565985349701, 0.9801315263729686, 0.8499992692678727, 0.9617021640270814, 0.9792698745030639, 0.9249063511509686, 0.8608285931042451, 0.9522166021574472, 0.9314777935595114, 0.9251438752768414, 0.9716076881979987, 0.32180404989718087, 0.10726801663239362, 0.5363400831619681, 0.9992604538353685, 0.9720532684301816, 0.7141550986366014, 0.8383536151325525, 0.883361930160878, 0.9648271693509726, 0.9734551055257409, 0.8986110113579294, 0.9413066531434127, 0.7600873041023958, 0.19406484360061171, 0.04851621090015293, 0.7140485225936556, 0.5429862893311211, 0.3257917735986727, 0.5846788499899717, 0.887107285095425, 0.9393281459764061, 0.9979627759748754, 0.33471270237157325, 0.1338850809486293, 0.5355403237945172, 0.9893419783524723, 0.9664071687389244, 0.3003912257097369, 0.3003912257097369, 0.18774451606858555, 0.18774451606858555, 0.9579531863053719, 0.9887419119257644, 0.9973035400319552, 0.9848453405121474, 0.9381419446266717, 0.9709169334586254, 0.9846673301450085, 0.9872328929549636, 0.8797127053704937, 0.9892996234859082, 0.9385757594952283, 0.9095607779484678, 0.9264974959982907, 0.12892785092980644, 0.9024949565086451, 0.9928073902024267, 0.8989249286005364, 0.9320491366056078, 0.9144675074018217, 0.9926807344361785, 0.6892793910570788, 0.9280142773115918, 0.9657514107251162, 0.8542961458691721, 0.9353163153214067, 0.9366795591500752, 0.8867806407083656, 0.7343052758657833, 0.44557581608367425, 0.5346909793004091, 0.9484362543959278, 0.9276603534728541, 0.7028622689351754, 0.2342874229783918, 0.9547026179511765, 0.9514786475460855, 0.8120292533756197, 0.866025095010441, 0.9691718338339438, 0.7703594414424032, 0.17777525571747768, 0.9883791723058097, 0.9472677236823903, 0.9641331137038347, 0.7318152722005717, 0.9430116025403935, 0.13956660623340444, 0.059814259814316185, 0.7975234641908825, 0.8936050908458999, 0.9644308947535272, 0.9563385781481503, 0.7503569014691711, 0.9718524397408901, 0.9904471416353975, 0.2898146556235182, 0.5796293112470364, 0.9630748214079166, 0.9833531298597029, 0.9958006375947323, 0.9286001457300808, 0.5629540936283074, 0.3377724561769845, 0.08444311404424612, 0.843332073909583, 0.3752447149745704, 0.6254078582909506, 0.8765478657856124, 0.9691311502265526, 0.8606386737596236, 0.8367683010635975, 0.8779912234149315, 0.9733279855272715, 0.7028284122505386, 0.26356065459395195, 0.7005214294126831, 0.26943131900487816, 0.9636355383801507, 0.9868039731540893, 0.9732698470900146, 0.9724367471007547, 0.366734143901467, 0.30561178658455584, 0.2444894292676447, 0.682699436334333, 0.7296194662931411, 0.9764460806578403, 0.9694805167413464, 0.981315821821429, 0.9788559197272781, 0.7996714744818559, 0.8171028695341337, 0.18856220066172316, 0.9695240979973087, 0.9128478202858183, 0.9935655010454029, 0.9921841339191779, 0.9157628659286151, 0.6827453951014651, 0.8199554136762993, 0.9507864062233363, 0.4946084267281896, 0.23081726580648848, 0.23081726580648848, 0.4379454253090154, 0.5839272337453539, 0.9504258952665968, 0.921463232839727, 0.9897190610934596, 0.9882180038935647, 0.9235573027568452, 0.7645733216797302, 0.17376666401812052, 0.0347533328036241, 0.9039187302348644, 0.9736050880323129, 0.9634864628313692, 0.6827453951014651, 0.9412474641207823, 0.890945394679911, 0.919347540290966, 0.5065811399584276, 0.9184015719236897, 0.682699436334333, 0.4583046639173754, 0.5499655967008505, 0.897842590528241, 0.825353616876126, 0.9827922611794129, 0.842599210900345, 0.9887497531497628, 0.1942360005443932, 0.7769440021775728, 0.49835062026588006, 0.49835062026588006, 0.6203755680636023, 0.9641328841384565, 0.542736331631318, 0.5262617005002268, 0.3946962753751701, 0.886360164479229, 0.884867794578074, 0.9268223663985662, 0.8840946128628926, 0.08037223753299023, 0.9095050616228438, 0.8370719600080887, 0.9587028659073367, 0.9724040292804189, 0.47202745346470915, 0.47202745346470915, 0.9809335229269157, 0.682699436334333, 0.7289183763101229, 0.9991786164066851, 0.9389435968693632, 0.8618891635344853, 0.6682016541313733, 0.3195747041497872, 0.9710624841907687, 0.9758215646842976, 0.9928073902024267, 0.945453402311605, 0.9680543913721733, 0.8094552993092617, 0.9870430439457133, 0.9098486918322015, 0.9316128574776105, 0.8484032049176422, 0.393350914549612, 0.6555848575826867, 0.7140630101078477, 0.12884344830743155, 0.7730606898445892, 0.8574474769625696, 0.9338522784862748, 0.9776665615330398, 0.90095700274098, 0.6191125228866005, 0.7837873023512217, 0.9726827931553784, 0.8409552120041783, 0.9417137423203034, 0.33560201503418496, 0.16780100751709248, 0.5034030225512774, 0.7110136914469367, 0.17775342286173418, 0.07618003836931464, 0.850987863376412, 0.981690252268294, 0.8571283422872514, 0.682699436334333, 0.9604138278967163, 0.8944592390144338, 0.6959147434242693, 0.25305990669973427, 0.8952663571031347, 0.9301701064811001, 0.6827453951014651, 0.944814854101125, 0.931074033663994, 0.8785287676781554, 0.8238603718288495, 0.919699055898149, 0.9512980947809868, 0.9947027276133693, 0.8306058112335974, 0.9789611327655157, 0.8758535351850932, 0.9035892733722374, 0.943181862251668, 0.9054891908660784, 0.8039329365166435, 0.12368199023332978, 0.9184783905626299, 0.9983401008066721, 0.838167986930884, 0.9984588093505672, 0.9116623623298727, 0.5651531708371533, 0.9315808080725183, 0.912625035597777, 0.7602923898541742, 0.9978078002420451, 0.9956936004494017, 0.9278133566083112, 0.8278189435186338, 0.9611123274758226, 0.8363973091303938, 0.9960003492109157, 0.5176158443560269, 0.23889962047201244, 0.23889962047201244, 0.943046055649241, 0.969184472976555, 0.8868914824177131, 0.9606820225300556, 0.5157061969676843, 0.4584055084157193, 0.7987713902976019, 0.8618325098187611, 0.8965102058874045, 0.9204405720989638, 0.9450007780954596, 0.9367353216663503, 0.21106629712249866, 0.5012824556659343, 0.237449584262811, 0.052766574280624666, 0.9573379420437362, 0.9539116494843133, 0.9971033240287931, 0.9442570120260743, 0.4922960953624513, 0.4676812905943287, 0.04922960953624513, 0.986769536285664, 0.959629979654071, 0.9598042933954654], \"Term\": [\"aaron_boon\", \"action\", \"ad\", \"add\", \"advanc\", \"afl\", \"afternoon\", \"afternoon\", \"ahead\", \"alc\", \"alc\", \"alc_boston_red_sox\", \"allow\", \"allow\", \"angel\", \"angel\", \"angel_codi_belling\", \"arm\", \"arm\", \"astro\", \"astro\", \"atlanta\", \"atlanta\", \"atlanta_brave\", \"atlanta_brave_world_seri\", \"atlanta_max\", \"babe_ruth\", \"baker\", \"ball\", \"base\", \"base_coach\", \"bat\", \"bat\", \"batter\", \"beat\", \"begin\", \"belling\", \"best\", \"best\", \"big\", \"big\", \"biggest_stage\", \"bit\", \"blast\", \"blow\", \"bobbi\", \"boston\", \"boston_red_sox\", \"brave\", \"busi\", \"came\", \"cap\", \"career\", \"career\", \"carlo_correa\", \"carter_hawkin\", \"catch\", \"catcher\", \"celebr\", \"challeng\", \"championship\", \"chanc\", \"chang\", \"charg\", \"cheat\", \"chicago\", \"chicago_cub\", \"chicago_white_sox\", \"chris_taylor\", \"citi\", \"claim\", \"close\", \"club\", \"com_keep\", \"come\", \"continu\", \"convinc\", \"corey_kluber\", \"countri\", \"critic\", \"cross\", \"cub\", \"cub\", \"damn_good\", \"day\", \"day\", \"decis\", \"defeat\", \"defens\", \"deliv\", \"despit\", \"detect\", \"detroit_tiger\", \"didnt\", \"die\", \"dodger\", \"dodger_nlcs_atlanta\", \"dodger_stadium\", \"domin\", \"doubl\", \"dream\", \"drift\", \"dugout\", \"dusti_baker\", \"dy\", \"earli\", \"eddi_rosario\", \"eighth_inning_los_angel\", \"elimin\", \"employ\", \"end\", \"extend\", \"face\", \"fail\", \"fan\", \"fan\", \"fan\", \"fashion\", \"feat\", \"feel\", \"field\", \"fifth\", \"final\", \"fix\", \"flood\", \"follow\", \"foot\", \"fourth\", \"franchis\", \"freddi_freeman\", \"free_agent_offseason_read\", \"freeman\", \"friday\", \"friday_night\", \"friday_night\", \"friday_night\", \"gerrit_cole\", \"giant\", \"giant_san_francisco\", \"gm\", \"gone\", \"got\", \"grand_slam\", \"great\", \"greatest\", \"ha\", \"ha\", \"ha\", \"ha_unexpect\", \"half\", \"half\", \"halt\", \"hand\", \"have\", \"head\", \"help\", \"help\", \"help\", \"high\", \"histori\", \"hit\", \"hit\", \"hit\", \"hit\", \"hold\", \"home\", \"home_run\", \"homer\", \"homer_postseason\", \"hope\", \"houston\", \"houston_astro\", \"houston_astro_manag_dusti\", \"houston_astro_world_seri\", \"hr\", \"improv\", \"includ\", \"indian\", \"indian\", \"individu\", \"infield\", \"injuri\", \"investig\", \"isnt\", \"joc_pederson\", \"jose_altuv\", \"juli\", \"justin_turner\", \"kansa_citi\", \"key\", \"know\", \"kris_bryant\", \"la\", \"la\", \"late\", \"latest\", \"lead\", \"lead\", \"learn\", \"leav\", \"left\", \"legaci\", \"let\", \"like\", \"like\", \"line\", \"lineup\", \"list\", \"logan_webb\", \"long\", \"los_angel\", \"los_angel\", \"los_angel\", \"lose\", \"loss\", \"lost\", \"lui_garcia\", \"man\", \"manag\", \"marlin\", \"marlin\", \"matchup\", \"matter\", \"max_scherzer\", \"mayor\", \"met\", \"met\", \"met\", \"middl\", \"milwauke_brewer\", \"milwauke_brewer\", \"ml_b\", \"moment\", \"monday\", \"monday_night\", \"mooki_bett\", \"mvp\", \"nation\", \"nation\", \"nation_championship_seri\", \"nation_championship_seri\", \"need\", \"new\", \"new_york\", \"new_york_yanke\", \"night\", \"night\", \"night\", \"nightmar\", \"nl_west\", \"nlcs_mvp\", \"number\", \"octob\", \"offens\", \"olymp\", \"open\", \"open\", \"outfield\", \"outlast\", \"padr\", \"past\", \"path\", \"pen\", \"perfect\", \"perform\", \"pitch\", \"pitch\", \"pitch\", \"pitcher\", \"pitcher\", \"place\", \"plate\", \"play\", \"playoff\", \"posit\", \"postseason\", \"postseason\", \"postseason\", \"potenti\", \"power\", \"presid_oper\", \"pretti\", \"prompt\", \"provid\", \"public\", \"qualifi\", \"race\", \"random\", \"ray\", \"ray\", \"reach_world\", \"receiv\", \"red_sox\", \"reggi_jackson\", \"relentless_jeer\", \"return\", \"return\", \"right\", \"right\", \"rise\", \"rival\", \"rivalri\", \"root\", \"root\", \"roster\", \"royal\", \"rule\", \"run\", \"run\", \"run_singl\", \"s\", \"san_diego\", \"san_francisco\", \"saturday\", \"saturday\", \"saturday_night\", \"scenario\", \"schedul\", \"scherzer\", \"score\", \"scottsdal_ariz\", \"season\", \"season\", \"season_line\", \"second\", \"select\", \"send\", \"seri\", \"seri_time\", \"set\", \"seven\", \"shohei_ohtani\", \"short_rest\", \"shortstop\", \"shortstop\", \"showdown\", \"shut\", \"shut\", \"sign_steal\", \"singl\", \"slam\", \"slugger\", \"soon\", \"sox_american_championship_seri\", \"sport\", \"spot\", \"stand\", \"star\", \"star\", \"star\", \"start\", \"start\", \"start\", \"start_buehler\", \"stay\", \"step\", \"stock\", \"stop\", \"stun\", \"sunday\", \"sunday\", \"sure\", \"surg\", \"sweat\", \"sweep\", \"swing\", \"take\", \"talent\", \"tampa_bay\", \"tampa_bay_ray\", \"taylor\", \"teammat\", \"th\", \"th_graf\", \"thank\", \"thing\", \"think\", \"thursday\", \"thursday\", \"thursday_night\", \"tie\", \"tiger\", \"time\", \"time_year\", \"tokyo\", \"trade\", \"trail\", \"trevor_bauer\", \"tri\", \"turn\", \"umpir\", \"unusu\", \"v\", \"ve\", \"victori\", \"wa\", \"wa\", \"wa\", \"wa_happen\", \"walk\", \"walker_buehler\", \"want\", \"way\", \"way\", \"went\", \"wiemer\", \"wild\", \"wild_card\", \"willi\", \"wilmer_flore\", \"win\", \"win\", \"win\", \"win\", \"won\", \"word\", \"world_seri\", \"yank\", \"yanke\", \"yanke\", \"yanke\", \"year\", \"year_old\", \"yordan_alvarez\"]}, \"R\": 30, \"lambda.step\": 0.01, \"plot.opts\": {\"xlab\": \"PC1\", \"ylab\": \"PC2\"}, \"topic.order\": [4, 1, 2, 10, 6, 9, 3, 5, 8, 7]};\n",
       "\n",
       "function LDAvis_load_lib(url, callback){\n",
       "  var s = document.createElement('script');\n",
       "  s.src = url;\n",
       "  s.async = true;\n",
       "  s.onreadystatechange = s.onload = callback;\n",
       "  s.onerror = function(){console.warn(\"failed to load library \" + url);};\n",
       "  document.getElementsByTagName(\"head\")[0].appendChild(s);\n",
       "}\n",
       "\n",
       "if(typeof(LDAvis) !== \"undefined\"){\n",
       "   // already loaded: just create the visualization\n",
       "   !function(LDAvis){\n",
       "       new LDAvis(\"#\" + \"ldavis_el2251230170322116965740408458\", ldavis_el2251230170322116965740408458_data);\n",
       "   }(LDAvis);\n",
       "}else if(typeof define === \"function\" && define.amd){\n",
       "   // require.js is available: use it to load d3/LDAvis\n",
       "   require.config({paths: {d3: \"https://d3js.org/d3.v5\"}});\n",
       "   require([\"d3\"], function(d3){\n",
       "      window.d3 = d3;\n",
       "      LDAvis_load_lib(\"https://cdn.jsdelivr.net/gh/bmabey/pyLDAvis@3.3.1/pyLDAvis/js/ldavis.v3.0.0.js\", function(){\n",
       "        new LDAvis(\"#\" + \"ldavis_el2251230170322116965740408458\", ldavis_el2251230170322116965740408458_data);\n",
       "      });\n",
       "    });\n",
       "}else{\n",
       "    // require.js not available: dynamically load d3 & LDAvis\n",
       "    LDAvis_load_lib(\"https://d3js.org/d3.v5.js\", function(){\n",
       "         LDAvis_load_lib(\"https://cdn.jsdelivr.net/gh/bmabey/pyLDAvis@3.3.1/pyLDAvis/js/ldavis.v3.0.0.js\", function(){\n",
       "                 new LDAvis(\"#\" + \"ldavis_el2251230170322116965740408458\", ldavis_el2251230170322116965740408458_data);\n",
       "            })\n",
       "         });\n",
       "}\n",
       "</script>"
      ],
      "text/plain": [
       "PreparedData(topic_coordinates=              x         y  topics  cluster       Freq\n",
       "topic                                                \n",
       "3      0.326542 -0.019448       1        1  21.271278\n",
       "0     -0.035311 -0.189141       2        1  15.265450\n",
       "1      0.007347  0.192608       3        1  12.615460\n",
       "9     -0.041544  0.036712       4        1  10.813167\n",
       "5     -0.057471  0.030778       5        1  10.234035\n",
       "8     -0.051020 -0.046502       6        1   8.478140\n",
       "2     -0.017935 -0.027697       7        1   7.460514\n",
       "4     -0.055776  0.024548       8        1   5.700529\n",
       "7     -0.045583  0.000223       9        1   5.287680\n",
       "6     -0.029249 -0.002081      10        1   2.873747, topic_info=                     Term       Freq      Total Category  logprob  loglift\n",
       "2                  dodger  46.000000  46.000000  Default  30.0000  30.0000\n",
       "569             los_angel  50.000000  50.000000  Default  29.0000  29.0000\n",
       "3274        houston_astro  35.000000  35.000000  Default  28.0000  28.0000\n",
       "1260              playoff  69.000000  69.000000  Default  27.0000  27.0000\n",
       "141                 manag  39.000000  39.000000  Default  26.0000  26.0000\n",
       "...                   ...        ...        ...      ...      ...      ...\n",
       "8447  giant_san_francisco   0.872097   1.400256  Topic10  -6.1526   3.0760\n",
       "4912              nl_west   0.842439   1.370577  Topic10  -6.1872   3.0629\n",
       "7386           logan_webb   0.838295   1.366465  Topic10  -6.1921   3.0609\n",
       "4384          kris_bryant   0.833767   1.361831  Topic10  -6.1975   3.0589\n",
       "2249                  cub   2.048920   4.266917  Topic10  -5.2984   2.8160\n",
       "\n",
       "[401 rows x 6 columns], token_table=      Topic      Freq            Term\n",
       "term                                 \n",
       "4939      2  0.918828      aaron_boon\n",
       "3414      8  0.842294          action\n",
       "2449      3  0.896223              ad\n",
       "1424      6  0.863280             add\n",
       "1155      1  0.990021          advanc\n",
       "...     ...       ...             ...\n",
       "119       2  0.467681           yanke\n",
       "119       6  0.049230           yanke\n",
       "354       1  0.986770            year\n",
       "34        7  0.959630        year_old\n",
       "9109      3  0.959804  yordan_alvarez\n",
       "\n",
       "[424 rows x 3 columns], R=30, lambda_step=0.01, plot_opts={'xlab': 'PC1', 'ylab': 'PC2'}, topic_order=[4, 1, 2, 10, 6, 9, 3, 5, 8, 7])"
      ]
     },
     "execution_count": 17,
     "metadata": {},
     "output_type": "execute_result"
    }
   ],
   "source": [
    "###################################\n",
    "# 6-4. Topic Model Year 2021\n",
    "###################################\n",
    "lda_model_2021, corpus_2021 = evaluate_model(YEARS[3]) # 2021\n",
    "pyLDAvis.gensim_models.prepare(lda_model_2021, corpus_2021, dictionary=DICTIONARY)"
   ]
  },
  {
   "cell_type": "code",
   "execution_count": 18,
   "id": "94778749",
   "metadata": {
    "scrolled": false
   },
   "outputs": [
    {
     "data": {
      "text/html": [
       "<style>.diagram_div { text-align: center; font-size: 24px; }.grand_div, .parent_div, .child_title_div, .child_doc_div, .child_text_div, .child_sentence_div, .child_box_div { padding: 10px; }.grand_grand_box_div, .child_box_div { border-style: solid; border-width:thin; border-color: #00000; }.grand_box_div { border-left: solid; border-right: solid; border-width:thin; border-color: #00000; }.grand_grand_div, .grand_grand_box_div { display: flex; }.grand_div, .grand_box_div { flex: 1; margin: auto; text-align: left; }.parent_title_div { text-align: center; font-size: 16px; }.parent_doc_div { width: 800px; background-color: #EAECEE; font-size: 16px; }.parent_div { display: flex; width: 800px; }.child_text_div, .child_sentence_div { float:left; margin: auto; text-align: center; }.child_text_div { width: 100px; }.child_sentence_div { width: 300px; }.child_box_div { float: left; width: 200px; }</style>"
      ],
      "text/plain": [
       "<IPython.core.display.HTML object>"
      ]
     },
     "metadata": {},
     "output_type": "display_data"
    },
    {
     "data": {
      "text/html": [
       "<div class='diagram_div'><u>LDA Model Diagram: m Words per Topic & k Topics per Document - 2 samples</u></div>"
      ],
      "text/plain": [
       "<IPython.core.display.HTML object>"
      ]
     },
     "metadata": {},
     "output_type": "display_data"
    },
    {
     "data": {
      "text/html": [
       "<div class='grand_grand_div'><div class='grand_div'><div class='parent_title_div'><b>m</b> Words Probability Distribution<br>(from Dirichlet Dist.)<br>on <b>i</b>-th Topic θi</div></div><div class='grand_div'><div class='parent_doc_div'><u>Document</u>: shohei <font color=Crimson><b>ohtani</b></font> <font color=Crimson><b>unleashed</b></font> with the so <font color=Crimson><b>called</b></font> <font color=Crimson><b>ohtani</b></font> <font color=Crimson><b>rules</b></font> <font color=Crimson><b>junked</b></font> the <font color=Crimson><b>angels</b></font> <font color=HotPink><b>super</b></font> <font color=Crimson><b>freak</b></font> is <font color=Crimson><b>dominating</b></font> as a <font color=DarkOrange><b>hitter</b></font> and a <font color=DarkOrange><b>pitcher</b></font> there are <font color=HotPink><b>things</b></font> that he can do on a baseball <font color=LightSeaGreen><b>field</b></font> that other <font color=Crimson><b>people</b></font> cant</div></div><div class='grand_div'><div class='parent_title_div'><b>k</b> Topics Probability Distribution<br>(from Dirichlet Dist.)<br>on <b>d</b>-th Document πd</div></div></div><div class='grand_grand_box_div'><div class='grand_div'>&nbsp;&nbsp;&nbsp;&nbsp;→<br>p(θ<b>i</b>)<br>= (p(w1|θi),<br>&nbsp;&nbsp;&nbsp;&nbsp;p(w2|θi)),<br>&nbsp;&nbsp;&nbsp;&nbsp;...<br>&nbsp;&nbsp;&nbsp;&nbsp;p(w<b>m</b>|θi))<br><br><br>= (Dirichlet(β1),<br>&nbsp;&nbsp;&nbsp;&nbsp;Dirichlet(β2),<br>&nbsp;&nbsp;&nbsp;&nbsp;...,<br>&nbsp;&nbsp;&nbsp;&nbsp;Dirichlet(β<b>m</b>))<br></div><div class='grand_box_div'><div class='parent_div'><div class='child_text_div'>p(w1|θ<font color='Crimson'><b>5</b></font>)<br>p(w2|θ<font color='Crimson'><b>5</b></font>)<br>...<br>p(wm|θ<font color='Crimson'><b>5</b></font>)</div><div class='child_text_div'>← Topic θ<font color='Crimson'><b>5</b></font></div><div class='child_box_div'><font color=Crimson><b>ohtani</b> (0.0014)</font><br><font color=Crimson><b>unleashed</b> (6e-05)</font><br><font color=Crimson><b>called</b> (0.00141)</font><br><font color=Crimson><b>ohtani</b> (0.0014)</font><br><font color=Crimson><b>rules</b> (0.00313)</font><br><font color=Crimson><b>junked</b> (6e-05)</font><br><font color=Crimson><b>angels</b> (0.00909)</font><br><font color=Crimson><b>freak</b> (6e-05)</font><br><font color=Crimson><b>dominating</b> (0.00562)</font><br><font color=Crimson><b>people</b> (0.00251)</font><br></div><div class='child_sentence_div'>← p(θ<font color='Crimson'><b>5</b></font>) = p(πd,<font color='Crimson'><b>5</b></font>) = <u>Topic <font color='Crimson'><b>5</b></font>: 0.62708974</u> ←</div></div><div class='parent_div'><div class='child_text_div'>p(w1|θ<font color='HotPink'><b>1</b></font>)<br>p(w2|θ<font color='HotPink'><b>1</b></font>)<br>...<br>p(wm|θ<font color='HotPink'><b>1</b></font>)</div><div class='child_text_div'>← Topic θ<font color='HotPink'><b>1</b></font></div><div class='child_box_div'><font color=HotPink><b>super</b> (0.00065)</font><br><font color=HotPink><b>things</b> (0.00603)</font><br></div><div class='child_sentence_div'>← p(θ<font color='HotPink'><b>1</b></font>) = p(πd,<font color='HotPink'><b>1</b></font>) = <u>Topic <font color='HotPink'><b>1</b></font>: 0.13524991</u> ←</div></div><div class='parent_div'><div class='child_text_div'>p(w1|θ<font color='DarkOrange'><b>9</b></font>)<br>p(w2|θ<font color='DarkOrange'><b>9</b></font>)<br>...<br>p(wm|θ<font color='DarkOrange'><b>9</b></font>)</div><div class='child_text_div'>← Topic θ<font color='DarkOrange'><b>9</b></font></div><div class='child_box_div'><font color=DarkOrange><b>hitter</b> (0.00288)</font><br><font color=DarkOrange><b>pitcher</b> (0.00729)</font><br></div><div class='child_sentence_div'>← p(θ<font color='DarkOrange'><b>9</b></font>) = p(πd,<font color='DarkOrange'><b>9</b></font>) = <u>Topic <font color='DarkOrange'><b>9</b></font>: 0.13132621</u> ←</div></div><div class='parent_div'><div class='child_text_div'>p(w1|θ<font color='LightSeaGreen'><b>6</b></font>)<br>p(w2|θ<font color='LightSeaGreen'><b>6</b></font>)<br>...<br>p(wm|θ<font color='LightSeaGreen'><b>6</b></font>)</div><div class='child_text_div'>← Topic θ<font color='LightSeaGreen'><b>6</b></font></div><div class='child_box_div'><font color=LightSeaGreen><b>field</b> (0.01757)</font><br></div><div class='child_sentence_div'>← p(θ<font color='LightSeaGreen'><b>6</b></font>) = p(πd,<font color='LightSeaGreen'><b>6</b></font>) = <u>Topic <font color='LightSeaGreen'><b>6</b></font>: 0.068802096</u> ←</div></div></div><div class='grand_div'>&nbsp;&nbsp;&nbsp;&nbsp;→<br>p(π<b>d</b>)<br>= (p(πd,1),<br>&nbsp;&nbsp;&nbsp;&nbsp;p(πd,2),<br>&nbsp;&nbsp;&nbsp;&nbsp;...<br>&nbsp;&nbsp;&nbsp;&nbsp;p(πd,<b>k</b>))<br><br><br>= (Dirichlet(α1),<br>&nbsp;&nbsp;&nbsp;&nbsp;Dirichlet(α2),<br>&nbsp;&nbsp;&nbsp;&nbsp;...,<br>&nbsp;&nbsp;&nbsp;&nbsp;Dirichlet(α<b>k</b>))<br></div></div>"
      ],
      "text/plain": [
       "<IPython.core.display.HTML object>"
      ]
     },
     "metadata": {},
     "output_type": "display_data"
    },
    {
     "data": {
      "text/markdown": [
       "------------------------------------------------------------------------------------------------------------------------"
      ],
      "text/plain": [
       "<IPython.core.display.Markdown object>"
      ]
     },
     "metadata": {},
     "output_type": "display_data"
    },
    {
     "data": {
      "text/html": [
       "<div class='grand_grand_div'><div class='grand_div'><div class='parent_title_div'><b>m</b> Words Probability Distribution<br>(from Dirichlet Dist.)<br>on <b>i</b>-th Topic θi</div></div><div class='grand_div'><div class='parent_doc_div'><u>Document</u>: mlb roundup <font color=Crimson><b>ohtani</b></font> <font color=DarkOrange><b>late</b></font> <font color=LightSeaGreen><b>homer</b></font> <font color=DodgerBlue><b>lifts</b></font> <font color=Crimson><b>angels</b></font> shohei <font color=Crimson><b>ohtani</b></font> two <font color=HotPink><b>run</b></font> <font color=LightSeaGreen><b>homer</b></font> off <font color=DodgerBlue><b>matt</b></font> <font color=Crimson><b>barnes</b></font> with two outs in the <font color=HotPink><b>ninth</b></font> <font color=LightSeaGreen><b>inning</b></font> <font color=DodgerBlue><b>lifted</b></font> the los <font color=Crimson><b>angeles</b></font> <font color=Crimson><b>angels</b></font> to a <font color=HotPink><b>win</b></font> over <font color=DarkOrange><b>host</b></font> <font color=DarkOrange><b>boston</b></font> on <font color=LightSeaGreen><b>sunday</b></font> <font color=DarkOrange><b>preventing</b></font> the <font color=HotPink><b>red</b></font> <font color=BlueViolet><b>sox</b></font> from <font color=BlueViolet><b>completing</b></font> a three game <font color=LightSeaGreen><b>sweep</b></font></div></div><div class='grand_div'><div class='parent_title_div'><b>k</b> Topics Probability Distribution<br>(from Dirichlet Dist.)<br>on <b>d</b>-th Document πd</div></div></div><div class='grand_grand_box_div'><div class='grand_div'>&nbsp;&nbsp;&nbsp;&nbsp;→<br>p(θ<b>i</b>)<br>= (p(w1|θi),<br>&nbsp;&nbsp;&nbsp;&nbsp;p(w2|θi)),<br>&nbsp;&nbsp;&nbsp;&nbsp;...<br>&nbsp;&nbsp;&nbsp;&nbsp;p(w<b>m</b>|θi))<br><br><br>= (Dirichlet(β1),<br>&nbsp;&nbsp;&nbsp;&nbsp;Dirichlet(β2),<br>&nbsp;&nbsp;&nbsp;&nbsp;...,<br>&nbsp;&nbsp;&nbsp;&nbsp;Dirichlet(β<b>m</b>))<br></div><div class='grand_box_div'><div class='parent_div'><div class='child_text_div'>p(w1|θ<font color='Crimson'><b>5</b></font>)<br>p(w2|θ<font color='Crimson'><b>5</b></font>)<br>...<br>p(wm|θ<font color='Crimson'><b>5</b></font>)</div><div class='child_text_div'>← Topic θ<font color='Crimson'><b>5</b></font></div><div class='child_box_div'><font color=Crimson><b>ohtani</b> (0.0014)</font><br><font color=Crimson><b>angels</b> (0.00909)</font><br><font color=Crimson><b>ohtani</b> (0.0014)</font><br><font color=Crimson><b>barnes</b> (6e-05)</font><br><font color=Crimson><b>angeles</b> (0.00909)</font><br><font color=Crimson><b>angels</b> (0.00909)</font><br></div><div class='child_sentence_div'>← p(θ<font color='Crimson'><b>5</b></font>) = p(πd,<font color='Crimson'><b>5</b></font>) = <u>Topic <font color='Crimson'><b>5</b></font>: 0.27563447</u> ←</div></div><div class='parent_div'><div class='child_text_div'>p(w1|θ<font color='HotPink'><b>1</b></font>)<br>p(w2|θ<font color='HotPink'><b>1</b></font>)<br>...<br>p(wm|θ<font color='HotPink'><b>1</b></font>)</div><div class='child_text_div'>← Topic θ<font color='HotPink'><b>1</b></font></div><div class='child_box_div'><font color=HotPink><b>run</b> (0.01221)</font><br><font color=HotPink><b>ninth</b> (0.0017)</font><br><font color=HotPink><b>win</b> (0.01029)</font><br><font color=HotPink><b>red</b> (0.00224)</font><br></div><div class='child_sentence_div'>← p(θ<font color='HotPink'><b>1</b></font>) = p(πd,<font color='HotPink'><b>1</b></font>) = <u>Topic <font color='HotPink'><b>1</b></font>: 0.17810374</u> ←</div></div><div class='parent_div'><div class='child_text_div'>p(w1|θ<font color='DarkOrange'><b>3</b></font>)<br>p(w2|θ<font color='DarkOrange'><b>3</b></font>)<br>...<br>p(wm|θ<font color='DarkOrange'><b>3</b></font>)</div><div class='child_text_div'>← Topic θ<font color='DarkOrange'><b>3</b></font></div><div class='child_box_div'><font color=DarkOrange><b>late</b> (0.00322)</font><br><font color=DarkOrange><b>host</b> (0.00083)</font><br><font color=DarkOrange><b>boston</b> (0.00726)</font><br><font color=DarkOrange><b>preventing</b> (0.00031)</font><br></div><div class='child_sentence_div'>← p(θ<font color='DarkOrange'><b>3</b></font>) = p(πd,<font color='DarkOrange'><b>3</b></font>) = <u>Topic <font color='DarkOrange'><b>3</b></font>: 0.16520336</u> ←</div></div><div class='parent_div'><div class='child_text_div'>p(w1|θ<font color='LightSeaGreen'><b>0</b></font>)<br>p(w2|θ<font color='LightSeaGreen'><b>0</b></font>)<br>...<br>p(wm|θ<font color='LightSeaGreen'><b>0</b></font>)</div><div class='child_text_div'>← Topic θ<font color='LightSeaGreen'><b>0</b></font></div><div class='child_box_div'><font color=LightSeaGreen><b>homer</b> (0.01919)</font><br><font color=LightSeaGreen><b>homer</b> (0.01919)</font><br><font color=LightSeaGreen><b>inning</b> (0.00316)</font><br><font color=LightSeaGreen><b>sunday</b> (0.00507)</font><br><font color=LightSeaGreen><b>sweep</b> (0.00349)</font><br></div><div class='child_sentence_div'>← p(θ<font color='LightSeaGreen'><b>0</b></font>) = p(πd,<font color='LightSeaGreen'><b>0</b></font>) = <u>Topic <font color='LightSeaGreen'><b>0</b></font>: 0.15270378</u> ←</div></div><div class='parent_div'><div class='child_text_div'>p(w1|θ<font color='DodgerBlue'><b>8</b></font>)<br>p(w2|θ<font color='DodgerBlue'><b>8</b></font>)<br>...<br>p(wm|θ<font color='DodgerBlue'><b>8</b></font>)</div><div class='child_text_div'>← Topic θ<font color='DodgerBlue'><b>8</b></font></div><div class='child_box_div'><font color=DodgerBlue><b>lifts</b> (0.00251)</font><br><font color=DodgerBlue><b>matt</b> (0.00107)</font><br><font color=DodgerBlue><b>lifted</b> (0.00251)</font><br></div><div class='child_sentence_div'>← p(θ<font color='DodgerBlue'><b>8</b></font>) = p(πd,<font color='DodgerBlue'><b>8</b></font>) = <u>Topic <font color='DodgerBlue'><b>8</b></font>: 0.12530664</u> ←</div></div><div class='parent_div'><div class='child_text_div'>p(w1|θ<font color='BlueViolet'><b>9</b></font>)<br>p(w2|θ<font color='BlueViolet'><b>9</b></font>)<br>...<br>p(wm|θ<font color='BlueViolet'><b>9</b></font>)</div><div class='child_text_div'>← Topic θ<font color='BlueViolet'><b>9</b></font></div><div class='child_box_div'><font color=BlueViolet><b>sox</b> (0.00281)</font><br><font color=BlueViolet><b>completing</b> (0.00137)</font><br></div><div class='child_sentence_div'>← p(θ<font color='BlueViolet'><b>9</b></font>) = p(πd,<font color='BlueViolet'><b>9</b></font>) = <u>Topic <font color='BlueViolet'><b>9</b></font>: 0.08769728</u> ←</div></div></div><div class='grand_div'>&nbsp;&nbsp;&nbsp;&nbsp;→<br>p(π<b>d</b>)<br>= (p(πd,1),<br>&nbsp;&nbsp;&nbsp;&nbsp;p(πd,2),<br>&nbsp;&nbsp;&nbsp;&nbsp;...<br>&nbsp;&nbsp;&nbsp;&nbsp;p(πd,<b>k</b>))<br><br><br>= (Dirichlet(α1),<br>&nbsp;&nbsp;&nbsp;&nbsp;Dirichlet(α2),<br>&nbsp;&nbsp;&nbsp;&nbsp;...,<br>&nbsp;&nbsp;&nbsp;&nbsp;Dirichlet(α<b>k</b>))<br></div></div>"
      ],
      "text/plain": [
       "<IPython.core.display.HTML object>"
      ]
     },
     "metadata": {},
     "output_type": "display_data"
    },
    {
     "data": {
      "text/markdown": [
       "------------------------------------------------------------------------------------------------------------------------"
      ],
      "text/plain": [
       "<IPython.core.display.Markdown object>"
      ]
     },
     "metadata": {},
     "output_type": "display_data"
    }
   ],
   "source": [
    "###################################\n",
    "# 7. LDA Model Diagram\n",
    "###################################\n",
    "# CSS for LDA Diagram\n",
    "display(HTML(\"<style>\" +\n",
    "             \".diagram_div { text-align: center; font-size: 24px; }\" +\n",
    "             \".grand_div, .parent_div, .child_title_div, .child_doc_div, .child_text_div, .child_sentence_div, .child_box_div { padding: 10px; }\" +\n",
    "             \".grand_grand_box_div, .child_box_div { border-style: solid; border-width:thin; border-color: #00000; }\" +\n",
    "             \".grand_box_div { border-left: solid; border-right: solid; border-width:thin; border-color: #00000; }\" +\n",
    "             \".grand_grand_div, .grand_grand_box_div { display: flex; }\" +\n",
    "             \".grand_div, .grand_box_div { flex: 1; margin: auto; text-align: left; }\" +\n",
    "             \".parent_title_div { text-align: center; font-size: 16px; }\" +\n",
    "             \".parent_doc_div { width: 800px; background-color: #EAECEE; font-size: 16px; }\" +\n",
    "             \".parent_div { display: flex; width: 800px; }\" +\n",
    "             \".child_text_div, .child_sentence_div { float:left; margin: auto; text-align: center; }\" +\n",
    "             \".child_text_div { width: 100px; }\" +\n",
    "             \".child_sentence_div { width: 300px; }\" +\n",
    "             \".child_box_div { float: left; width: 200px; }</style>\"))\n",
    "\n",
    "TOPIC_COLORS = ['Crimson', 'HotPink', 'DarkOrange', 'LightSeaGreen', 'DodgerBlue', 'BlueViolet', 'Orchid', 'SeaGreen', 'MediumBlue', 'MediumSlateBlue']\n",
    "\n",
    "# Get Topic Distribution in a Document\n",
    "def get_topic_distribution(lda_model, bow):\n",
    "    topic_ids_colors = {}\n",
    "    text_doc_topics = []\n",
    "    doc_topics = lda_model.get_document_topics(bow, minimum_probability=1e-2) # 1e-2 = 10^-2 = 0.01\n",
    "    doc_topics.sort(key=lambda x:x[1], reverse=True)\n",
    "    for i, (topic_id, prob) in enumerate(doc_topics):\n",
    "        topic_ids_colors[topic_id] = TOPIC_COLORS[i]\n",
    "    return topic_ids_colors, doc_topics\n",
    "\n",
    "# Create Term with most likely Topic Map\n",
    "def create_term_topic_map(lda_model, bow):\n",
    "    terms_topic = {}\n",
    "    for word_id, freq in bow:\n",
    "        term_topics = lda_model.get_term_topics(word_id, minimum_probability=1e-5) # 1e-5 = 10^-5 = 0.00001\n",
    "        if term_topics:\n",
    "            term_topics.sort(key=lambda x:x[1], reverse=True)\n",
    "            terms_topic[DICTIONARY[word_id]] = term_topics[0] # terms_topic[term] = (topic_id, prob) <- the top tuple has the highest prob\n",
    "    return terms_topic\n",
    "\n",
    "# Display Term with most likely Topic\n",
    "def display_terms_topic(doc, terms_topic, topic_ids_colors, doc_topics):\n",
    "    text_terms_topic = []\n",
    "    text_topic_terms_probs = {}\n",
    "    for word in doc.split():\n",
    "        word_color = word\n",
    "        vocab = create_vocabulary([word])[0]; # [['shohei']] -> ['shohei']\n",
    "        if vocab and vocab[0] in terms_topic: # ['shohei'] -> 'shohei'\n",
    "            term = vocab[0]\n",
    "            if term in terms_topic:\n",
    "                topic_id = terms_topic[term][0]\n",
    "                prob = terms_topic[term][1]\n",
    "                if topic_id in topic_ids_colors:\n",
    "                    color = topic_ids_colors[topic_id]\n",
    "                    word_color = '<font color=' + color + '><b>' + word + '</b></font>'\n",
    "                    word_prob = '<font color=' + color + '><b>' + word + '</b> (' + str(round(prob, 5)) + ')</font><br>'\n",
    "                    text_topic_terms_probs[topic_id] = text_topic_terms_probs.get(topic_id, '') + word_prob\n",
    "        text_terms_topic.append(word_color)\n",
    "    \n",
    "    # Title Section\n",
    "    title1 = \"<b>m</b> Words Probability Distribution<br>(from Dirichlet Dist.)<br>on <b>i</b>-th Topic θi\"\n",
    "    title2 = \"<u>Document</u>: \" + \" \".join(text_terms_topic)\n",
    "    title3 = \"<b>k</b> Topics Probability Distribution<br>(from Dirichlet Dist.)<br>on <b>d</b>-th Document πd\"\n",
    "    titles = \"<div class='grand_grand_div'>\"\n",
    "    titles += \"<div class='grand_div'><div class='parent_title_div'>\" + title1 + \"</div></div>\"\n",
    "    titles += \"<div class='grand_div'><div class='parent_doc_div'>\" + title2 + \"</div></div>\"\n",
    "    titles += \"<div class='grand_div'><div class='parent_title_div'>\" + title3 + \"</div></div></div>\"\n",
    "\n",
    "    # Diagram Section\n",
    "    html = ''\n",
    "    for i, (topic_id, prob) in enumerate(doc_topics):\n",
    "        words_probs = text_topic_terms_probs[topic_id]\n",
    "        color = topic_ids_colors[topic_id]\n",
    "        id = \"<font color='\" + color + \"'><b>\" + str(topic_id) + \"</b></font>\"\n",
    "        words = \"p(w1|θ\" + id + \")<br>p(w2|θ\" + id + \")<br>...<br>p(wm|θ\" + id + \")\"\n",
    "        topic = \"← Topic θ\" + id\n",
    "        formula = \"← p(θ\" + id + \") = p(πd,\" + id + \") = <u>Topic \" + id + \": \" + str(prob) + \"</u> ←\"\n",
    "        html += \"<div class='parent_div'><div class='child_text_div'>\" + words + \"</div><div class='child_text_div'>\" + topic + \"</div><div class='child_box_div'>\" + words_probs + \"</div><div class='child_sentence_div'>\" + formula + \"</div></div>\" # color = topic_ids_colors[topic_id]\n",
    "\n",
    "    nbsps = \"&nbsp;&nbsp;&nbsp;&nbsp;\"\n",
    "    div1 = nbsps + \"→<br>p(θ<b>i</b>)<br>= (p(w1|θi),<br>\" + nbsps + \"p(w2|θi)),<br>\" + nbsps + \"...<br>\" + nbsps + \"p(w<b>m</b>|θi))<br><br><br>\"\n",
    "    div1 += \"= (Dirichlet(β1),<br>\" + nbsps + \"Dirichlet(β2),<br>\" + nbsps + \"...,<br>\" + nbsps + \"Dirichlet(β<b>m</b>))<br>\"\n",
    "    div2 = nbsps + \"→<br>p(π<b>d</b>)<br>= (p(πd,1),<br>\" + nbsps + \"p(πd,2),<br>\" + nbsps + \"...<br>\" + nbsps + \"p(πd,<b>k</b>))<br><br><br>\"\n",
    "    div2 += \"= (Dirichlet(α1),<br>\" + nbsps + \"Dirichlet(α2),<br>\" + nbsps + \"...,<br>\" + nbsps + \"Dirichlet(α<b>k</b>))<br>\"\n",
    "    divs = \"<div class='grand_grand_box_div'>\"\n",
    "    divs += \"<div class='grand_div'>\" + div1 + \"</div>\"\n",
    "    divs += \"<div class='grand_box_div'>\" + html + \"</div>\"\n",
    "    divs += \"<div class='grand_div'>\" + div2 + \"</div></div>\"\n",
    "    display(HTML(titles + divs))\n",
    "    display(Markdown(f'------------------------------------------------------------------------------------------------------------------------'))\n",
    "\n",
    "# Display Diagram\n",
    "def display_diagram(lda_model, docs):\n",
    "    trigram_terms_2021, corpus_2021 = create_trigram_corpus(docs)\n",
    "    for i, bow in enumerate(corpus_2021):\n",
    "        \n",
    "        # Get Topic Distribution in a Document\n",
    "        topic_ids_colors, doc_topics = get_topic_distribution(lda_model, bow)\n",
    "        \n",
    "        # Create Term with most likely Topic Map\n",
    "        terms_topic = create_term_topic_map(lda_model, bow)\n",
    "        \n",
    "        # Display Term with most likely Topic\n",
    "        display_terms_topic(docs[i], terms_topic, topic_ids_colors, doc_topics)\n",
    "\n",
    "# LDA Model Diagram\n",
    "display(HTML(\"<div class='diagram_div'><u>LDA Model Diagram: m Words per Topic & k Topics per Document - 2 samples</u></div>\"))\n",
    "docs_2021 = [articles[articles['id']==\"20210514403\"].text.values[0], articles[articles['id']==\"20210517104\"].text.values[0]] # ['shohei ohtani ...', '']\n",
    "display_diagram(lda_model_2021, docs_2021)"
   ]
  },
  {
   "cell_type": "code",
   "execution_count": null,
   "id": "18c6f466",
   "metadata": {},
   "outputs": [],
   "source": []
  }
 ],
 "metadata": {
  "kernelspec": {
   "display_name": "mlb",
   "language": "python",
   "name": "mlb"
  },
  "language_info": {
   "codemirror_mode": {
    "name": "ipython",
    "version": 3
   },
   "file_extension": ".py",
   "mimetype": "text/x-python",
   "name": "python",
   "nbconvert_exporter": "python",
   "pygments_lexer": "ipython3",
   "version": "3.9.4"
  }
 },
 "nbformat": 4,
 "nbformat_minor": 5
}
